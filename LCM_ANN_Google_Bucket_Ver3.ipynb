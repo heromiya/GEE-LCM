{
 "cells": [
  {
   "cell_type": "code",
   "execution_count": 1,
   "id": "ffb2194a-de84-4631-bc4a-292b2ffbe89b",
   "metadata": {},
   "outputs": [],
   "source": [
    "import os\n",
    "from pprint import pprint\n",
    "from google.cloud import storage\n",
    "\n",
    "os.environ['GOOGLE_APPLICATION_CREDENTIALS'] = r'land-cover-mapping.json'\n",
    "\n",
    "storage_client = storage.Client()"
   ]
  },
  {
   "cell_type": "code",
   "execution_count": 2,
   "id": "7bca8d24-aa79-4757-9ba8-bcc985c180a4",
   "metadata": {},
   "outputs": [
    {
     "data": {
      "text/html": [
       "<p>To authorize access needed by Earth Engine, open the following\n",
       "        URL in a web browser and follow the instructions:</p>\n",
       "        <p><a href=https://accounts.google.com/o/oauth2/auth?client_id=517222506229-vsmmajv00ul0bs7p89v5m89qs8eb9359.apps.googleusercontent.com&scope=https%3A%2F%2Fwww.googleapis.com%2Fauth%2Fearthengine+https%3A%2F%2Fwww.googleapis.com%2Fauth%2Fdevstorage.full_control&redirect_uri=urn%3Aietf%3Awg%3Aoauth%3A2.0%3Aoob&response_type=code&code_challenge=hlN12I3JYENbhT83wCINd_x9kPQoritUOq0zlW-P6NI&code_challenge_method=S256>https://accounts.google.com/o/oauth2/auth?client_id=517222506229-vsmmajv00ul0bs7p89v5m89qs8eb9359.apps.googleusercontent.com&scope=https%3A%2F%2Fwww.googleapis.com%2Fauth%2Fearthengine+https%3A%2F%2Fwww.googleapis.com%2Fauth%2Fdevstorage.full_control&redirect_uri=urn%3Aietf%3Awg%3Aoauth%3A2.0%3Aoob&response_type=code&code_challenge=hlN12I3JYENbhT83wCINd_x9kPQoritUOq0zlW-P6NI&code_challenge_method=S256</a></p>\n",
       "        <p>The authorization workflow will generate a code, which you\n",
       "        should paste in the box below</p>\n",
       "        "
      ],
      "text/plain": [
       "<IPython.core.display.HTML object>"
      ]
     },
     "metadata": {},
     "output_type": "display_data"
    },
    {
     "name": "stdin",
     "output_type": "stream",
     "text": [
      "Enter verification code:  4/1AX4XfWi9_Zax56wOYlrvRsyVa16XUiCZ2I91zqtavItK-kDTTkb0Ilbc6Eo\n"
     ]
    },
    {
     "name": "stdout",
     "output_type": "stream",
     "text": [
      "\n",
      "Successfully saved authorization token.\n"
     ]
    }
   ],
   "source": [
    "import ee\n",
    "ee.Authenticate()\n",
    "ee.Initialize()"
   ]
  },
  {
   "cell_type": "code",
   "execution_count": 3,
   "id": "43dac9c1-bdf0-4db4-a48e-0e824eb321d7",
   "metadata": {
    "tags": []
   },
   "outputs": [],
   "source": [
    "import glob\n",
    "import shutil\n",
    "import time\n",
    "import json\n",
    "\n",
    "import numpy as np\n",
    "import tensorflow as tf\n",
    "import folium\n",
    "\n",
    "from osgeo import gdal\n",
    "from osgeo import osr\n",
    "import matplotlib.pyplot as plt"
   ]
  },
  {
   "cell_type": "code",
   "execution_count": 4,
   "id": "06bfbeed-5a39-4c07-ae4f-41c3d8e14d77",
   "metadata": {},
   "outputs": [
    {
     "name": "stdin",
     "output_type": "stream",
     "text": [
      "User Name:  Zahid_Wani_ADAM_01\n",
      "GEE Legacy Assets:  users/zahidwani/gt_pt_60\n"
     ]
    }
   ],
   "source": [
    "# Change the UserName and ref_point_name\n",
    "UserName = str(input(\"User Name: \")) # ZahidWani\n",
    "ref_point_name = str(input('GEE Legacy Assets: ')) # users/zahidwani/gt_pt_60"
   ]
  },
  {
   "cell_type": "code",
   "execution_count": 5,
   "id": "a8318bae-f5fc-4ccd-8f1a-ec4a5f984126",
   "metadata": {},
   "outputs": [
    {
     "name": "stdin",
     "output_type": "stream",
     "text": [
      "City Name:  Ethiopia\n",
      "Maximum Latitute:  14.911944087898716\n",
      "Minimum Latitute:  11.9\n",
      "Maximum Longitude:  39.102228429963795\n",
      "Minimum Longitude:  36.663263586213795\n",
      "Begining Year of Landsat data:  1990\n",
      "Ending Year of Landsat data:  1990\n",
      "Begining Day of Landsat data:  1\n",
      "Ending Day of Landsat data:  366\n",
      "Epoch:  250\n",
      "Spatial Resolution:  60\n",
      "Model output array of shape:  512\n",
      "Model learning rate:  0.001\n"
     ]
    }
   ],
   "source": [
    "cName = str(input('City Name: ')) # Ethiopia\n",
    "lat_max = float(input('Maximum Latitute: ')) # 14.911944087898716\n",
    "lat_min = float(input('Minimum Latitute: ')) # 11.9\n",
    "lon_max = float(input('Maximum Longitude: ')) # 39.102228429963795\n",
    "lon_min = float(input('Minimum Longitude: ')) # 36.663263586213795\n",
    "lyb = int(input('Begining Year of Landsat data: ')) # 1990\n",
    "lye = int(input('Ending Year of Landsat data: ')) # 1990\n",
    "ldb = int(input('Begining Day of Landsat data: ')) # 1\n",
    "lde = int(input('Ending Day of Landsat data: ')) # 366\n",
    "ep = int(input('Epoch: ')) # 25\n",
    "sr = int(input('Spatial Resolution: ')) # 120\n",
    "moas = int(input('Model output array of shape: ')) # 512, 128, 64\n",
    "lr = float(input('Model learning rate: ')) # 0.001, 0.0001"
   ]
  },
  {
   "cell_type": "code",
   "execution_count": 6,
   "id": "cdac0fa4-9aaa-4245-baed-35b2cc8cbfce",
   "metadata": {},
   "outputs": [
    {
     "name": "stdout",
     "output_type": "stream",
     "text": [
      "1645199586\n"
     ]
    }
   ],
   "source": [
    "ts = time.time()\n",
    "timestamp = int(ts)\n",
    "\n",
    "blob_name = UserName + '_' + str(timestamp) + '/'\n",
    "\n",
    "project_name = 'land-cover-mapping-340607'\n",
    "bucket_name = 'landcovermapping'\n",
    "\n",
    "gcs_client = storage.Client(project=project_name)\n",
    "bucket = gcs_client.get_bucket(bucket_name)\n",
    "blob = bucket.blob(blob_name)\n",
    "blob.upload_from_string('', content_type='application/x-www-form-urlencoded;charset=UTF-8')\n",
    "print(str(timestamp))"
   ]
  },
  {
   "cell_type": "code",
   "execution_count": 7,
   "id": "2ae2d0a1-3659-41a1-98bc-b7abc76570e7",
   "metadata": {},
   "outputs": [],
   "source": [
    "def reduce_class_value(feat):\n",
    "  return feat.set('class', ee.Number(feat.get('class')).subtract(1))\n",
    "\n",
    "\n",
    "def cloudMask(img):\n",
    "  return img.updateMask(img.select('BQA').lt(64))\n",
    "  \n",
    "\n",
    "def select_landsat(year):\n",
    "  if (year >= 2013):\n",
    "    return {\n",
    "        'bands': ['B2', 'B3', 'B4', 'B5', 'B6', 'B7'],\n",
    "        'FCCbands': ['B5', 'B4', 'B3'],\n",
    "        'TextureBand': ['B5'],\n",
    "        'bandsClassify': ['B2', 'B3', 'B4', 'B5', 'B6', 'B7','B5_1'],\n",
    "        'bandsGLCM': ['B2', 'B3', 'B4', 'B5', 'B6', 'B7', 'B5_asm', 'B5_contrast', \"B5_corr\", \"B5_var\", \"B5_idm\", \"B5_savg\", \"B5_svar\", \"B5_sent\", \"B5_ent\", \"B5_dvar\", \"B5_dent\", \"B5_imcorr1\", \"B5_imcorr2\",\"B5_maxcorr\", \"B5_diss\",  \"B5_inertia\", \"B5_shade\", \"B5_prom\"],\n",
    "        'Landsat': 'LANDSAT/LC08/C01/T1'\n",
    "    }\n",
    "\n",
    "  if (year >= 1999 and year <= 2002):\n",
    "    return {\n",
    "        'bands': ['B1', 'B2', 'B3', 'B4', 'B5', 'B7'],\n",
    "        'TextureBand': ['B4'],\n",
    "        'bandsClassify': ['B1', 'B2', 'B3', 'B4', 'B5', 'B7','B4_1'],\n",
    "        'bandsGLCM': ['B1', 'B2', 'B3', 'B4', 'B5', 'B7', 'B4_asm', 'B4_contrast',\"B4_corr\", \"B4_var\",\"B4_idm\",\"B4_savg\", \"B4_svar\",\"B4_sent\",\"B4_ent\",\"B4_dvar\",\"B4_dent\",\"B4_imcorr1\", \"B4_imcorr2\",\"B4_maxcorr\",\"B4_diss\",\"B4_inertia\",\"B4_shade\",\"B4_prom\"],\n",
    "        'FCCbands': ['B4', 'B3', 'B2'],\n",
    "        'Landsat': 'LANDSAT/LE07/C01/T1'\n",
    "    }\n",
    "\n",
    "  if (year >= 1984 and year <= 1998 or year >=2003 and year <=2012):\n",
    "    return{\n",
    "        'bands': ['B1', 'B2', 'B3', 'B4', 'B5', 'B7'],\n",
    "        'bandsClassify': ['B1', 'B2', 'B3', 'B4', 'B5', 'B7','B4_1'],\n",
    "        'bandsGLCM': ['B1', 'B2', 'B3', 'B4', 'B5', 'B7', 'B4_asm', 'B4_contrast',\"B4_corr\", \"B4_var\",\"B4_idm\",\"B4_savg\", \"B4_svar\",\"B4_sent\",\"B4_ent\",\"B4_dvar\",\"B4_dent\",\"B4_imcorr1\", \"B4_imcorr2\",\"B4_maxcorr\",\"B4_diss\",\"B4_inertia\",\"B4_shade\",\"B4_prom\"],\n",
    "        'FCCbands': ['B4', 'B3', 'B2'],\n",
    "        'TextureBand': ['B4'],\n",
    "        'Landsat': 'LANDSAT/LT05/C01/T1'\n",
    "    }\n",
    "  \n",
    "  if (year == 1983):\n",
    "    return{\n",
    "        'bands': ['B1', 'B2', 'B3', 'B4', 'B5', 'B7'],\n",
    "        'bandsClassify': ['B1', 'B2', 'B3', 'B4', 'B5', 'B7','B4_1'],\n",
    "        'bandsGLCM': ['B1', 'B2', 'B3', 'B4', 'B5', 'B7', 'B4_asm', 'B4_contrast',\"B4_corr\", \"B4_var\",\"B4_idm\",\"B4_savg\", \"B4_svar\",\"B4_sent\",\"B4_ent\",\"B4_dvar\",\"B4_dent\",\"B4_imcorr1\", \"B4_imcorr2\",\"B4_maxcorr\",\"B4_diss\",\"B4_inertia\",\"B4_shade\",\"B4_prom\"],\n",
    "        'FCCbands': ['B4', 'B3', 'B2'],\n",
    "        'TextureBand': ['B4'],\n",
    "        'Landsat': 'LANDSAT/LT04/C01/T1'\n",
    "    }\n",
    "  \n",
    "  if (year >= 1979 and year <= 1982):\n",
    "    return {\n",
    "        'bands': ['B4_median', 'B5_median', 'B6_median','B7_median','B6_median_1'],\n",
    "        'bandsClassify': ['B4_median', 'B5_median', 'B6_median', 'B7_median'],\n",
    "        'FCCbands': ['B6_median', 'B5_median', 'B4_median'],\n",
    "        'TextureBand': ['B6_median'],\n",
    "        'Landsat': 'LANDSAT/LM03/C01/T1'\n",
    "    }\n",
    "\n",
    "  if (year >= 1975 and year <= 1978):\n",
    "    return {\n",
    "        'bands': ['B4_median', 'B5_median', 'B6_median','B7_median','B6_median_1'],\n",
    "        'bandsClassify': ['B4_median', 'B5_median', 'B6_median', 'B7_median'],\n",
    "        'FCCbands': ['B6_median', 'B5_median', 'B4_median'],\n",
    "        'TextureBand': ['B6_median'],\n",
    "        'Landsat': 'LANDSAT/LM02/C01/T2'\n",
    "    }\n",
    "\n",
    "  if (year >= 1972 and year <= 1974):\n",
    "    return {\n",
    "        'bands': ['B4_median', 'B5_median', 'B6_median','B7_median','B6_median_1'],\n",
    "        'bandsClassify': ['B4_median', 'B5_median', 'B6_median', 'B7_median'],\n",
    "        'FCCbands': ['B6_median', 'B5_median', 'B4_median'],\n",
    "        'TextureBand': ['B6_median'],\n",
    "        'Landsat': 'LANDSAT/LM01/C01/T2'\n",
    "    }"
   ]
  },
  {
   "cell_type": "code",
   "execution_count": 8,
   "id": "3b1f4975-6b1f-461b-a7d7-5b345560a143",
   "metadata": {},
   "outputs": [],
   "source": [
    "def landsat_product(landsat_id):\n",
    "  if(landsat_id == 'LANDSAT/LM01/C01/T2' or landsat_id == 'LANDSAT/LM02/C01/T2' or landsat_id == 'LANDSAT/LM03/C01/T1'):\n",
    "    image = ee.ImageCollection(landsat_id).filterDate(str(gtYearBegin) + '-01-01',str(gtYearEnd) + '-12-31').filter(ROI[roi]['doyFilterLandsat']).filterBounds(out_ext).filterMetadata('CLOUD_COVER_LAND', 'less_than', 20).map(cloudMask).reduce(ee.Reducer.median())\n",
    "    return {\n",
    "      'region': image.geometry().bounds().getInfo(),\n",
    "      'image': image,\n",
    "      'image_int': image.toByte()       \n",
    "    }\n",
    "  else:\n",
    "    image_col = ee.ImageCollection(landsat_id).filterDate(str(gtYearBegin) + '-01-01',str(gtYearEnd) + '-12-31').filter(ROI[roi]['doyFilterLandsat']).filterBounds(out_ext)\n",
    "    return {\n",
    "      'region': image_col.geometry().bounds().getInfo(),\n",
    "      'image': ee.Algorithms.Landsat.simpleComposite(image_col, 50, cloud, 40, True),\n",
    "      'image_int': ee.Algorithms.Landsat.simpleComposite(image_col, 50, cloud, 40, False)\n",
    "  }"
   ]
  },
  {
   "cell_type": "code",
   "execution_count": 9,
   "id": "ec834227-8689-43c5-b2cf-48357528c462",
   "metadata": {},
   "outputs": [],
   "source": [
    "def add_indices(params, product):\n",
    "  \n",
    "  if(params['Landsat']=='LANDSAT/LC08/C01/T1'):\n",
    "    swir  = product['image'].select('B6')\n",
    "    nir   = product['image'].select('B5')\n",
    "    red   = product['image'].select('B4')\n",
    "    green = product['image'].select('B3')\n",
    "\n",
    "    ndvi  = nir.subtract(red).divide(nir.add(red))\n",
    "    ndbi  = swir.subtract(nir).divide(swir.add(nir))\n",
    "    bi    = ndbi.subtract(ndvi)\n",
    "    ndwi  = green.subtract(swir).divide(green.add(swir))\n",
    "\n",
    "    product['image'] = product['image'].addBands([ndvi, ndbi, bi, ndwi])\n",
    "    product['image'] = product['image'].rename('B1','B2','B3','B4','B5','B6','B7','B8','B9','B10','B11','ndvi','ndbi','bi','ndwi')\n",
    "\n",
    "    params['bandsClassify'].extend(['ndvi', 'ndbi', 'bi', 'ndwi'])\n",
    "\n",
    "\n",
    "  if(params['Landsat'] == 'LANDSAT/LE07/C01/T1'):\n",
    "    swir  = product['image'].select('B5')\n",
    "    nir   = product['image'].select('B4')\n",
    "    red   = product['image'].select('B3')\n",
    "    green = product['image'].select('B2')\n",
    "\n",
    "    ndvi  = nir.subtract(red).divide(nir.add(red))\n",
    "    ndbi  = swir.subtract(nir).divide(swir.add(nir))\n",
    "    bi    = ndbi.subtract(ndvi)\n",
    "    ndwi  = green.subtract(swir).divide(green.add(swir))\n",
    "\n",
    "    product['image'] = product['image'].addBands([ndvi, ndbi, bi, ndwi])\n",
    "    product['image'] = product['image'].rename('B1','B2','B3','B4','B5','B6_VCID_1','B6_VCID_2','B7','B8','ndvi','ndbi','bi','ndwi')\n",
    "\n",
    "    params['bandsClassify'].extend(['ndvi', 'ndbi', 'bi', 'ndwi'])\n",
    "    \n",
    "\n",
    "  if(params['Landsat'] == 'LANDSAT/LM04/C01/T1' or params['Landsat'] == 'LANDSAT/LT05/C01/T1'):\n",
    "    swir  = product['image'].select('B5')\n",
    "    nir   = product['image'].select('B4')\n",
    "    red   = product['image'].select('B3')\n",
    "    green = product['image'].select('B2')\n",
    "\n",
    "    ndvi  = nir.subtract(red).divide(nir.add(red))\n",
    "    ndbi  = swir.subtract(nir).divide(swir.add(nir))\n",
    "    bi    = ndbi.subtract(ndvi)\n",
    "    ndwi  = green.subtract(swir).divide(green.add(swir))\n",
    "\n",
    "    product['image'] = product['image'].addBands([ndvi, ndbi, bi, ndwi])\n",
    "    product['image'] = product['image'].rename('B1','B2','B3','B4','B5','B6','B7','ndvi','ndbi','bi','ndwi')\n",
    "\n",
    "    params['bandsClassify'].extend(['ndvi', 'ndbi', 'bi', 'ndwi'])\n",
    "\n",
    "\n",
    "  if(params['Landsat'] == 'LANDSAT/LM01/C01/T2' or params['Landsat'] == 'LANDSAT/LM02/C01/T2' or params['Landsat'] == 'LANDSAT/LM03/C01/T1'):\n",
    "    swir = product['image'].select('B6_median')\n",
    "    nir = product['image'].select('B6_median')\n",
    "    red = product['image'].select('B5_median')\n",
    "\n",
    "    ndvi = nir.subtract(red).divide(nir.add(red))\n",
    "\n",
    "    product['image'] = product['image'].addBands(ndvi)\n",
    "    product['image'] = product['image'].rename('B4_median','B5_median','B6_median','B7_median','BQA_median','ndvi')\n",
    "\n",
    "    params['bandsClassify'].append('ndvi')"
   ]
  },
  {
   "cell_type": "code",
   "execution_count": 10,
   "id": "0d6606c0-1a9c-4bdb-a7cf-b33e054833df",
   "metadata": {},
   "outputs": [],
   "source": [
    "ROI = [\n",
    "       {'cityName': cName, 'LatMax': lat_max, 'LatMin': lat_min, 'LonMax': lon_max, 'LonMin': lon_min, 'yearBegin':lyb, 'yearEnd':lye, 'doyFilter':ee.Filter.And(ee.Filter.greaterThanOrEquals('doy',  ldb), ee.Filter.lessThanOrEquals('doy',  lde)), 'doyFilterLandsat': ee.Filter.dayOfYear(ldb,lde)},\n",
    "        # {'cityName': 'Ethiopia', 'LatMax': 14.911944087898716, 'LatMin': 11.9, 'LonMax': 39.102228429963795, 'LonMin': 36.663263586213795, 'yearBegin':1990, 'yearEnd':1990, 'doyFilter':ee.Filter.And(ee.Filter.greaterThanOrEquals('doy',  1), ee.Filter.lessThanOrEquals('doy',  366)), 'doyFilterLandsat': ee.Filter.dayOfYear(1,366)},\n",
    "      #  {'cityName': 'Laguna Lake-Wet', 'LatMax': 14.5758304600000006, 'LatMin': 13.9641799899999999, 'LonMax': 121.6324386600000054, 'LonMin': 121.0053329499999961, 'yearBegin':1976, 'yearEnd':1976, 'doyFilter':ee.Filter.And(ee.Filter.greaterThanOrEquals('doy',  153), ee.Filter.lessThanOrEquals('doy',  305)), 'doyFilterLandsat': ee.Filter.dayOfYear(153, 305)},\n",
    "      #  {'cityName': 'Laguna Lake-Dry', 'LatMax': 14.5758304600000006, 'LatMin': 13.9641799899999999, 'LonMax': 121.6324386600000054, 'LonMin': 121.0053329499999961, 'yearBegin':1976, 'yearEnd':1976, 'doyFilter':ee.Filter.Or(ee.Filter.greaterThanOrEquals('doy',  306), ee.Filter.lessThanOrEquals('doy',  152)), 'doyFilterLandsat': ee.Filter.Or(ee.Filter.dayOfYear(1, 152),ee.Filter.dayOfYear(306, 366))}\n",
    "]"
   ]
  },
  {
   "cell_type": "code",
   "execution_count": 11,
   "id": "d0362a2c-2f44-4066-bbf4-725323fcf9d5",
   "metadata": {},
   "outputs": [],
   "source": [
    "roi= ''\n",
    "kernel = ee.Kernel.gaussian(1)\n",
    "# kernel_3 = ee.Kernel.gaussian(3)\n",
    "# kernel_5 = ee.Kernel.gaussian(5)\n",
    "\n",
    "out_ext = ''\n",
    "\n",
    "cloud = 30\n",
    "spatial_resolution = sr\n",
    "n_sample = 10000\n",
    "distance = 370000\n",
    "\n",
    "base_distance = 5000\n",
    "patch_size = 256\n",
    "buffer_distance = base_distance * (round((spatial_resolution * 0.5 * patch_size)/base_distance) +1)"
   ]
  },
  {
   "cell_type": "code",
   "execution_count": 12,
   "id": "9070beb9-fa26-4078-aeaf-7882e8a082c6",
   "metadata": {},
   "outputs": [],
   "source": [
    "ref_point = ee.FeatureCollection(ref_point_name)\n",
    "ref_point = ref_point.map(reduce_class_value)"
   ]
  },
  {
   "cell_type": "code",
   "execution_count": 13,
   "id": "64f3f44d-17c9-4c52-98f8-f4f817b56357",
   "metadata": {},
   "outputs": [],
   "source": [
    "for roi in range(0, len(ROI), 1):\n",
    "  city_name = ROI[roi]['cityName']\n",
    "  year_begin = ROI[roi]['yearBegin']\n",
    "  year_end = ROI[roi]['yearEnd']\n",
    "\n",
    "  USER_NAME = UserName\n",
    "  IMAGE_FILE_PREFIX = city_name + '_' + str(year_begin) + '_' + str(year_end) + '_' + str(timestamp)\n",
    "  FOLDER_NAME = USER_NAME + '_' + IMAGE_FILE_PREFIX + '_' + str(timestamp)\n",
    "\n",
    "  for year in range(year_begin, year_end+1, 1):\n",
    "    nSampleClass = []\n",
    "    out_ext = ee.Geometry.Rectangle([ ROI[roi]['LonMin'], ROI[roi]['LatMin'], ROI[roi]['LonMax'], ROI[roi]['LatMax']])\n",
    "    out_ext_center = out_ext.centroid()\n",
    "\n",
    "    out_ext_buffer = out_ext.buffer(buffer_distance).bounds()\n",
    "\n",
    "    center_lat = out_ext_center.getInfo()['coordinates'][1]\n",
    "    center_lon = out_ext_center.getInfo()['coordinates'][0]\n",
    "\n",
    "    landsat_params = select_landsat(year_begin)\n",
    "\n",
    "    gtYearBegin = year_begin\n",
    "    gtYearEnd = year_end\n",
    "\n",
    "\n",
    "    product = landsat_product(landsat_params['Landsat'])\n",
    "    \n",
    "    LABEL_DATA = ref_point.filter(ee.Filter.And(ee.Filter.greaterThanOrEquals('year', gtYearBegin), ee.Filter.lessThanOrEquals('year', gtYearEnd), ROI[roi]['doyFilter']))\n",
    "    LABEL_DATA = LABEL_DATA.filterBounds(product['region'])\n",
    "\n",
    "    add_indices(landsat_params, product)\n",
    "\n",
    "    gt_image = product['image']\n",
    "    gt_image_int = product['image_int']\n",
    "    gt_image_texture = gt_image.addBands(gt_image_int.select(landsat_params['TextureBand']).entropy(kernel))\n",
    "\n",
    "    out_image = product['image'].clip(out_ext_buffer)\n",
    "    out_image_int = product['image_int'].clip(out_ext_buffer)\n",
    "    out_image_texture = out_image.addBands(out_image_int.select(landsat_params['TextureBand']).entropy(kernel))\n",
    "    \n",
    "#     gt_image = product['image']\n",
    "#     gt_image_int = product['image_int']\n",
    "\n",
    "#     gt_image_texture = gt_image.addBands(gt_image_int.select(landsat_params['TextureBand']).entropy(kernel_1))\n",
    "#     gt_image_texture = gt_image.addBands(gt_image_int.select(landsat_params['TextureBand']).entropy(kernel_3))\n",
    "#     gt_image_texture = gt_image.addBands(gt_image_int.select(landsat_params['TextureBand']).entropy(kernel_5))\n",
    "\n",
    "#     out_image = product['image'].clip(out_ext_buffer)\n",
    "#     out_image_int = product['image_int'].clip(out_ext_buffer)\n",
    "#     out_image_texture = out_image.addBands(out_image_int.select(landsat_params['TextureBand']).entropy(kernel_1))\n",
    "#     out_image_texture = out_image.addBands(out_image_int.select(landsat_params['TextureBand']).entropy(kernel_3))  \n",
    "#     out_image_texture = out_image.addBands(out_image_int.select(landsat_params['TextureBand']).entropy(kernel_5))"
   ]
  },
  {
   "cell_type": "code",
   "execution_count": 14,
   "id": "3164b9f9-f0a1-4a52-b9a4-801ff8c4cea3",
   "metadata": {},
   "outputs": [
    {
     "data": {
      "text/plain": [
       "<ee.image.Image at 0x21911f26d90>"
      ]
     },
     "execution_count": 14,
     "metadata": {},
     "output_type": "execute_result"
    }
   ],
   "source": [
    "out_image"
   ]
  },
  {
   "cell_type": "code",
   "execution_count": 15,
   "id": "8aa407cc-7aed-46c6-80e9-daa13cd27893",
   "metadata": {},
   "outputs": [
    {
     "data": {
      "text/html": [
       "<div style=\"width:100%;\"><div style=\"position:relative;width:100%;height:0;padding-bottom:60%;\"><span style=\"color:#565656\">Make this Notebook Trusted to load map: File -> Trust Notebook</span><iframe src=\"about:blank\" style=\"position:absolute;width:100%;height:100%;left:0;top:0;border:none !important;\" data-html=%3C%21DOCTYPE%20html%3E%0A%3Chead%3E%20%20%20%20%0A%20%20%20%20%3Cmeta%20http-equiv%3D%22content-type%22%20content%3D%22text/html%3B%20charset%3DUTF-8%22%20/%3E%0A%20%20%20%20%0A%20%20%20%20%20%20%20%20%3Cscript%3E%0A%20%20%20%20%20%20%20%20%20%20%20%20L_NO_TOUCH%20%3D%20false%3B%0A%20%20%20%20%20%20%20%20%20%20%20%20L_DISABLE_3D%20%3D%20false%3B%0A%20%20%20%20%20%20%20%20%3C/script%3E%0A%20%20%20%20%0A%20%20%20%20%3Cstyle%3Ehtml%2C%20body%20%7Bwidth%3A%20100%25%3Bheight%3A%20100%25%3Bmargin%3A%200%3Bpadding%3A%200%3B%7D%3C/style%3E%0A%20%20%20%20%3Cstyle%3E%23map%20%7Bposition%3Aabsolute%3Btop%3A0%3Bbottom%3A0%3Bright%3A0%3Bleft%3A0%3B%7D%3C/style%3E%0A%20%20%20%20%3Cscript%20src%3D%22https%3A//cdn.jsdelivr.net/npm/leaflet%401.6.0/dist/leaflet.js%22%3E%3C/script%3E%0A%20%20%20%20%3Cscript%20src%3D%22https%3A//code.jquery.com/jquery-1.12.4.min.js%22%3E%3C/script%3E%0A%20%20%20%20%3Cscript%20src%3D%22https%3A//maxcdn.bootstrapcdn.com/bootstrap/3.2.0/js/bootstrap.min.js%22%3E%3C/script%3E%0A%20%20%20%20%3Cscript%20src%3D%22https%3A//cdnjs.cloudflare.com/ajax/libs/Leaflet.awesome-markers/2.0.2/leaflet.awesome-markers.js%22%3E%3C/script%3E%0A%20%20%20%20%3Clink%20rel%3D%22stylesheet%22%20href%3D%22https%3A//cdn.jsdelivr.net/npm/leaflet%401.6.0/dist/leaflet.css%22/%3E%0A%20%20%20%20%3Clink%20rel%3D%22stylesheet%22%20href%3D%22https%3A//maxcdn.bootstrapcdn.com/bootstrap/3.2.0/css/bootstrap.min.css%22/%3E%0A%20%20%20%20%3Clink%20rel%3D%22stylesheet%22%20href%3D%22https%3A//maxcdn.bootstrapcdn.com/bootstrap/3.2.0/css/bootstrap-theme.min.css%22/%3E%0A%20%20%20%20%3Clink%20rel%3D%22stylesheet%22%20href%3D%22https%3A//maxcdn.bootstrapcdn.com/font-awesome/4.6.3/css/font-awesome.min.css%22/%3E%0A%20%20%20%20%3Clink%20rel%3D%22stylesheet%22%20href%3D%22https%3A//cdnjs.cloudflare.com/ajax/libs/Leaflet.awesome-markers/2.0.2/leaflet.awesome-markers.css%22/%3E%0A%20%20%20%20%3Clink%20rel%3D%22stylesheet%22%20href%3D%22https%3A//cdn.jsdelivr.net/gh/python-visualization/folium/folium/templates/leaflet.awesome.rotate.min.css%22/%3E%0A%20%20%20%20%0A%20%20%20%20%20%20%20%20%20%20%20%20%3Cmeta%20name%3D%22viewport%22%20content%3D%22width%3Ddevice-width%2C%0A%20%20%20%20%20%20%20%20%20%20%20%20%20%20%20%20initial-scale%3D1.0%2C%20maximum-scale%3D1.0%2C%20user-scalable%3Dno%22%20/%3E%0A%20%20%20%20%20%20%20%20%20%20%20%20%3Cstyle%3E%0A%20%20%20%20%20%20%20%20%20%20%20%20%20%20%20%20%23map_238e81d121114f4b9a9156272d74298e%20%7B%0A%20%20%20%20%20%20%20%20%20%20%20%20%20%20%20%20%20%20%20%20position%3A%20relative%3B%0A%20%20%20%20%20%20%20%20%20%20%20%20%20%20%20%20%20%20%20%20width%3A%20100.0%25%3B%0A%20%20%20%20%20%20%20%20%20%20%20%20%20%20%20%20%20%20%20%20height%3A%20100.0%25%3B%0A%20%20%20%20%20%20%20%20%20%20%20%20%20%20%20%20%20%20%20%20left%3A%200.0%25%3B%0A%20%20%20%20%20%20%20%20%20%20%20%20%20%20%20%20%20%20%20%20top%3A%200.0%25%3B%0A%20%20%20%20%20%20%20%20%20%20%20%20%20%20%20%20%7D%0A%20%20%20%20%20%20%20%20%20%20%20%20%3C/style%3E%0A%20%20%20%20%20%20%20%20%0A%3C/head%3E%0A%3Cbody%3E%20%20%20%20%0A%20%20%20%20%0A%20%20%20%20%20%20%20%20%20%20%20%20%3Cdiv%20class%3D%22folium-map%22%20id%3D%22map_238e81d121114f4b9a9156272d74298e%22%20%3E%3C/div%3E%0A%20%20%20%20%20%20%20%20%0A%3C/body%3E%0A%3Cscript%3E%20%20%20%20%0A%20%20%20%20%0A%20%20%20%20%20%20%20%20%20%20%20%20var%20map_238e81d121114f4b9a9156272d74298e%20%3D%20L.map%28%0A%20%20%20%20%20%20%20%20%20%20%20%20%20%20%20%20%22map_238e81d121114f4b9a9156272d74298e%22%2C%0A%20%20%20%20%20%20%20%20%20%20%20%20%20%20%20%20%7B%0A%20%20%20%20%20%20%20%20%20%20%20%20%20%20%20%20%20%20%20%20center%3A%20%5B13.405750124265635%2C%2037.882746008088596%5D%2C%0A%20%20%20%20%20%20%20%20%20%20%20%20%20%20%20%20%20%20%20%20crs%3A%20L.CRS.EPSG3857%2C%0A%20%20%20%20%20%20%20%20%20%20%20%20%20%20%20%20%20%20%20%20zoom%3A%2010%2C%0A%20%20%20%20%20%20%20%20%20%20%20%20%20%20%20%20%20%20%20%20zoomControl%3A%20true%2C%0A%20%20%20%20%20%20%20%20%20%20%20%20%20%20%20%20%20%20%20%20preferCanvas%3A%20false%2C%0A%20%20%20%20%20%20%20%20%20%20%20%20%20%20%20%20%7D%0A%20%20%20%20%20%20%20%20%20%20%20%20%29%3B%0A%0A%20%20%20%20%20%20%20%20%20%20%20%20%0A%0A%20%20%20%20%20%20%20%20%0A%20%20%20%20%0A%20%20%20%20%20%20%20%20%20%20%20%20var%20tile_layer_908baf2d17034094aff754bd8d33d161%20%3D%20L.tileLayer%28%0A%20%20%20%20%20%20%20%20%20%20%20%20%20%20%20%20%22https%3A//%7Bs%7D.tile.openstreetmap.org/%7Bz%7D/%7Bx%7D/%7By%7D.png%22%2C%0A%20%20%20%20%20%20%20%20%20%20%20%20%20%20%20%20%7B%22attribution%22%3A%20%22Data%20by%20%5Cu0026copy%3B%20%5Cu003ca%20href%3D%5C%22http%3A//openstreetmap.org%5C%22%5Cu003eOpenStreetMap%5Cu003c/a%5Cu003e%2C%20under%20%5Cu003ca%20href%3D%5C%22http%3A//www.openstreetmap.org/copyright%5C%22%5Cu003eODbL%5Cu003c/a%5Cu003e.%22%2C%20%22detectRetina%22%3A%20false%2C%20%22maxNativeZoom%22%3A%2018%2C%20%22maxZoom%22%3A%2018%2C%20%22minZoom%22%3A%200%2C%20%22noWrap%22%3A%20false%2C%20%22opacity%22%3A%201%2C%20%22subdomains%22%3A%20%22abc%22%2C%20%22tms%22%3A%20false%7D%0A%20%20%20%20%20%20%20%20%20%20%20%20%29.addTo%28map_238e81d121114f4b9a9156272d74298e%29%3B%0A%20%20%20%20%20%20%20%20%0A%20%20%20%20%0A%20%20%20%20%20%20%20%20%20%20%20%20var%20tile_layer_51e208b15f2e40b7935edd2567719c81%20%3D%20L.tileLayer%28%0A%20%20%20%20%20%20%20%20%20%20%20%20%20%20%20%20%22https%3A//earthengine.googleapis.com/v1alpha/projects/earthengine-legacy/maps/04f1d9f57262d26b906f6c579b59d37b-04e428c1a6bf0c2ae167b94753a182a1/tiles/%7Bz%7D/%7Bx%7D/%7By%7D%22%2C%0A%20%20%20%20%20%20%20%20%20%20%20%20%20%20%20%20%7B%22attribution%22%3A%20%22Map%20Data%20%5Cu0026copy%3B%20%5Cu003ca%20href%3D%5C%22https%3A//earthengine.google.com/%5C%22%5Cu003eGoogle%20Earth%20Engine%5Cu003c/a%5Cu003e%22%2C%20%22detectRetina%22%3A%20false%2C%20%22maxNativeZoom%22%3A%2018%2C%20%22maxZoom%22%3A%2018%2C%20%22minZoom%22%3A%200%2C%20%22noWrap%22%3A%20false%2C%20%22opacity%22%3A%201%2C%20%22subdomains%22%3A%20%22abc%22%2C%20%22tms%22%3A%20false%7D%0A%20%20%20%20%20%20%20%20%20%20%20%20%29.addTo%28map_238e81d121114f4b9a9156272d74298e%29%3B%0A%20%20%20%20%20%20%20%20%0A%20%20%20%20%0A%20%20%20%20%20%20%20%20%20%20%20%20var%20layer_control_928cf233fdb147e381cfb6bf45624c28%20%3D%20%7B%0A%20%20%20%20%20%20%20%20%20%20%20%20%20%20%20%20base_layers%20%3A%20%7B%0A%20%20%20%20%20%20%20%20%20%20%20%20%20%20%20%20%20%20%20%20%22openstreetmap%22%20%3A%20tile_layer_908baf2d17034094aff754bd8d33d161%2C%0A%20%20%20%20%20%20%20%20%20%20%20%20%20%20%20%20%7D%2C%0A%20%20%20%20%20%20%20%20%20%20%20%20%20%20%20%20overlays%20%3A%20%20%7B%0A%20%20%20%20%20%20%20%20%20%20%20%20%20%20%20%20%20%20%20%20%22Out%20Image%20Texture%22%20%3A%20tile_layer_51e208b15f2e40b7935edd2567719c81%2C%0A%20%20%20%20%20%20%20%20%20%20%20%20%20%20%20%20%7D%2C%0A%20%20%20%20%20%20%20%20%20%20%20%20%7D%3B%0A%20%20%20%20%20%20%20%20%20%20%20%20L.control.layers%28%0A%20%20%20%20%20%20%20%20%20%20%20%20%20%20%20%20layer_control_928cf233fdb147e381cfb6bf45624c28.base_layers%2C%0A%20%20%20%20%20%20%20%20%20%20%20%20%20%20%20%20layer_control_928cf233fdb147e381cfb6bf45624c28.overlays%2C%0A%20%20%20%20%20%20%20%20%20%20%20%20%20%20%20%20%7B%22autoZIndex%22%3A%20true%2C%20%22collapsed%22%3A%20true%2C%20%22position%22%3A%20%22topright%22%7D%0A%20%20%20%20%20%20%20%20%20%20%20%20%29.addTo%28map_238e81d121114f4b9a9156272d74298e%29%3B%0A%20%20%20%20%20%20%20%20%0A%3C/script%3E onload=\"this.contentDocument.open();this.contentDocument.write(    decodeURIComponent(this.getAttribute('data-html')));this.contentDocument.close();\" allowfullscreen webkitallowfullscreen mozallowfullscreen></iframe></div></div>"
      ],
      "text/plain": [
       "<folium.folium.Map at 0x21911f03820>"
      ]
     },
     "execution_count": 15,
     "metadata": {},
     "output_type": "execute_result"
    }
   ],
   "source": [
    "mapid = out_image_texture.getMapId({'bands': [landsat_params['FCCbands'][0], landsat_params['FCCbands'][1], landsat_params['FCCbands'][2]], 'min': 0, 'max': 255})\n",
    "map = folium.Map(location=[center_lat, center_lon]) \n",
    "folium.TileLayer(\n",
    "    tiles=mapid['tile_fetcher'].url_format,\n",
    "    attr='Map Data &copy; <a href=\"https://earthengine.google.com/\">Google Earth Engine</a>',\n",
    "    overlay=True,\n",
    "    name='Out Image Texture',\n",
    "  ).add_to(map)\n",
    "map.add_child(folium.LayerControl())\n",
    "map"
   ]
  },
  {
   "cell_type": "code",
   "execution_count": 16,
   "id": "955e6c05-7a63-4ca0-92a4-7c5a1a7d9ac7",
   "metadata": {},
   "outputs": [],
   "source": [
    "BANDS = landsat_params['bandsClassify']\n",
    "LABEL = 'class'\n",
    "N_CLASSES = 4\n",
    "\n",
    "FEATURE_NAMES = list(BANDS)\n",
    "FEATURE_NAMES.append(LABEL)"
   ]
  },
  {
   "cell_type": "code",
   "execution_count": 17,
   "id": "922921ad-19ef-45d1-a8e1-c858418574a2",
   "metadata": {},
   "outputs": [],
   "source": [
    "Bucket_Blob_Name = bucket_name + '/' + UserName + '_' + str(timestamp)\n",
    "\n",
    "MY_BUCKET_PATH = os.getcwd()\n",
    "FOLDER_PATH = MY_BUCKET_PATH + '/' + FOLDER_NAME\n",
    "SHARED_DRIVE_PATH = '/content/drive/Shareddrives/MiyazakiLab/LC_mapping_models/'\n",
    "\n",
    "TRAIN_FILE_PREFIX = 'Training_' + str(timestamp)\n",
    "TEST_FILE_PREFIX = 'Testing_' + str(timestamp)\n",
    "\n",
    "file_extension = '.tfrecord.gz'\n",
    "TRAIN_FILE_PATH =  MY_BUCKET_PATH + '/' + FOLDER_NAME + '/' + 'sample/' + TRAIN_FILE_PREFIX + file_extension\n",
    "TEST_FILE_PATH = MY_BUCKET_PATH + '/' + FOLDER_NAME + '/' + 'sample/' + TEST_FILE_PREFIX + file_extension\n",
    "\n",
    "OUTPUT_IMAGE_TFR = MY_BUCKET_PATH + '/' + FOLDER_NAME + '/' + IMAGE_FILE_PREFIX+'.TFRecord'\n",
    "OUTPUT_IMAGE_TIF = MY_BUCKET_PATH + '/' + FOLDER_NAME + '/' + IMAGE_FILE_PREFIX+'.tif'\n",
    "\n",
    "EXPORT_REGION = out_ext\n",
    "OUTPUT_ASSET_ID = 'users/' + USER_NAME + '/demo'\n",
    "\n",
    "TRAIN_FILE_BUCKET = TRAIN_FILE_PREFIX + file_extension\n",
    "TEST_FILE_BUCKET = TEST_FILE_PREFIX + file_extension\n",
    "\n",
    "path = os.path.join(os.getcwd(), FOLDER_NAME)\n",
    "os.mkdir(path)\n",
    "# os.makedirs(dest_dir, exist_ok = True)"
   ]
  },
  {
   "cell_type": "code",
   "execution_count": 18,
   "id": "a37ddcb3-9dda-4202-9dec-c1cf3b609715",
   "metadata": {},
   "outputs": [],
   "source": [
    "sample = gt_image_texture.sampleRegions(\n",
    "    collection = LABEL_DATA,\n",
    "    properties = [LABEL],\n",
    "    scale = spatial_resolution,\n",
    ").randomColumn()"
   ]
  },
  {
   "cell_type": "code",
   "execution_count": 19,
   "id": "539b5673-2b03-4094-ae5f-b11c805e89bf",
   "metadata": {},
   "outputs": [
    {
     "name": "stdout",
     "output_type": "stream",
     "text": [
      "{'training': {'geometry': None,\n",
      "              'id': '00000000000000000ba8_0',\n",
      "              'properties': {'B1': 0.0951768234372139,\n",
      "                             'B2': 0.09621735662221909,\n",
      "                             'B3': 0.08701754361391068,\n",
      "                             'B4': 0.20410214364528656,\n",
      "                             'B4_1': 1.6769877672195435,\n",
      "                             'B5': 0.173439159989357,\n",
      "                             'B6': 291.98297119140625,\n",
      "                             'B7': 0.10982156544923782,\n",
      "                             'bi': -0.4834047257900238,\n",
      "                             'class': 1,\n",
      "                             'ndbi': -0.08121755719184875,\n",
      "                             'ndvi': 0.40218716859817505,\n",
      "                             'ndwi': -0.28637099266052246,\n",
      "                             'random': 0.2477473413938246},\n",
      "              'type': 'Feature'}}\n",
      "{'testing': {'geometry': None,\n",
      "             'id': '00000000000000000ba7_0',\n",
      "             'properties': {'B1': 0.08793951570987701,\n",
      "                            'B2': 0.08842964470386505,\n",
      "                            'B3': 0.08451586961746216,\n",
      "                            'B4': 0.17413999140262604,\n",
      "                            'B4_1': 1.6769877672195435,\n",
      "                            'B5': 0.1798173040151596,\n",
      "                            'B6': 292.65557861328125,\n",
      "                            'B7': 0.12550172209739685,\n",
      "                            'bi': -0.33045992255210876,\n",
      "                            'class': 1,\n",
      "                            'ndbi': 0.016039540991187096,\n",
      "                            'ndvi': 0.3464994728565216,\n",
      "                            'ndwi': -0.34068480134010315,\n",
      "                            'random': 0.8388149201040416},\n",
      "             'type': 'Feature'}}\n"
     ]
    }
   ],
   "source": [
    "training = sample.filter(ee.Filter.lt('random', 0.8))\n",
    "testing = sample.filter(ee.Filter.gte('random', 0.8))\n",
    "\n",
    "pprint({'training': training.first().getInfo()})\n",
    "pprint({'testing': testing.first().getInfo()})"
   ]
  },
  {
   "cell_type": "code",
   "execution_count": 20,
   "id": "3def6e3a-93bb-4f4f-9b80-7e4b68c6073b",
   "metadata": {},
   "outputs": [],
   "source": [
    "training_task = ee.batch.Export.table.toCloudStorage(\n",
    "  collection=training,\n",
    "  description='Training Export',\n",
    "  bucket=bucket_name,\n",
    "  fileNamePrefix=TRAIN_FILE_PREFIX,\n",
    "  fileFormat='TFRecord',\n",
    "  selectors=FEATURE_NAMES)\n",
    "testing_task = ee.batch.Export.table.toCloudStorage(\n",
    "  collection=testing,\n",
    "  description='Testing Export',\n",
    "  bucket=bucket_name,\n",
    "  fileNamePrefix=TEST_FILE_PREFIX,\n",
    "  fileFormat='TFRecord',\n",
    "  selectors=FEATURE_NAMES)"
   ]
  },
  {
   "cell_type": "code",
   "execution_count": 21,
   "id": "ddeedc34-0ec9-4bab-8885-18587808b63a",
   "metadata": {},
   "outputs": [],
   "source": [
    "training_task.start()\n",
    "testing_task.start()"
   ]
  },
  {
   "cell_type": "code",
   "execution_count": 22,
   "id": "eb4dd680-0eb5-40bf-b2ab-d56dfc973be2",
   "metadata": {},
   "outputs": [
    {
     "name": "stdout",
     "output_type": "stream",
     "text": [
      "Polling for task (id: MSD2JJU4GVHOW4NCBFXC2HQE).\n",
      "Polling for task (id: MSD2JJU4GVHOW4NCBFXC2HQE).\n",
      "Polling for task (id: MSD2JJU4GVHOW4NCBFXC2HQE).\n",
      "Polling for task (id: MSD2JJU4GVHOW4NCBFXC2HQE).\n",
      "Polling for task (id: MSD2JJU4GVHOW4NCBFXC2HQE).\n",
      "Done with training export.\n",
      "Polling for task (id: SAM4TESGU373SLQ7BUCONATD).\n",
      "Polling for task (id: SAM4TESGU373SLQ7BUCONATD).\n",
      "Done with testing export.\n"
     ]
    }
   ],
   "source": [
    "while training_task.active():\n",
    "  print('Polling for task (id: {}).'.format(training_task.id))\n",
    "  time.sleep(20)\n",
    "print('Done with training export.')\n",
    "\n",
    "while testing_task.active():\n",
    "  print('Polling for task (id: {}).'.format(testing_task.id))\n",
    "  time.sleep(20)\n",
    "print('Done with testing export.')"
   ]
  },
  {
   "cell_type": "code",
   "execution_count": 23,
   "id": "95332b27-8202-4bc4-8989-9f4366e389d7",
   "metadata": {},
   "outputs": [],
   "source": [
    "def move_blob(bucket_name, blob_name, destination_bucket_name, destination_blob_name):\n",
    "\n",
    "    storage_client = storage.Client()\n",
    "\n",
    "    source_bucket = storage_client.bucket(bucket_name)\n",
    "    source_blob = source_bucket.blob(blob_name)\n",
    "    destination_bucket = storage_client.bucket(destination_bucket_name)\n",
    "\n",
    "    blob_copy = source_bucket.copy_blob(source_blob, destination_bucket, destination_blob_name)\n",
    "    source_bucket.delete_blob(blob_name)\n"
   ]
  },
  {
   "cell_type": "code",
   "execution_count": 24,
   "id": "c11ca077-4ff8-4153-ba29-887776abbfe9",
   "metadata": {},
   "outputs": [],
   "source": [
    "move_blob(bucket_name, TRAIN_FILE_BUCKET, bucket_name, blob_name + TRAIN_FILE_BUCKET)\n",
    "move_blob(bucket_name, TEST_FILE_BUCKET, bucket_name, blob_name + TEST_FILE_BUCKET)"
   ]
  },
  {
   "cell_type": "code",
   "execution_count": 25,
   "id": "58180b1d-c088-48c5-b6d5-8f1d68bbdc7e",
   "metadata": {
    "tags": []
   },
   "outputs": [],
   "source": [
    "def download_file_from_bucket(blog_name, file_path, bucket_name):\n",
    "    try:\n",
    "        bucket = storage_client.get_bucket(bucket_name)\n",
    "        blob = bucket.blob(blog_name)\n",
    "        with open(file_path, 'wb') as f:\n",
    "            storage_client.download_blob_to_file(blob, f)\n",
    "        print('Saved')\n",
    "        return True\n",
    "    except Exception as e:\n",
    "        print(e)\n",
    "        return False"
   ]
  },
  {
   "cell_type": "code",
   "execution_count": 26,
   "id": "55101bb0-3837-45e2-b1d8-0b2f0a3b160e",
   "metadata": {},
   "outputs": [
    {
     "name": "stdout",
     "output_type": "stream",
     "text": [
      "Saved\n",
      "Saved\n"
     ]
    },
    {
     "data": {
      "text/plain": [
       "True"
      ]
     },
     "execution_count": 26,
     "metadata": {},
     "output_type": "execute_result"
    }
   ],
   "source": [
    "download_file_from_bucket(blob_name + TRAIN_FILE_BUCKET, os.path.join(os.getcwd(), FOLDER_NAME + '/'+ TRAIN_FILE_BUCKET), bucket_name)\n",
    "download_file_from_bucket(blob_name + TEST_FILE_BUCKET, os.path.join(os.getcwd(), FOLDER_NAME + '/' + TEST_FILE_BUCKET), bucket_name)"
   ]
  },
  {
   "cell_type": "code",
   "execution_count": 27,
   "id": "a077c8df-d0af-4b0c-b9a6-1b3a86a0eecc",
   "metadata": {
    "tags": []
   },
   "outputs": [],
   "source": [
    "src_dir = MY_BUCKET_PATH + '/' + FOLDER_NAME\n",
    "src_files = os.listdir(src_dir)\n",
    "\n",
    "dest_dir = os.path.join(src_dir, 'sample')\n",
    "\n",
    "os.makedirs(dest_dir, exist_ok = True)\n",
    "\n",
    "for file in src_files:\n",
    "    shutil.move(os.path.join(src_dir, file), dest_dir)"
   ]
  },
  {
   "cell_type": "code",
   "execution_count": 28,
   "id": "a9208d0b-3665-4edf-8ae4-1c1a69df5fca",
   "metadata": {
    "colab": {
     "base_uri": "https://localhost:8080/"
    },
    "id": "EsS6YBcjnSJ7",
    "outputId": "2c90f8af-c85c-486c-c2d8-61a1b435cb6c"
   },
   "outputs": [
    {
     "name": "stdout",
     "output_type": "stream",
     "text": [
      "Found training file.\n",
      "Found testing file.\n"
     ]
    }
   ],
   "source": [
    "print('Found training file.' if tf.io.gfile.exists(TRAIN_FILE_PATH) \n",
    "    else 'No training file found.')\n",
    "\n",
    "print('Found testing file.' if tf.io.gfile.exists(TEST_FILE_PATH) \n",
    "    else 'No testing file found.')"
   ]
  },
  {
   "cell_type": "code",
   "execution_count": 29,
   "id": "7b1b15fa-3394-4bb3-9ff5-eae5f6efc2a5",
   "metadata": {
    "id": "AN-cQlaS0yEP"
   },
   "outputs": [],
   "source": [
    "train_dataset = tf.data.TFRecordDataset(TRAIN_FILE_PATH, compression_type='GZIP')\n",
    "test_dataset = tf.data.TFRecordDataset(TEST_FILE_PATH, compression_type='GZIP')\n",
    "\n",
    "# print(iter(train_dataset).next())\n",
    "# print(iter(test_dataset).next())"
   ]
  },
  {
   "cell_type": "code",
   "execution_count": 30,
   "id": "1bb37dbc-db63-486d-8959-dd31917ade99",
   "metadata": {},
   "outputs": [
    {
     "name": "stdout",
     "output_type": "stream",
     "text": [
      "{'B1': FixedLenFeature(shape=[1], dtype=tf.float32, default_value=None),\n",
      " 'B2': FixedLenFeature(shape=[1], dtype=tf.float32, default_value=None),\n",
      " 'B3': FixedLenFeature(shape=[1], dtype=tf.float32, default_value=None),\n",
      " 'B4': FixedLenFeature(shape=[1], dtype=tf.float32, default_value=None),\n",
      " 'B4_1': FixedLenFeature(shape=[1], dtype=tf.float32, default_value=None),\n",
      " 'B5': FixedLenFeature(shape=[1], dtype=tf.float32, default_value=None),\n",
      " 'B7': FixedLenFeature(shape=[1], dtype=tf.float32, default_value=None),\n",
      " 'bi': FixedLenFeature(shape=[1], dtype=tf.float32, default_value=None),\n",
      " 'class': FixedLenFeature(shape=[1], dtype=tf.float32, default_value=None),\n",
      " 'ndbi': FixedLenFeature(shape=[1], dtype=tf.float32, default_value=None),\n",
      " 'ndvi': FixedLenFeature(shape=[1], dtype=tf.float32, default_value=None),\n",
      " 'ndwi': FixedLenFeature(shape=[1], dtype=tf.float32, default_value=None)}\n"
     ]
    }
   ],
   "source": [
    "columns = [tf.io.FixedLenFeature(shape=[1], dtype=tf.float32) for k in FEATURE_NAMES]\n",
    "\n",
    "features_dict = dict(zip(FEATURE_NAMES, columns))\n",
    "\n",
    "pprint(features_dict)"
   ]
  },
  {
   "cell_type": "code",
   "execution_count": 31,
   "id": "449009ef-4bb2-4ed6-89f2-ac0c150a7d15",
   "metadata": {},
   "outputs": [],
   "source": [
    "def parse_tfrecord(example_proto):\n",
    "  parsed_features = tf.io.parse_single_example(example_proto, features_dict)\n",
    "  labels = parsed_features.pop(LABEL)\n",
    "  return parsed_features, tf.cast(labels, tf.int32)\n",
    "\n",
    "parsed_trainset = train_dataset.map(parse_tfrecord, num_parallel_calls=5)\n",
    "parsed_testset = test_dataset.map(parse_tfrecord, num_parallel_calls=5)\n",
    "\n",
    "# pprint(iter(parsed_trainset))\n",
    "# pprint(iter(parsed_testset))"
   ]
  },
  {
   "cell_type": "code",
   "execution_count": 32,
   "id": "79cc79bd-ded0-407b-9299-7f8c0267dcf7",
   "metadata": {},
   "outputs": [],
   "source": [
    "batch_size = 100\n",
    "\n",
    "def to_tuple(inputs, label):\n",
    "  return (tf.transpose(list(inputs.values())), tf.one_hot(indices=label, depth=N_CLASSES))\n",
    "\n",
    "input_dataset = parsed_trainset.map(to_tuple).batch(batch_size)\n",
    "validate_dataset = parsed_testset.map(to_tuple).batch(batch_size)\n"
   ]
  },
  {
   "cell_type": "code",
   "execution_count": 33,
   "id": "f62dccb4-e64f-44f5-af5e-396a4e77937e",
   "metadata": {},
   "outputs": [],
   "source": [
    "# model = tf.keras.models.Sequential([\n",
    "#   tf.keras.layers.Dense(128, activation=tf.nn.relu),\n",
    "#   tf.keras.layers.Dropout(0.1),\n",
    "#   tf.keras.layers.Dense(64, activation=tf.nn.relu),\n",
    "#   tf.keras.layers.Dropout(0.1),\n",
    "#   tf.keras.layers.Dense(64, activation=tf.nn.relu),\n",
    "#   tf.keras.layers.Dropout(0.1),\n",
    "#   tf.keras.layers.Dense(64, activation=tf.nn.relu),\n",
    "#   tf.keras.layers.Dense(64, activation=tf.nn.relu),\n",
    "#   tf.keras.layers.Dense(N_CLASSES, activation=tf.nn.softmax)\n",
    "# ])\n",
    "\n",
    "#NEW NN STRUCTURE\n",
    "\n",
    "drop = 0.05\n",
    "model = tf.keras.models.Sequential([\n",
    "  tf.keras.layers.Dense(moas, activation=tf.nn.relu),\n",
    "  tf.keras.layers.Dropout(drop),\n",
    "  tf.keras.layers.Dense(moas, activation=tf.nn.relu),\n",
    "  tf.keras.layers.Dropout(drop),\n",
    "  tf.keras.layers.Dense(moas, activation=tf.nn.relu),\n",
    "  tf.keras.layers.Dropout(drop),\n",
    "  tf.keras.layers.Dense(moas, activation=tf.nn.relu),\n",
    "  tf.keras.layers.Dropout(drop),\n",
    "  tf.keras.layers.Dense(moas, activation=tf.nn.relu),\n",
    "  tf.keras.layers.Dropout(drop),\n",
    "  tf.keras.layers.Dense(moas, activation=tf.nn.relu),\n",
    "  tf.keras.layers.Dropout(drop),\n",
    "  tf.keras.layers.Dense(moas, activation=tf.nn.relu),\n",
    "  tf.keras.layers.Dropout(drop),\n",
    "  tf.keras.layers.Dense(moas, activation=tf.nn.relu),\n",
    "  tf.keras.layers.Dropout(drop),\n",
    "  tf.keras.layers.Dense(moas, activation=tf.nn.relu),\n",
    "  tf.keras.layers.Dense(N_CLASSES, activation=tf.nn.softmax)\n",
    "])"
   ]
  },
  {
   "cell_type": "code",
   "execution_count": 34,
   "id": "39f93ae4-c29e-4f36-8c01-08c578246876",
   "metadata": {},
   "outputs": [],
   "source": [
    "model.compile(optimizer= tf.keras.optimizers.Adam(\n",
    "    learning_rate=lr),\n",
    "    loss='categorical_crossentropy',\n",
    "    metrics=['accuracy', 'mse'],\n",
    "    # run_eagerly=True         \n",
    ")"
   ]
  },
  {
   "cell_type": "code",
   "execution_count": null,
   "id": "cda6ab23-2fbf-4285-992e-79ce69aab2c3",
   "metadata": {},
   "outputs": [
    {
     "name": "stdout",
     "output_type": "stream",
     "text": [
      "C:\\PythonProjects\\GLODAL_Windows/Zahid_Wani_ADAM_01_Ethiopia_1990_1990_1645199586_1645199586/model\n",
      "Epoch 1/250\n",
      "    400/Unknown - 12s 25ms/step - loss: 1.2835 - accuracy: 0.3514 - mse: 0.1751INFO:tensorflow:Assets written to: C:\\PythonProjects\\GLODAL_Windows/Zahid_Wani_ADAM_01_Ethiopia_1990_1990_1645199586_1645199586\\model\\assets\n",
      "401/401 [==============================] - 16s 37ms/step - loss: 1.2836 - accuracy: 0.3512 - mse: 0.1751 - val_loss: 1.0404 - val_accuracy: 0.5468 - val_mse: 0.1400\n",
      "Epoch 2/250\n",
      "400/401 [============================>.] - ETA: 0s - loss: 1.0183 - accuracy: 0.5656 - mse: 0.1393INFO:tensorflow:Assets written to: C:\\PythonProjects\\GLODAL_Windows/Zahid_Wani_ADAM_01_Ethiopia_1990_1990_1645199586_1645199586\\model\\assets\n",
      "401/401 [==============================] - 15s 37ms/step - loss: 1.0186 - accuracy: 0.5654 - mse: 0.1393 - val_loss: 0.9457 - val_accuracy: 0.5563 - val_mse: 0.1301\n",
      "Epoch 3/250\n",
      "401/401 [==============================] - 12s 31ms/step - loss: 0.8784 - accuracy: 0.6433 - mse: 0.1230 - val_loss: 1.1745 - val_accuracy: 0.5164 - val_mse: 0.1703\n",
      "Epoch 4/250\n",
      "400/401 [============================>.] - ETA: 0s - loss: 0.9005 - accuracy: 0.6432 - mse: 0.1247INFO:tensorflow:Assets written to: C:\\PythonProjects\\GLODAL_Windows/Zahid_Wani_ADAM_01_Ethiopia_1990_1990_1645199586_1645199586\\model\\assets\n",
      "401/401 [==============================] - 16s 39ms/step - loss: 0.9009 - accuracy: 0.6429 - mse: 0.1248 - val_loss: 0.8228 - val_accuracy: 0.5955 - val_mse: 0.1172\n",
      "Epoch 5/250\n",
      "399/401 [============================>.] - ETA: 0s - loss: 0.8563 - accuracy: 0.6646 - mse: 0.1193INFO:tensorflow:Assets written to: C:\\PythonProjects\\GLODAL_Windows/Zahid_Wani_ADAM_01_Ethiopia_1990_1990_1645199586_1645199586\\model\\assets\n",
      "401/401 [==============================] - 16s 40ms/step - loss: 0.8588 - accuracy: 0.6626 - mse: 0.1197 - val_loss: 0.7535 - val_accuracy: 0.7146 - val_mse: 0.1031\n",
      "Epoch 6/250\n",
      "400/401 [============================>.] - ETA: 0s - loss: 0.8308 - accuracy: 0.6970 - mse: 0.1129INFO:tensorflow:Assets written to: C:\\PythonProjects\\GLODAL_Windows/Zahid_Wani_ADAM_01_Ethiopia_1990_1990_1645199586_1645199586\\model\\assets\n",
      "401/401 [==============================] - 17s 42ms/step - loss: 0.8312 - accuracy: 0.6967 - mse: 0.1130 - val_loss: 0.7440 - val_accuracy: 0.7171 - val_mse: 0.1013\n",
      "Epoch 7/250\n",
      "401/401 [==============================] - ETA: 0s - loss: 0.8045 - accuracy: 0.7079 - mse: 0.1091INFO:tensorflow:Assets written to: C:\\PythonProjects\\GLODAL_Windows/Zahid_Wani_ADAM_01_Ethiopia_1990_1990_1645199586_1645199586\\model\\assets\n",
      "401/401 [==============================] - 17s 42ms/step - loss: 0.8045 - accuracy: 0.7079 - mse: 0.1091 - val_loss: 0.7409 - val_accuracy: 0.7159 - val_mse: 0.1008\n",
      "Epoch 8/250\n",
      "401/401 [==============================] - 16s 39ms/step - loss: 0.7890 - accuracy: 0.7142 - mse: 0.1066 - val_loss: 0.7470 - val_accuracy: 0.7185 - val_mse: 0.1016\n",
      "Epoch 9/250\n",
      "400/401 [============================>.] - ETA: 0s - loss: 0.7787 - accuracy: 0.7173 - mse: 0.1052INFO:tensorflow:Assets written to: C:\\PythonProjects\\GLODAL_Windows/Zahid_Wani_ADAM_01_Ethiopia_1990_1990_1645199586_1645199586\\model\\assets\n",
      "401/401 [==============================] - 20s 51ms/step - loss: 0.7792 - accuracy: 0.7170 - mse: 0.1053 - val_loss: 0.7292 - val_accuracy: 0.7234 - val_mse: 0.0992\n",
      "Epoch 10/250\n",
      "401/401 [==============================] - 15s 37ms/step - loss: 0.7644 - accuracy: 0.7217 - mse: 0.1034 - val_loss: 0.7772 - val_accuracy: 0.7263 - val_mse: 0.1045\n",
      "Epoch 11/250\n",
      "401/401 [==============================] - 16s 40ms/step - loss: 0.7544 - accuracy: 0.7225 - mse: 0.1023 - val_loss: 0.7532 - val_accuracy: 0.7286 - val_mse: 0.1019\n",
      "Epoch 12/250\n",
      "401/401 [==============================] - 17s 43ms/step - loss: 0.7502 - accuracy: 0.7261 - mse: 0.1016 - val_loss: 0.7917 - val_accuracy: 0.7279 - val_mse: 0.1055\n",
      "Epoch 13/250\n",
      "401/401 [==============================] - 16s 40ms/step - loss: 0.7455 - accuracy: 0.7278 - mse: 0.1009 - val_loss: 0.7660 - val_accuracy: 0.7286 - val_mse: 0.1030\n",
      "Epoch 14/250\n",
      "401/401 [==============================] - 17s 42ms/step - loss: 0.7396 - accuracy: 0.7296 - mse: 0.1001 - val_loss: 0.7983 - val_accuracy: 0.7320 - val_mse: 0.1053\n",
      "Epoch 15/250\n",
      "401/401 [==============================] - 17s 43ms/step - loss: 0.7268 - accuracy: 0.7317 - mse: 0.0987 - val_loss: 0.7601 - val_accuracy: 0.7323 - val_mse: 0.1017\n",
      "Epoch 16/250\n",
      "401/401 [==============================] - 16s 41ms/step - loss: 0.7261 - accuracy: 0.7331 - mse: 0.0982 - val_loss: 0.8595 - val_accuracy: 0.7296 - val_mse: 0.1093\n",
      "Epoch 17/250\n",
      "401/401 [==============================] - 17s 42ms/step - loss: 0.7206 - accuracy: 0.7318 - mse: 0.0980 - val_loss: 0.7558 - val_accuracy: 0.7335 - val_mse: 0.1007\n",
      "Epoch 18/250\n",
      "401/401 [==============================] - 18s 44ms/step - loss: 0.7174 - accuracy: 0.7340 - mse: 0.0973 - val_loss: 0.7970 - val_accuracy: 0.7350 - val_mse: 0.1034\n",
      "Epoch 19/250\n",
      "401/401 [==============================] - 18s 46ms/step - loss: 0.7112 - accuracy: 0.7331 - mse: 0.0967 - val_loss: 0.7662 - val_accuracy: 0.7360 - val_mse: 0.1010\n",
      "Epoch 20/250\n",
      "401/401 [==============================] - 18s 44ms/step - loss: 0.7097 - accuracy: 0.7310 - mse: 0.0964 - val_loss: 0.8180 - val_accuracy: 0.7341 - val_mse: 0.1043\n",
      "Epoch 21/250\n",
      "401/401 [==============================] - 18s 45ms/step - loss: 0.7147 - accuracy: 0.7294 - mse: 0.0971 - val_loss: 0.7619 - val_accuracy: 0.7400 - val_mse: 0.0994\n",
      "Epoch 22/250\n",
      "401/401 [==============================] - 18s 45ms/step - loss: 0.7055 - accuracy: 0.7355 - mse: 0.0959 - val_loss: 0.7615 - val_accuracy: 0.7386 - val_mse: 0.0996\n",
      "Epoch 23/250\n",
      "401/401 [==============================] - 16s 41ms/step - loss: 0.7018 - accuracy: 0.7344 - mse: 0.0955 - val_loss: 0.7497 - val_accuracy: 0.7384 - val_mse: 0.0985\n",
      "Epoch 24/250\n",
      "401/401 [==============================] - 16s 40ms/step - loss: 0.6949 - accuracy: 0.7391 - mse: 0.0944 - val_loss: 0.7801 - val_accuracy: 0.7390 - val_mse: 0.0999\n",
      "Epoch 25/250\n",
      "401/401 [==============================] - 17s 42ms/step - loss: 0.6974 - accuracy: 0.7356 - mse: 0.0949 - val_loss: 0.7593 - val_accuracy: 0.7388 - val_mse: 0.0984\n",
      "Epoch 26/250\n",
      "401/401 [==============================] - ETA: 0s - loss: 0.6970 - accuracy: 0.7348 - mse: 0.0949INFO:tensorflow:Assets written to: C:\\PythonProjects\\GLODAL_Windows/Zahid_Wani_ADAM_01_Ethiopia_1990_1990_1645199586_1645199586\\model\\assets\n",
      "401/401 [==============================] - 19s 48ms/step - loss: 0.6970 - accuracy: 0.7348 - mse: 0.0949 - val_loss: 0.7247 - val_accuracy: 0.7396 - val_mse: 0.0963\n",
      "Epoch 27/250\n",
      "401/401 [==============================] - 18s 45ms/step - loss: 0.6921 - accuracy: 0.7343 - mse: 0.0942 - val_loss: 0.7968 - val_accuracy: 0.7387 - val_mse: 0.1000\n",
      "Epoch 28/250\n",
      "401/401 [==============================] - 19s 47ms/step - loss: 0.6896 - accuracy: 0.7367 - mse: 0.0936 - val_loss: 0.8563 - val_accuracy: 0.7401 - val_mse: 0.1018\n",
      "Epoch 29/250\n",
      "401/401 [==============================] - 19s 48ms/step - loss: 0.6845 - accuracy: 0.7372 - mse: 0.0930 - val_loss: 0.7539 - val_accuracy: 0.7410 - val_mse: 0.0969\n",
      "Epoch 30/250\n",
      "401/401 [==============================] - 20s 49ms/step - loss: 0.6824 - accuracy: 0.7368 - mse: 0.0928 - val_loss: 0.7387 - val_accuracy: 0.7402 - val_mse: 0.0959\n",
      "Epoch 31/250\n",
      "401/401 [==============================] - 20s 49ms/step - loss: 0.6781 - accuracy: 0.7374 - mse: 0.0923 - val_loss: 0.7281 - val_accuracy: 0.7391 - val_mse: 0.0950\n",
      "Epoch 32/250\n",
      "401/401 [==============================] - 20s 49ms/step - loss: 0.6736 - accuracy: 0.7387 - mse: 0.0917 - val_loss: 0.7611 - val_accuracy: 0.7409 - val_mse: 0.0964\n",
      "Epoch 33/250\n",
      "401/401 [==============================] - 21s 52ms/step - loss: 0.6670 - accuracy: 0.7398 - mse: 0.0906 - val_loss: 0.7357 - val_accuracy: 0.7281 - val_mse: 0.0964\n",
      "Epoch 34/250\n",
      "401/401 [==============================] - 20s 50ms/step - loss: 0.6744 - accuracy: 0.7304 - mse: 0.0920 - val_loss: 0.7395 - val_accuracy: 0.7423 - val_mse: 0.0948\n",
      "Epoch 35/250\n",
      "401/401 [==============================] - 18s 46ms/step - loss: 0.6666 - accuracy: 0.7400 - mse: 0.0907 - val_loss: 0.7576 - val_accuracy: 0.7380 - val_mse: 0.0962\n",
      "Epoch 36/250\n",
      "400/401 [============================>.] - ETA: 0s - loss: 0.6677 - accuracy: 0.7400 - mse: 0.0908INFO:tensorflow:Assets written to: C:\\PythonProjects\\GLODAL_Windows/Zahid_Wani_ADAM_01_Ethiopia_1990_1990_1645199586_1645199586\\model\\assets\n",
      "401/401 [==============================] - 21s 53ms/step - loss: 0.6686 - accuracy: 0.7396 - mse: 0.0910 - val_loss: 0.7151 - val_accuracy: 0.7438 - val_mse: 0.0928\n",
      "Epoch 37/250\n",
      "401/401 [==============================] - 17s 43ms/step - loss: 0.6581 - accuracy: 0.7427 - mse: 0.0896 - val_loss: 0.7465 - val_accuracy: 0.7422 - val_mse: 0.0949\n",
      "Epoch 38/250\n",
      "401/401 [==============================] - 17s 42ms/step - loss: 0.6580 - accuracy: 0.7444 - mse: 0.0895 - val_loss: 0.7219 - val_accuracy: 0.7400 - val_mse: 0.0934\n",
      "Epoch 39/250\n",
      "401/401 [==============================] - ETA: 0s - loss: 0.6544 - accuracy: 0.7457 - mse: 0.0890INFO:tensorflow:Assets written to: C:\\PythonProjects\\GLODAL_Windows/Zahid_Wani_ADAM_01_Ethiopia_1990_1990_1645199586_1645199586\\model\\assets\n",
      "401/401 [==============================] - 19s 48ms/step - loss: 0.6544 - accuracy: 0.7457 - mse: 0.0890 - val_loss: 0.6947 - val_accuracy: 0.7432 - val_mse: 0.0911\n",
      "Epoch 40/250\n",
      "401/401 [==============================] - 18s 45ms/step - loss: 0.6478 - accuracy: 0.7481 - mse: 0.0883 - val_loss: 0.7029 - val_accuracy: 0.7388 - val_mse: 0.0923\n",
      "Epoch 41/250\n",
      "401/401 [==============================] - 17s 43ms/step - loss: 0.6538 - accuracy: 0.7474 - mse: 0.0890 - val_loss: 0.7173 - val_accuracy: 0.7381 - val_mse: 0.0930\n",
      "Epoch 42/250\n",
      "401/401 [==============================] - 18s 45ms/step - loss: 0.6501 - accuracy: 0.7470 - mse: 0.0887 - val_loss: 0.7217 - val_accuracy: 0.7370 - val_mse: 0.0929\n",
      "Epoch 43/250\n",
      "400/401 [============================>.] - ETA: 0s - loss: 0.6488 - accuracy: 0.7487 - mse: 0.0885INFO:tensorflow:Assets written to: C:\\PythonProjects\\GLODAL_Windows/Zahid_Wani_ADAM_01_Ethiopia_1990_1990_1645199586_1645199586\\model\\assets\n",
      "401/401 [==============================] - 19s 47ms/step - loss: 0.6495 - accuracy: 0.7484 - mse: 0.0886 - val_loss: 0.6886 - val_accuracy: 0.7377 - val_mse: 0.0910\n",
      "Epoch 44/250\n",
      "401/401 [==============================] - 17s 43ms/step - loss: 0.6445 - accuracy: 0.7521 - mse: 0.0879 - val_loss: 0.7139 - val_accuracy: 0.7389 - val_mse: 0.0926\n",
      "Epoch 45/250\n",
      "401/401 [==============================] - 17s 42ms/step - loss: 0.6455 - accuracy: 0.7501 - mse: 0.0881 - val_loss: 0.6907 - val_accuracy: 0.7380 - val_mse: 0.0909\n",
      "Epoch 46/250\n",
      "400/401 [============================>.] - ETA: 0s - loss: 0.6411 - accuracy: 0.7516 - mse: 0.0875INFO:tensorflow:Assets written to: C:\\PythonProjects\\GLODAL_Windows/Zahid_Wani_ADAM_01_Ethiopia_1990_1990_1645199586_1645199586\\model\\assets\n",
      "401/401 [==============================] - 20s 49ms/step - loss: 0.6418 - accuracy: 0.7512 - mse: 0.0877 - val_loss: 0.6573 - val_accuracy: 0.7368 - val_mse: 0.0888\n",
      "Epoch 47/250\n",
      "401/401 [==============================] - 17s 43ms/step - loss: 0.6394 - accuracy: 0.7516 - mse: 0.0872 - val_loss: 0.7158 - val_accuracy: 0.7390 - val_mse: 0.0927\n",
      "Epoch 48/250\n",
      "401/401 [==============================] - 17s 42ms/step - loss: 0.6369 - accuracy: 0.7547 - mse: 0.0870 - val_loss: 0.6821 - val_accuracy: 0.7450 - val_mse: 0.0912\n",
      "Epoch 49/250\n",
      "401/401 [==============================] - 17s 42ms/step - loss: 0.6387 - accuracy: 0.7524 - mse: 0.0874 - val_loss: 0.6854 - val_accuracy: 0.7536 - val_mse: 0.0906\n",
      "Epoch 50/250\n",
      "401/401 [==============================] - 18s 44ms/step - loss: 0.6352 - accuracy: 0.7552 - mse: 0.0868 - val_loss: 0.6873 - val_accuracy: 0.7481 - val_mse: 0.0911\n",
      "Epoch 51/250\n",
      "401/401 [==============================] - 19s 48ms/step - loss: 0.6390 - accuracy: 0.7501 - mse: 0.0874 - val_loss: 0.6799 - val_accuracy: 0.7605 - val_mse: 0.0897\n",
      "Epoch 52/250\n",
      "401/401 [==============================] - 18s 46ms/step - loss: 0.6318 - accuracy: 0.7558 - mse: 0.0864 - val_loss: 0.7121 - val_accuracy: 0.7315 - val_mse: 0.0932\n",
      "Epoch 53/250\n",
      "401/401 [==============================] - 17s 43ms/step - loss: 0.6287 - accuracy: 0.7548 - mse: 0.0860 - val_loss: 0.6886 - val_accuracy: 0.7556 - val_mse: 0.0905\n",
      "Epoch 54/250\n",
      "400/401 [============================>.] - ETA: 0s - loss: 0.6282 - accuracy: 0.7534 - mse: 0.0862INFO:tensorflow:Assets written to: C:\\PythonProjects\\GLODAL_Windows/Zahid_Wani_ADAM_01_Ethiopia_1990_1990_1645199586_1645199586\\model\\assets\n",
      "401/401 [==============================] - 20s 50ms/step - loss: 0.6289 - accuracy: 0.7530 - mse: 0.0863 - val_loss: 0.6533 - val_accuracy: 0.7613 - val_mse: 0.0879\n",
      "Epoch 55/250\n",
      "401/401 [==============================] - 17s 42ms/step - loss: 0.6272 - accuracy: 0.7582 - mse: 0.0858 - val_loss: 0.6655 - val_accuracy: 0.7528 - val_mse: 0.0893\n",
      "Epoch 56/250\n",
      "401/401 [==============================] - 17s 44ms/step - loss: 0.6258 - accuracy: 0.7562 - mse: 0.0857 - val_loss: 0.6727 - val_accuracy: 0.7575 - val_mse: 0.0890\n",
      "Epoch 57/250\n",
      "401/401 [==============================] - 18s 44ms/step - loss: 0.6250 - accuracy: 0.7583 - mse: 0.0857 - val_loss: 0.6839 - val_accuracy: 0.7575 - val_mse: 0.0898\n",
      "Epoch 58/250\n",
      "401/401 [==============================] - 17s 42ms/step - loss: 0.6269 - accuracy: 0.7555 - mse: 0.0859 - val_loss: 0.6686 - val_accuracy: 0.7691 - val_mse: 0.0875\n",
      "Epoch 59/250\n",
      "401/401 [==============================] - ETA: 0s - loss: 0.6255 - accuracy: 0.7562 - mse: 0.0858INFO:tensorflow:Assets written to: C:\\PythonProjects\\GLODAL_Windows/Zahid_Wani_ADAM_01_Ethiopia_1990_1990_1645199586_1645199586\\model\\assets\n",
      "401/401 [==============================] - 21s 53ms/step - loss: 0.6255 - accuracy: 0.7562 - mse: 0.0858 - val_loss: 0.6458 - val_accuracy: 0.7669 - val_mse: 0.0869\n",
      "Epoch 60/250\n",
      "401/401 [==============================] - 19s 46ms/step - loss: 0.6151 - accuracy: 0.7619 - mse: 0.0846 - val_loss: 0.6475 - val_accuracy: 0.7649 - val_mse: 0.0869\n",
      "Epoch 61/250\n",
      "401/401 [==============================] - 17s 44ms/step - loss: 0.6176 - accuracy: 0.7614 - mse: 0.0847 - val_loss: 0.6482 - val_accuracy: 0.7716 - val_mse: 0.0859\n",
      "Epoch 62/250\n",
      "400/401 [============================>.] - ETA: 0s - loss: 0.6187 - accuracy: 0.7602 - mse: 0.0848INFO:tensorflow:Assets written to: C:\\PythonProjects\\GLODAL_Windows/Zahid_Wani_ADAM_01_Ethiopia_1990_1990_1645199586_1645199586\\model\\assets\n",
      "401/401 [==============================] - 20s 50ms/step - loss: 0.6193 - accuracy: 0.7598 - mse: 0.0849 - val_loss: 0.6397 - val_accuracy: 0.7678 - val_mse: 0.0860\n",
      "Epoch 63/250\n",
      "401/401 [==============================] - 18s 45ms/step - loss: 0.6120 - accuracy: 0.7637 - mse: 0.0841 - val_loss: 0.6518 - val_accuracy: 0.7637 - val_mse: 0.0872\n",
      "Epoch 64/250\n",
      "400/401 [============================>.] - ETA: 0s - loss: 0.6198 - accuracy: 0.7581 - mse: 0.0851INFO:tensorflow:Assets written to: C:\\PythonProjects\\GLODAL_Windows/Zahid_Wani_ADAM_01_Ethiopia_1990_1990_1645199586_1645199586\\model\\assets\n",
      "401/401 [==============================] - 21s 53ms/step - loss: 0.6204 - accuracy: 0.7578 - mse: 0.0853 - val_loss: 0.6267 - val_accuracy: 0.7722 - val_mse: 0.0847\n",
      "Epoch 65/250\n",
      "401/401 [==============================] - 18s 45ms/step - loss: 0.6131 - accuracy: 0.7667 - mse: 0.0838 - val_loss: 0.6533 - val_accuracy: 0.7630 - val_mse: 0.0873\n",
      "Epoch 66/250\n",
      "401/401 [==============================] - 17s 44ms/step - loss: 0.6155 - accuracy: 0.7601 - mse: 0.0846 - val_loss: 0.6689 - val_accuracy: 0.7658 - val_mse: 0.0874\n",
      "Epoch 67/250\n",
      "401/401 [==============================] - ETA: 0s - loss: 0.6200 - accuracy: 0.7519 - mse: 0.0852INFO:tensorflow:Assets written to: C:\\PythonProjects\\GLODAL_Windows/Zahid_Wani_ADAM_01_Ethiopia_1990_1990_1645199586_1645199586\\model\\assets\n",
      "401/401 [==============================] - 21s 52ms/step - loss: 0.6200 - accuracy: 0.7519 - mse: 0.0852 - val_loss: 0.6095 - val_accuracy: 0.7784 - val_mse: 0.0829\n",
      "Epoch 68/250\n",
      "401/401 [==============================] - 19s 46ms/step - loss: 0.6131 - accuracy: 0.7622 - mse: 0.0843 - val_loss: 0.6125 - val_accuracy: 0.7748 - val_mse: 0.0834\n",
      "Epoch 69/250\n",
      "401/401 [==============================] - 18s 46ms/step - loss: 0.6122 - accuracy: 0.7609 - mse: 0.0843 - val_loss: 0.6236 - val_accuracy: 0.7714 - val_mse: 0.0845\n",
      "Epoch 70/250\n",
      "401/401 [==============================] - 18s 44ms/step - loss: 0.6102 - accuracy: 0.7610 - mse: 0.0841 - val_loss: 0.6264 - val_accuracy: 0.7762 - val_mse: 0.0838\n",
      "Epoch 71/250\n",
      "401/401 [==============================] - 18s 45ms/step - loss: 0.6082 - accuracy: 0.7649 - mse: 0.0837 - val_loss: 0.6270 - val_accuracy: 0.7685 - val_mse: 0.0851\n",
      "Epoch 72/250\n",
      "401/401 [==============================] - 18s 46ms/step - loss: 0.6100 - accuracy: 0.7613 - mse: 0.0839 - val_loss: 0.6186 - val_accuracy: 0.7743 - val_mse: 0.0837\n",
      "Epoch 73/250\n",
      "401/401 [==============================] - 18s 44ms/step - loss: 0.6088 - accuracy: 0.7607 - mse: 0.0838 - val_loss: 0.6226 - val_accuracy: 0.7720 - val_mse: 0.0846\n",
      "Epoch 74/250\n",
      "401/401 [==============================] - 17s 43ms/step - loss: 0.6072 - accuracy: 0.7700 - mse: 0.0834 - val_loss: 0.6500 - val_accuracy: 0.7432 - val_mse: 0.0890\n",
      "Epoch 75/250\n",
      "401/401 [==============================] - 18s 46ms/step - loss: 0.6227 - accuracy: 0.7548 - mse: 0.0860 - val_loss: 0.6396 - val_accuracy: 0.7506 - val_mse: 0.0875\n",
      "Epoch 76/250\n",
      "401/401 [==============================] - 20s 51ms/step - loss: 0.6158 - accuracy: 0.7586 - mse: 0.0848 - val_loss: 0.6444 - val_accuracy: 0.7423 - val_mse: 0.0872\n",
      "Epoch 77/250\n",
      "401/401 [==============================] - 19s 47ms/step - loss: 0.6147 - accuracy: 0.7527 - mse: 0.0847 - val_loss: 0.6317 - val_accuracy: 0.7432 - val_mse: 0.0853\n",
      "Epoch 78/250\n",
      "401/401 [==============================] - 20s 49ms/step - loss: 0.6066 - accuracy: 0.7592 - mse: 0.0834 - val_loss: 0.6389 - val_accuracy: 0.7590 - val_mse: 0.0858\n",
      "Epoch 79/250\n",
      "401/401 [==============================] - 19s 46ms/step - loss: 0.6052 - accuracy: 0.7615 - mse: 0.0832 - val_loss: 0.6236 - val_accuracy: 0.7635 - val_mse: 0.0847\n",
      "Epoch 80/250\n",
      "401/401 [==============================] - 19s 48ms/step - loss: 0.6058 - accuracy: 0.7608 - mse: 0.0833 - val_loss: 0.6538 - val_accuracy: 0.7670 - val_mse: 0.0860\n",
      "Epoch 81/250\n",
      "401/401 [==============================] - 18s 46ms/step - loss: 0.6037 - accuracy: 0.7639 - mse: 0.0831 - val_loss: 0.6256 - val_accuracy: 0.7628 - val_mse: 0.0850\n",
      "Epoch 82/250\n",
      "401/401 [==============================] - 18s 44ms/step - loss: 0.6047 - accuracy: 0.7634 - mse: 0.0832 - val_loss: 0.6232 - val_accuracy: 0.7694 - val_mse: 0.0838\n",
      "Epoch 83/250\n",
      "401/401 [==============================] - 17s 43ms/step - loss: 0.6046 - accuracy: 0.7696 - mse: 0.0829 - val_loss: 0.6465 - val_accuracy: 0.7349 - val_mse: 0.0893\n",
      "Epoch 84/250\n",
      "401/401 [==============================] - 18s 45ms/step - loss: 0.6119 - accuracy: 0.7570 - mse: 0.0843 - val_loss: 0.6185 - val_accuracy: 0.7593 - val_mse: 0.0844\n",
      "Epoch 85/250\n",
      "401/401 [==============================] - 19s 47ms/step - loss: 0.6032 - accuracy: 0.7633 - mse: 0.0830 - val_loss: 0.6218 - val_accuracy: 0.7599 - val_mse: 0.0845\n",
      "Epoch 86/250\n",
      "401/401 [==============================] - 18s 44ms/step - loss: 0.6027 - accuracy: 0.7624 - mse: 0.0829 - val_loss: 0.6317 - val_accuracy: 0.7619 - val_mse: 0.0849\n",
      "Epoch 87/250\n",
      "401/401 [==============================] - 18s 45ms/step - loss: 0.5984 - accuracy: 0.7636 - mse: 0.0825 - val_loss: 0.6380 - val_accuracy: 0.7653 - val_mse: 0.0850\n",
      "Epoch 88/250\n",
      "401/401 [==============================] - 18s 44ms/step - loss: 0.5992 - accuracy: 0.7646 - mse: 0.0824 - val_loss: 0.6304 - val_accuracy: 0.7673 - val_mse: 0.0843\n",
      "Epoch 89/250\n",
      " 88/401 [=====>........................] - ETA: 14s - loss: 0.8345 - accuracy: 0.6236 - mse: 0.1181"
     ]
    }
   ],
   "source": [
    "from keras.callbacks import ModelCheckpoint\n",
    "from keras.callbacks import LearningRateScheduler\n",
    "\n",
    "log_d = MY_BUCKET_PATH + '/' + FOLDER_NAME + '/' + 'model'\n",
    "os.makedirs(log_d, exist_ok=True)\n",
    "print(log_d)\n",
    "def build_callbacks():\n",
    "    checkpointer = ModelCheckpoint(filepath = log_d, verbose=0, save_best_only=True, monitor='val_loss')\n",
    "    callbacks = [checkpointer]\n",
    "    return callbacks\n",
    "history = model.fit(x=input_dataset,validation_data=(validate_dataset), epochs=ep, callbacks=build_callbacks())"
   ]
  },
  {
   "cell_type": "code",
   "execution_count": null,
   "id": "2a783e38-87a4-4b9b-a001-6e501b44c356",
   "metadata": {},
   "outputs": [],
   "source": [
    "import matplotlib.pyplot as plt\n",
    "# summarize history for accuracy\n",
    "plt.plot(history.history['accuracy'])\n",
    "plt.plot(history.history['val_accuracy'])\n",
    "plt.title('model accuracy')\n",
    "plt.ylabel('accuracy')\n",
    "plt.xlabel('epoch')\n",
    "plt.legend(['train', 'test'], loc='upper left')\n",
    "plt.show()\n",
    "# summarize history for loss\n",
    "plt.plot(history.history['loss'])\n",
    "plt.plot(history.history['val_loss'])\n",
    "plt.title('model loss')\n",
    "plt.ylabel('loss')\n",
    "plt.xlabel('epoch')\n",
    "plt.legend(['train', 'test'], loc='upper left')\n",
    "plt.show()"
   ]
  },
  {
   "cell_type": "code",
   "execution_count": null,
   "id": "8abfe4af-1e12-4ac2-b905-6228772901d6",
   "metadata": {},
   "outputs": [],
   "source": [
    " model.evaluate(validate_dataset)"
   ]
  },
  {
   "cell_type": "code",
   "execution_count": null,
   "id": "218d6957-6620-4696-b84a-b6e1f480d9c2",
   "metadata": {},
   "outputs": [],
   "source": [
    "image_export_options = {\n",
    "    'patchDimensions': [patch_size, patch_size],\n",
    "    'maxFileSize': 104857600,\n",
    "    'compressed': True\n",
    "}\n",
    "\n",
    "image_task = ee.batch.Export.image.toCloudStorage(\n",
    "  image=out_image_texture,\n",
    "  description='Image Export',\n",
    "  fileNamePrefix= IMAGE_FILE_PREFIX,\n",
    "  bucket=bucket_name,\n",
    "  scale=spatial_resolution,\n",
    "  fileFormat='TFRecord',\n",
    "  region=out_ext_buffer,\n",
    "  formatOptions=image_export_options,\n",
    ")\n",
    "\n",
    "image_task.start()"
   ]
  },
  {
   "cell_type": "code",
   "execution_count": null,
   "id": "6d990cfa-8ecc-4bf3-a51f-fd9993fe0188",
   "metadata": {},
   "outputs": [],
   "source": [
    "while image_task.active():\n",
    "  print('Polling for task (id: {}).'.format(image_task.id))\n",
    "  time.sleep(20)\n",
    "print('Done with image export.')"
   ]
  },
  {
   "cell_type": "code",
   "execution_count": null,
   "id": "59ece945-3e97-4d31-910c-f42f43380405",
   "metadata": {},
   "outputs": [],
   "source": [
    "blobs = storage_client.list_blobs(bucket_name)\n",
    "\n",
    "names= []\n",
    "\n",
    "x = int(len(IMAGE_FILE_PREFIX))\n",
    "\n",
    "for blob in blobs:\n",
    "    if len(blob.name) > x:\n",
    "        if blob.name[:x] == IMAGE_FILE_PREFIX:\n",
    "            # print(blob.name)\n",
    "            download_file_from_bucket(blob.name, FOLDER_PATH + '/'+ blob.name, bucket_name)\n",
    "            move_blob(bucket_name, blob.name, bucket_name, blob_name + blob.name)\n",
    "            # print(blob.name)\n"
   ]
  },
  {
   "cell_type": "code",
   "execution_count": null,
   "id": "11f8c5f0-3c3d-41d1-a118-eb72e50f06fc",
   "metadata": {},
   "outputs": [],
   "source": [
    "tfrecord_list = glob.glob(MY_BUCKET_PATH +'/' + FOLDER_NAME + '/' + '*.tfrecord.gz')\n",
    "tfrecord_list.sort()\n",
    "pprint(tfrecord_list)\n",
    "\n",
    "json_list = glob.glob(MY_BUCKET_PATH +'/' + FOLDER_NAME + '/' + '*.json')\n",
    "pprint(json_list)"
   ]
  },
  {
   "cell_type": "code",
   "execution_count": null,
   "id": "446fcf26-d985-4172-9e9a-bba43b2d49a6",
   "metadata": {},
   "outputs": [],
   "source": [
    "with open(json_list[0], \"r\") as read_file:\n",
    "   mixer = json.load(read_file)\n",
    "\n",
    "mixer"
   ]
  },
  {
   "cell_type": "code",
   "execution_count": null,
   "id": "4fb600f0-9e72-49ac-ba0e-80f3a02562d4",
   "metadata": {},
   "outputs": [],
   "source": [
    "patch_width = mixer['patchDimensions'][0]\n",
    "patch_height = mixer['patchDimensions'][1]\n",
    "patches = mixer['totalPatches']\n",
    "patch_dimensions_flat = [patch_width*patch_height, 1]\n",
    "\n",
    "image_columns = [\n",
    "                tf.io.FixedLenFeature(shape=patch_dimensions_flat, dtype=tf.float32) for k in BANDS\n",
    "]\n",
    "\n",
    "image_features_dict = dict(zip(BANDS, image_columns))\n",
    "\n",
    "image_dataset = tf.data.TFRecordDataset(tfrecord_list, compression_type='GZIP')\n"
   ]
  },
  {
   "cell_type": "code",
   "execution_count": null,
   "id": "f88f4d3d-bce5-4120-89ce-f3b43a53ef3f",
   "metadata": {},
   "outputs": [],
   "source": [
    "def parse_image(example_proto):\n",
    "  return tf.io.parse_single_example(example_proto, image_features_dict)"
   ]
  },
  {
   "cell_type": "code",
   "execution_count": null,
   "id": "11703211-42fe-4d26-9a91-5ef46cfc42ae",
   "metadata": {},
   "outputs": [],
   "source": [
    "image_dataset = image_dataset.map(parse_image, num_parallel_calls=5)\n",
    "\n",
    "image_dataset = image_dataset.flat_map(\n",
    "    lambda features: tf.data.Dataset.from_tensor_slices(features)\n",
    ")\n",
    "\n",
    "image_dataset = image_dataset.map(\n",
    "  lambda data_dict: (tf.transpose(list(data_dict.values())), )\n",
    ")\n",
    "\n",
    "image_dataset = image_dataset.batch(patch_width * patch_height)"
   ]
  },
  {
   "cell_type": "code",
   "execution_count": null,
   "id": "f662bd12-d6e5-47c0-9a96-586fcd866c87",
   "metadata": {},
   "outputs": [],
   "source": [
    "predictions = model.predict(image_dataset, steps=patches, verbose=1)\n",
    "print(predictions[0])"
   ]
  },
  {
   "cell_type": "code",
   "execution_count": null,
   "id": "daf3ed12-962b-4abf-8c70-8c2eaced96b7",
   "metadata": {},
   "outputs": [],
   "source": [
    "writer = tf.io.TFRecordWriter(OUTPUT_IMAGE_TFR)\n",
    "\n",
    "patch = [[]]\n",
    "cur_patch = 1\n",
    "for prediction in predictions:\n",
    "  patch[0].append(tf.argmax(prediction, 1))\n",
    "\n",
    "  if (len(patch[0])==patch_width*patch_height):\n",
    "    print('Done with Patch ' + str(cur_patch) + ' of ' + str(patches) + '...')\n",
    "    example = tf.train.Example(\n",
    "        features=tf.train.Features(\n",
    "            feature={\n",
    "                'prediction': tf.train.Feature(\n",
    "                    float_list=tf.train.FloatList(\n",
    "                        value=patch[0]\n",
    "                    )\n",
    "                )\n",
    "            }\n",
    "        )\n",
    "    )\n",
    "\n",
    "    writer.write(example.SerializeToString())\n",
    "    patch=[[]]\n",
    "    cur_patch +=1\n",
    "  \n",
    "writer.close()"
   ]
  },
  {
   "cell_type": "code",
   "execution_count": null,
   "id": "8b885fa6-e4e3-4e90-b310-08aae70e3408",
   "metadata": {},
   "outputs": [],
   "source": [
    "record_iterator = tf.compat.v1.python_io.tf_record_iterator(path=OUTPUT_IMAGE_TFR)\n",
    "\n",
    "n_row = patches/mixer['patchesPerRow']\n",
    "n_col = mixer['patchesPerRow']\n",
    "current_row = 0\n",
    "current_col = 0\n",
    "counter = 0\n",
    "\n",
    "for string_record in record_iterator:\n",
    "  example = tf.train.Example()\n",
    "  example.ParseFromString(string_record)\n",
    "  values = np.array(example.features.feature['prediction'].float_list.value).reshape(patch_width, patch_height).astype(np.int8)\n",
    "\n",
    "  if (current_col==0):\n",
    "    horizontal_strip = values\n",
    "  else:\n",
    "    horizontal_strip = np.concatenate([horizontal_strip, values], axis=1)\n",
    "  current_col += 1\n",
    "\n",
    "  if (current_col == n_col):\n",
    "    if (current_row==0):\n",
    "      image = horizontal_strip\n",
    "    else:\n",
    "      image = np.concatenate([image, horizontal_strip], axis=0)\n",
    "      horizontal_strip = []\n",
    "\n",
    "    current_row +=1\n",
    "    current_col = 0\n",
    "    print(counter)\n",
    "  counter +=1\n",
    "print(counter)"
   ]
  },
  {
   "cell_type": "code",
   "execution_count": null,
   "id": "64ae4867-7a2d-4746-a640-c6d91b183202",
   "metadata": {},
   "outputs": [],
   "source": [
    "imgplot = plt.imshow(image, cmap=plt.get_cmap('jet'), vmin=0, vmax=1)\n",
    "plt.show()"
   ]
  },
  {
   "cell_type": "code",
   "execution_count": null,
   "id": "19e9ae5e-c7a5-447e-aee0-32f85ddd185a",
   "metadata": {},
   "outputs": [],
   "source": [
    "affine = mixer['projection']['affine']['doubleMatrix']\n",
    "geotransform = (affine[2], affine[0], affine[1], affine[5], affine[3], affine[4])\n",
    "crs = int(mixer['projection']['crs'][-4:])\n",
    "print(affine)\n",
    "print(geotransform)\n",
    "print(crs)"
   ]
  },
  {
   "cell_type": "code",
   "execution_count": null,
   "id": "04f084a7-94af-41f3-8835-0bd7bc201e42",
   "metadata": {},
   "outputs": [],
   "source": [
    "ny, nx = image.shape\n",
    "dst_ds = gdal.GetDriverByName('GTiff').Create(OUTPUT_IMAGE_TIF, nx, ny, 1, gdal.GDT_Byte)\n",
    "dst_ds.SetGeoTransform(tuple(geotransform))\n",
    "srs = osr.SpatialReference()\n",
    "srs.ImportFromEPSG(crs)\n",
    "dst_ds.SetProjection(srs.ExportToWkt())\n",
    "dst_ds.GetRasterBand(1).WriteArray(image)\n",
    "dst_ds.FlushCache()\n",
    "dst_ds = None\n",
    "\n",
    "print(\"Exorting \" + OUTPUT_IMAGE_TIF + \" completed.\")"
   ]
  },
  {
   "cell_type": "code",
   "execution_count": null,
   "id": "4265dd1e-da8a-4c70-9e61-d60cd8728af9",
   "metadata": {},
   "outputs": [],
   "source": [
    "fcc_image = out_image.select(landsat_params['FCCbands'])\n",
    "fcc_prefix = city_name + '_' + str(year_begin) + '_' + str(year_end)+'_fcc'\n",
    "fcc_task = ee.batch.Export.image.toCloudStorage(**{\n",
    "    'image': fcc_image,\n",
    "    'description': fcc_prefix,\n",
    "    'bucket': bucket_name,\n",
    "    'fileNamePrefix': fcc_prefix,\n",
    "    'scale': spatial_resolution,\n",
    "    'region': out_ext\n",
    "})\n",
    "\n",
    "fcc_task.start()"
   ]
  },
  {
   "cell_type": "code",
   "execution_count": null,
   "id": "390312bc-f1e3-4f35-a5b5-0d3cf54795a1",
   "metadata": {},
   "outputs": [],
   "source": [
    "while fcc_task.active():\n",
    "  print('Polling for task (id: {}).'.format(fcc_task.id))\n",
    "  time.sleep(20)\n",
    "print('Done with fcc image export.')"
   ]
  },
  {
   "cell_type": "code",
   "execution_count": null,
   "id": "42aba9ce-2782-4e00-986a-ff00db11142a",
   "metadata": {},
   "outputs": [],
   "source": [
    "download_file_from_bucket(fcc_prefix + '.tif', FOLDER_PATH + '/'+ fcc_prefix + '.tif', bucket_name)\n",
    "move_blob(bucket_name, fcc_prefix + '.tif' , bucket_name, blob_name + fcc_prefix + '.tif')"
   ]
  },
  {
   "cell_type": "code",
   "execution_count": null,
   "id": "4d47462d-a6fb-46ed-aad3-2cdf34d1aa7e",
   "metadata": {},
   "outputs": [],
   "source": [
    "lc_dir = MY_BUCKET_PATH + '/' + FOLDER_NAME + '/' + 'lc_map'\n",
    "fcc_path = MY_BUCKET_PATH + '/' + FOLDER_NAME + '/' + fcc_prefix+'.tif'\n",
    "ref_dir = MY_BUCKET_PATH + '/' + FOLDER_NAME + '/' + 'ref_map'\n",
    "\n",
    "os.makedirs(lc_dir, exist_ok = True)\n",
    "os.makedirs(ref_dir, exist_ok = True)\n",
    "\n",
    "print(lc_dir)\n",
    "# print(path)\n",
    "\n",
    "\n",
    "for name in os.listdir(path):\n",
    "    if name[:x] == IMAGE_FILE_PREFIX:\n",
    "        # print (name[-12:])\n",
    "        if name[-12:] == file_extension:\n",
    "            print(name)\n",
    "            shutil.move(os.path.join(path, name), lc_dir)\n",
    "shutil.move(OUTPUT_IMAGE_TFR, lc_dir)    \n",
    "shutil.move(OUTPUT_IMAGE_TIF, lc_dir)\n",
    "shutil.move(fcc_path, ref_dir)"
   ]
  },
  {
   "cell_type": "code",
   "execution_count": null,
   "id": "01e59b12-67dd-44ea-a478-b3a577250829",
   "metadata": {},
   "outputs": [],
   "source": []
  }
 ],
 "metadata": {
  "kernelspec": {
   "display_name": "Python 3 (ipykernel)",
   "language": "python",
   "name": "python3"
  },
  "language_info": {
   "codemirror_mode": {
    "name": "ipython",
    "version": 3
   },
   "file_extension": ".py",
   "mimetype": "text/x-python",
   "name": "python",
   "nbconvert_exporter": "python",
   "pygments_lexer": "ipython3",
   "version": "3.9.10"
  },
  "toc-autonumbering": true,
  "toc-showmarkdowntxt": true
 },
 "nbformat": 4,
 "nbformat_minor": 5
}
