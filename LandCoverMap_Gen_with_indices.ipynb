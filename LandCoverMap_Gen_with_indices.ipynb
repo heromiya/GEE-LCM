{
  "nbformat": 4,
  "nbformat_minor": 0,
  "metadata": {
    "colab": {
      "name": "LandCoverMap-Gen_with_indices",
      "provenance": [],
      "collapsed_sections": [],
      "include_colab_link": true
    },
    "kernelspec": {
      "name": "python3",
      "display_name": "Python 3"
    }
  },
  "cells": [
    {
      "cell_type": "markdown",
      "metadata": {
        "id": "view-in-github",
        "colab_type": "text"
      },
      "source": [
        "<a href=\"https://colab.research.google.com/github/heromiya/GEE-LCM/blob/master/LandCoverMap_Gen_with_indices.ipynb\" target=\"_parent\"><img src=\"https://colab.research.google.com/assets/colab-badge.svg\" alt=\"Open In Colab\"/></a>"
      ]
    },
    {
      "cell_type": "code",
      "metadata": {
        "id": "T2ZJ35452rzI"
      },
      "source": [
        "from google.colab import auth\r\n",
        "auth.authenticate_user()"
      ],
      "execution_count": null,
      "outputs": []
    },
    {
      "cell_type": "code",
      "metadata": {
        "id": "M7nM_2rm5FZ1"
      },
      "source": [
        "import ee\r\n",
        "ee.Authenticate()\r\n",
        "ee.Initialize()"
      ],
      "execution_count": null,
      "outputs": []
    },
    {
      "cell_type": "code",
      "metadata": {
        "id": "l-IJo5Y0DhCB"
      },
      "source": [
        "import time\r\n",
        "ts = time.time()\r\n",
        "timestamp = int(ts)\r\n",
        "\r\n",
        "cloud = 30\r\n",
        "spatialResolution = 90\r\n",
        "fullPoints = ee.FeatureCollection('users/heromiya/gt-pt-10000')\r\n",
        "GoogleDriveFolderLC = \"LandCoverMapGen-LC-\"+ str(timestamp)\r\n",
        "GoogleDriveFolderAA = 'LandCoverMapGen-AA'\r\n",
        "nSample = 10000\r\n",
        "numberOfTrees = 100\r\n",
        "minLeafPopulation = 100\r\n",
        "\r\n",
        "filterDist = 370000\r\n",
        "\r\n",
        "ROI = [\r\n",
        "{'cityName': 'PHL-Laguna', 'LatMax': 14.6, 'LatMin': 14.1, 'LonMax': 121.6, 'LonMin': 120.9, 'yearBegin':2004, 'yearEnd':2005, 'doyFilter':ee.Filter.And(ee.Filter.greaterThanOrEquals('doy',  1), ee.Filter.lessThanOrEquals('doy',  366)), 'doyFilterLandsat': ee.Filter.dayOfYear(1,366)},\r\n",
        "     ]\r\n",
        "  "
      ],
      "execution_count": null,
      "outputs": []
    },
    {
      "cell_type": "code",
      "metadata": {
        "id": "S4wTqytaETTF"
      },
      "source": [
        "AA = []\r\n",
        "year= ''\r\n",
        "roi= ''\r\n",
        "kernel = ee.Kernel.gaussian(3)\r\n",
        "outExt = ''\r\n",
        "\r\n",
        "def cloudMask(img):\r\n",
        "  return img.updateMask(img.select('BQA').lt(64))\r\n",
        "\r\n",
        "def addDist(feature):\r\n",
        "  return feature.set({'d': feature.distance(outExt)})"
      ],
      "execution_count": null,
      "outputs": []
    },
    {
      "cell_type": "code",
      "metadata": {
        "id": "6c8jDjx9ylTj"
      },
      "source": [
        "# print(ROI)\r\n",
        "for roi in range(0, len(ROI), 1):\r\n",
        "  cityName = ROI[roi]['cityName']\r\n",
        "  yearBegin = ROI[roi]['yearBegin']\r\n",
        "  yearEnd = ROI[roi]['yearEnd']\r\n",
        "  for year in range(yearBegin, yearEnd+1, 1):\r\n",
        "    nSampleClass = []\r\n",
        "    outExt = ee.Geometry.Rectangle([ ROI[roi]['LonMin'], ROI[roi]['LatMin'], ROI[roi]['LonMax'], ROI[roi]['LatMax']])\r\n",
        "    gtBounds = fullPoints.geometry().bounds().getInfo()[\"coordinates\"]\r\n",
        "    gtLonMin = gtBounds[0][0][0]\r\n",
        "    gtLatMin = gtBounds[0][0][1]\r\n",
        "    gtLonMax = gtBounds[0][2][0]\r\n",
        "    gtLatMax = gtBounds[0][2][1]\r\n",
        "\r\n",
        "    gtExt = ee.Geometry.Rectangle([gtLonMin, gtLatMin, gtLonMax, gtLatMax])\r\n",
        "\r\n",
        "    if (yearBegin >= 2013):\r\n",
        "        bands = ['B2', 'B3', 'B4', 'B5', 'B6', 'B7']\r\n",
        "        FCCbands = ['B5', 'B4', 'B3']\r\n",
        "        TextureBand = ['B5']\r\n",
        "        bandsClassify = ['B2', 'B3', 'B4', 'B5', 'B6', 'B7','B5_1']\r\n",
        "        bandsGLCM = ['B2', 'B3', 'B4', 'B5', 'B6', 'B7', 'B5_asm',    'B5_contrast',\"B5_corr\",  \"B5_var\",     \"B5_idm\",   \"B5_savg\", \"B5_svar\",   \"B5_sent\",    \"B5_ent\",   \"B5_dvar\",    \"B5_dent\",  \"B5_imcorr1\", \"B5_imcorr2\",\"B5_maxcorr\", \"B5_diss\",  \"B5_inertia\", \"B5_shade\", \"B5_prom\"]\r\n",
        "        Landsat = 'LANDSAT/LC08/C01/T1'\r\n",
        "\r\n",
        "    elif (yearBegin >= 1999 and yearBegin <= 2002):\r\n",
        "        bands = ['B1', 'B2', 'B3', 'B4', 'B5', 'B7']\r\n",
        "        TextureBand = ['B4']\r\n",
        "        bandsClassify = ['B1', 'B2', 'B3', 'B4', 'B5', 'B7','B4_1']\r\n",
        "        bandsGLCM = ['B1', 'B2', 'B3', 'B4', 'B5', 'B7', 'B4_asm', 'B4_contrast',\"B4_corr\", \"B4_var\",\"B4_idm\",\"B4_savg\", \"B4_svar\",\"B4_sent\",\"B4_ent\",\"B4_dvar\",\"B4_dent\",\"B4_imcorr1\", \"B4_imcorr2\",\"B4_maxcorr\",\"B4_diss\",\"B4_inertia\",\"B4_shade\",\"B4_prom\"]\r\n",
        "        FCCbands = ['B4', 'B3', 'B2']       \r\n",
        "        Landsat = 'LANDSAT/LE07/C01/T1'\r\n",
        "\r\n",
        "    elif (yearBegin >= 1984 and yearBegin <= 1998 or yearBegin >=2003 and yearBegin <=2012):\r\n",
        "        bands = ['B1', 'B2', 'B3', 'B4', 'B5', 'B7']\r\n",
        "        bandsClassify = ['B1', 'B2', 'B3', 'B4', 'B5', 'B7','B4_1']\r\n",
        "        bandsGLCM = ['B1', 'B2', 'B3', 'B4', 'B5', 'B7', 'B4_asm', 'B4_contrast',\"B4_corr\", \"B4_var\",\"B4_idm\",\"B4_savg\", \"B4_svar\",\"B4_sent\",\"B4_ent\",\"B4_dvar\",\"B4_dent\",\"B4_imcorr1\", \"B4_imcorr2\",\"B4_maxcorr\",\"B4_diss\",\"B4_inertia\",\"B4_shade\",\"B4_prom\"]\r\n",
        "        FCCbands = ['B4', 'B3', 'B2']\r\n",
        "        TextureBand = ['B4']\r\n",
        "        Landsat = 'LANDSAT/LT05/C01/T1'\r\n",
        "\r\n",
        "    elif (yearBegin >= 1975 and yearBegin <= 1982):\r\n",
        "        bands = ['B4_median', 'B5_median', 'B6_median','B7_median','B6_median_1']\r\n",
        "        bandsClassify = ['B4_median', 'B5_median', 'B6_median', 'B7_median']\r\n",
        "        FCCbands = ['B6_median', 'B5_median', 'B4_median']\r\n",
        "        TextureBand = ['B6_median']\r\n",
        "        Landsat = 'LANDSAT/LM02/C01/T2'\r\n",
        "\r\n",
        "    else:\r\n",
        "      print(\"Year out of range !!!\")\r\n",
        "      break\r\n",
        "\r\n",
        "    gtYearBegin = yearBegin\r\n",
        "    gtYearEnd = yearEnd\r\n",
        "\r\n",
        "    yearSubset = fullPoints.filter(ee.Filter.And(ee.Filter.greaterThanOrEquals('year', gtYearBegin), ee.Filter.lessThanOrEquals('year', gtYearEnd), ROI[roi]['doyFilter']))\r\n",
        "\r\n",
        "    dist = yearSubset.map(addDist)\r\n",
        "    distFilter = ee.Filter.lt('d', filterDist)\r\n",
        "    points = dist.filter(ee.Filter.eq('class', 1)).filter(distFilter).limit(nSample,\"d\")\r\n",
        "    nSampleClass.insert(0,points.size()) \r\n",
        "\r\n",
        "    for i in range(2, 5, 1):\r\n",
        "      randomSampleClass = dist.filter(ee.Filter.eq('class', i)).filter(distFilter).limit(nSample,\"d\")\r\n",
        "      nSampleClass.insert(i-1, randomSampleClass.size())\r\n",
        "      points = points.merge(randomSampleClass)\r\n",
        "\r\n",
        "    #nRandomSample = points.size().getInfo()\r\n",
        "    #if(nRandomSample > 300):\r\n",
        "    #    print(cityName + \",\" + str(yearBegin)+\",\"+str(nRandomSample))\r\n",
        "\r\n",
        "    if (Landsat == 'LANDSAT/LM02/C01/T2'):\r\n",
        "        landsatImg = ee.ImageCollection(Landsat) \\\r\n",
        "                        .filterDate(str(gtYearBegin) + '-01-01',str(gtYearEnd) + '-12-31') \\\r\n",
        "                        .filter(ROI[roi]['doyFilterLandsat']) \\\r\n",
        "                        .filterMetadata('CLOUD_COVER_LAND', 'less_than', 50) \\\r\n",
        "                        .map(cloudMask).reduce(ee.Reducer.median())\r\n",
        "        landsatImgInt = landsatImg.toByte()\r\n",
        "\r\n",
        "    else:\r\n",
        "\r\n",
        "        landsatCol = ee.ImageCollection(Landsat) \\\r\n",
        "                          .filterDate(str(gtYearBegin) + '-01-01',str(gtYearEnd) + '-12-31') \\\r\n",
        "                          .filter(ROI[roi]['doyFilterLandsat'])\r\n",
        "\r\n",
        "        landsatImg    = ee.Algorithms.Landsat.simpleComposite(landsatCol,50,cloud,40,True)\r\n",
        "        landsatImgInt = ee.Algorithms.Landsat.simpleComposite(landsatCol,50,cloud,40,False)\r\n",
        "    \r\n",
        "    if (Landsat == 'LANDSAT/LM02/C01/T2'):\r\n",
        "      nir = landsatImg.select('B6_median')\r\n",
        "      red = landsatImg.select('B5_median')\r\n",
        "      ndvi = nir.subtract(red).divide(nir.add(red))\r\n",
        "      landsatImg = landsatImg.addBands(ndvi)\r\n",
        "      landsatImg = landsatImg.rename('B4_median','B5_median','B6_median','B7_median','BQA_median','ndvi')\r\n",
        "      bandsClassify.append('ndvi')\r\n",
        "    else:\r\n",
        "      if (Landsat == 'LANDSAT/LC08/C01/T1'):\r\n",
        "        swir  = landsatImg.select('B6') #swir band selection for landsat 8\r\n",
        "        nir   = landsatImg.select('B5') #nir band selection for landsat 8\r\n",
        "        red   = landsatImg.select('B4') # red band selection of landsat 8\r\n",
        "        green = landsatImg.select('B3') # green band \r\n",
        "      elif (Landsat == 'LANDSAT/LE07/C01/T1' or Landsat == 'LANDSAT/LT05/C01/T1'):\r\n",
        "        swir  = landsatImg.select('B5')\r\n",
        "        nir   = landsatImg.select('B4')\r\n",
        "        red   = landsatImg.select('B3')\r\n",
        "        green = landsatImg.select('B2')\r\n",
        "\r\n",
        "      ndvi = nir.subtract(red).divide(nir.add(red)) # ndvi calculation \r\n",
        "      ndbi = swir.subtract(nir).divide(swir.add(nir)) # ndbi calculation \r\n",
        "      bi = ndbi.subtract(ndvi)                        # built-up index calculation \r\n",
        "      ndwi = green.subtract(swir).divide(green.add(swir)) # adding NDWI \r\n",
        "      landsatImg = landsatImg.addBands(ndvi)    # adding bands to the image\r\n",
        "      landsatImg = landsatImg.addBands(ndbi)\r\n",
        "      landsatImg = landsatImg.addBands(bi)\r\n",
        "      landsatImg = landsatImg.addBands(ndwi)\r\n",
        "\r\n",
        "      if (Landsat == 'LANDSAT/LC08/C01/T1'):\r\n",
        "        landsatImg = landsatImg.rename('B1','B2','B3','B4','B5','B6','B7','B8','B9','B10','B11','ndvi','ndbi','bi','ndwi')  # renaming bands with their respective names\r\n",
        "      elif (Landsat == 'LANDSAT/LE07/C01/T1'):\r\n",
        "        landsatImg = landsatImg.rename('B1','B2','B3','B4','B5','B6_VCID_1','B6_VCID_2','B7','B8','ndvi','ndbi','bi','ndwi')\r\n",
        "      elif (Landsat == 'LANDSAT/LT05/C01/T1'):\r\n",
        "        landsatImg = landsatImg.rename('B1','B2','B3','B4','B5','B6','B7','ndvi','ndbi','bi','ndwi')\r\n",
        "\r\n",
        "      bandsClassify.append('ndvi')   # appending newly calculated bands to bandclassify list for classification\r\n",
        "      bandsClassify.append('ndbi')\r\n",
        "      bandsClassify.append('bi')\r\n",
        "      bandsClassify.append('ndwi')\r\n",
        "\r\n",
        "    gtImage = landsatImg.clip(gtExt)\r\n",
        "    gtImageInt = landsatImgInt.clip(gtExt)\r\n",
        "    gtImageTexture = gtImage.addBands(gtImageInt.select(TextureBand).entropy(kernel))\r\n",
        "\r\n",
        "    outImage = landsatImg.clip(outExt)\r\n",
        "    outImageInt = landsatImgInt.clip(outExt)\r\n",
        "    outImageTexture = outImage.addBands(outImageInt.select(TextureBand).entropy(kernel))\r\n",
        "\r\n",
        "    #alg = ee.Classifier.smileRandomForest(numberOfTrees)\r\n",
        "    alg = ee.Classifier.smileRandomForest(numberOfTrees, None , minLeafPopulation, 0.5, None, 0)\r\n",
        "    trainInput = gtImageTexture.sampleRegions(points,['class'],1)"
      ],
      "execution_count": null,
      "outputs": []
    },
    {
      "cell_type": "code",
      "metadata": {
        "id": "1s26DI3wyMUx"
      },
      "source": [
        "    classifier = alg.train(trainInput, 'class', bandsClassify)\n",
        "\n",
        "    classified = outImageTexture.select(bandsClassify).classify(classifier).focal_mode()\n",
        "    compositeImage = outImage.select(FCCbands)"
      ],
      "execution_count": null,
      "outputs": []
    },
    {
      "cell_type": "code",
      "metadata": {
        "id": "kXaUyTp-yUHA"
      },
      "source": [
        "    trainAccuracy = classifier.confusionMatrix()\n",
        "    AA.append(ee.Feature(outExt,\n",
        "                        {\n",
        "                          'cityName': cityName,\n",
        "                          'year': str(yearBegin) + '-' + str(yearEnd),\n",
        "                          'ts': str(timestamp),\n",
        "                          'OA': trainAccuracy.accuracy(),\n",
        "                          'KA': trainAccuracy.kappa(),\n",
        "                          'CA': trainAccuracy.consumersAccuracy(),\n",
        "                          'PA': trainAccuracy.producersAccuracy(),\n",
        "                          'nSample': nSampleClass\n",
        "                        }))\n",
        "    \n",
        "    lcTask = ee.batch.Export.image.toDrive(**{\n",
        "      'image': classified,\n",
        "      'description': 'LC-' + cityName + '_' + str(yearBegin) + '-' + str(yearEnd) + '_' + str(timestamp),\n",
        "      'folder': GoogleDriveFolderLC,\n",
        "      'fileNamePrefix': 'LC-' + cityName + '_' + str(yearBegin) + '-' + str(yearEnd) + '_' + str(timestamp),\n",
        "      'scale': spatialResolution,\n",
        "      'region': outExt\n",
        "    })\n",
        "\n",
        "    lcTask.start()\n",
        "\n",
        "    fccTask = ee.batch.Export.image.toDrive(**{\n",
        "      'image': compositeImage,\n",
        "      'description':    'FCC-' + cityName + '-' + str(yearBegin) + '-' + str(yearEnd) + '-' + str(timestamp),\n",
        "      'folder': GoogleDriveFolderLC,\n",
        "      'fileNamePrefix': 'FCC-' + cityName + '-' + str(yearBegin) + '-' + str(yearEnd) + '-' + str(timestamp),\n",
        "      'scale': spatialResolution,\n",
        "      'region': outExt\n",
        "    })\n",
        "\n",
        "    fccTask.start()\n",
        "\n",
        "aaTask = ee.batch.Export.table.toDrive(**{\n",
        "  'collection': ee.FeatureCollection(AA),\n",
        "  'description': 'AA-'+ str(timestamp),\n",
        "  'folder': GoogleDriveFolderAA,\n",
        "  'fileNamePrefix': 'AA-'+ str(timestamp),\n",
        "  })\n",
        "\n",
        "aaTask.start()"
      ],
      "execution_count": null,
      "outputs": []
    },
    {
      "cell_type": "code",
      "metadata": {
        "id": "b6pFFwct-jHg"
      },
      "source": [
        "print(trainAccuracy.getInfo())"
      ],
      "execution_count": null,
      "outputs": []
    }
  ]
}