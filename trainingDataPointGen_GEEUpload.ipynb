{
  "nbformat": 4,
  "nbformat_minor": 0,
  "metadata": {
    "colab": {
      "name": "Untitled1.ipynb",
      "provenance": [],
      "authorship_tag": "ABX9TyOoIvGaA3+rdJcYli4qtcom",
      "include_colab_link": true
    },
    "kernelspec": {
      "name": "python3",
      "display_name": "Python 3"
    },
    "language_info": {
      "name": "python"
    }
  },
  "cells": [
    {
      "cell_type": "markdown",
      "metadata": {
        "id": "view-in-github",
        "colab_type": "text"
      },
      "source": [
        "<a href=\"https://colab.research.google.com/github/heromiya/GEE-LCM/blob/local-jupyter/trainingDataPointGen_GEEUpload.ipynb\" target=\"_parent\"><img src=\"https://colab.research.google.com/assets/colab-badge.svg\" alt=\"Open In Colab\"/></a>"
      ]
    },
    {
      "cell_type": "code",
      "execution_count": null,
      "metadata": {
        "id": "msLHKBPmurJL"
      },
      "outputs": [],
      "source": [
        "!rm -rf GEE-LCM && git clone https://github.com/heromiya/GEE-LCM.git"
      ]
    },
    {
      "cell_type": "code",
      "source": [
        "!apt update && apt install spatialite-bin grass parallel zip gdal-bin"
      ],
      "metadata": {
        "id": "98Yfchmxu1LH"
      },
      "execution_count": null,
      "outputs": []
    },
    {
      "cell_type": "code",
      "source": [
        "# bash merge-traningdata.sh -b [Starting year] -e [Ending year] --pmin [minimum path number] --pmax [maximum path number] --rmin [minimum row number] --rmax [maximum row number] -1 [# of samples for Class 1 (waterbody)] -2 [# of samples for Class 2 (vegetation)] -3 [# of samples for Class 3 (bare land)] -4 [# of samples for Class 4 (built-up)]\n",
        "# 0.00025 is equal to 30 meters.\n",
        "!cd GEE-LCM && bash merge-trainingdata.sh -b 1900 -e 2000 --pmin 0 --pmax 999 --rmin 0 --rmax 999 -r 0.00025 -1 2500 -2 2500 -3 2500 -4 2500"
      ],
      "metadata": {
        "id": "uIs8Fop_X5Hk"
      },
      "execution_count": null,
      "outputs": []
    },
    {
      "cell_type": "code",
      "source": [
        "import ee\n",
        "ee.Authenticate()\n",
        "ee.Initialize()"
      ],
      "metadata": {
        "id": "9gDY3ggdYHRG"
      },
      "execution_count": null,
      "outputs": []
    },
    {
      "cell_type": "markdown",
      "source": [
        "# Please have the Google Bucket credential JSON file in your drive"
      ],
      "metadata": {
        "id": "GPYSfF90Ys4g"
      }
    },
    {
      "cell_type": "code",
      "source": [
        "import os\n",
        "import time\n",
        "from pprint import pprint\n",
        "from google.cloud import storage\n",
        "\n",
        "os.environ['GOOGLE_APPLICATION_CREDENTIALS'] = r'land-cover-mapping.json'\n",
        "\n",
        "ts = time.time()\n",
        "timestamp = int(ts)\n",
        "\n",
        "UserName = \"ZahidWani\"\n",
        "storage_client = storage.Client()\n",
        "blob_name = UserName + '_' + str(timestamp) + '/'\n",
        "\n",
        "project_name = 'land-cover-mapping-340607'\n",
        "bucket_name = 'landcovermapping'\n",
        "\n",
        "gcs_client = storage.Client(project=project_name)\n",
        "bucket = gcs_client.get_bucket(bucket_name)\n",
        "blob = bucket.blob(blob_name)\n",
        "blob.upload_from_string('', content_type='application/x-www-form-urlencoded;charset=UTF-8')\n",
        "\n",
        "def upload_to_bucket(blob_name, file_path, bucket_name):\n",
        "    try:\n",
        "        bucket = storage_client.get_bucket(bucket_name)\n",
        "        blob = bucket.blob(blob_name)\n",
        "        blob.upload_from_filename(file_path)\n",
        "        print(\"Shapefile {} Uploaded.\".format(blob_name))\n",
        "#         return True\n",
        "    except Exception as e:\n",
        "        print(e)\n",
        "        return False\n",
        "    \n",
        "def delete_blob(bucket_name, blob_name):\n",
        "    \"\"\"Deletes a blob from the bucket.\"\"\"\n",
        "\n",
        "    storage_client = storage.Client()\n",
        "\n",
        "    bucket = storage_client.bucket(bucket_name)\n",
        "    blob = bucket.blob(blob_name)\n",
        "    blob.delete()\n",
        "\n",
        "    print(\"Blob {} deleted.\".format(blob_name))"
      ],
      "metadata": {
        "id": "b7Q15CWvYHVY"
      },
      "execution_count": null,
      "outputs": []
    },
    {
      "cell_type": "code",
      "source": [
        "file_path = r'GEE-LCM'\n",
        "name1 = 'gt-pt.prj'\n",
        "name2 = 'gt-pt.shp'\n",
        "name3 = 'gt-pt.shx'\n",
        "name4 = 'gt-pt.dbf'\n",
        "\n",
        "upload_to_bucket(blob.name + name1, os.path.join(file_path, name1), bucket_name)\n",
        "upload_to_bucket(blob.name + name2, os.path.join(file_path, name2), bucket_name)\n",
        "upload_to_bucket(blob.name + name3, os.path.join(file_path, name3), bucket_name)\n",
        "upload_to_bucket(blob.name + name4, os.path.join(file_path, name4), bucket_name)"
      ],
      "metadata": {
        "id": "pLPB0JlQYHZP"
      },
      "execution_count": null,
      "outputs": []
    },
    {
      "cell_type": "code",
      "source": [
        "!earthengine upload table --asset_id=users/zahidwani/ft-pt-10105025 gs://landcovermapping/ZahidWani_1644997179/gt-pt.shp"
      ],
      "metadata": {
        "id": "K-WLQoqyYRUh"
      },
      "execution_count": null,
      "outputs": []
    }
  ]
}