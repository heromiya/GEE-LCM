{
  "nbformat": 4,
  "nbformat_minor": 0,
  "metadata": {
    "colab": {
      "name": "LandCoverMapGen.ipynb",
      "provenance": [],
      "collapsed_sections": [],
      "include_colab_link": true
    },
    "kernelspec": {
      "name": "python3",
      "display_name": "Python 3"
    }
  },
  "cells": [
    {
      "cell_type": "markdown",
      "metadata": {
        "id": "view-in-github",
        "colab_type": "text"
      },
      "source": [
        "<a href=\"https://colab.research.google.com/github/heromiya/GEE-LCM/blob/master/LandCoverMapGen.ipynb\" target=\"_parent\"><img src=\"https://colab.research.google.com/assets/colab-badge.svg\" alt=\"Open In Colab\"/></a>"
      ]
    },
    {
      "cell_type": "code",
      "metadata": {
        "id": "FVAW2UWX98Qc"
      },
      "source": [
        "from google.colab import auth\n",
        "auth.authenticate_user()"
      ],
      "execution_count": null,
      "outputs": []
    },
    {
      "cell_type": "code",
      "metadata": {
        "id": "k31ynDVT-W1W",
        "outputId": "ef89788a-7d6f-432e-c6e6-62fbb9a10422",
        "colab": {
          "base_uri": "https://localhost:8080/",
          "height": 173
        }
      },
      "source": [
        "import ee\n",
        "ee.Authenticate()\n",
        "ee.Initialize()"
      ],
      "execution_count": null,
      "outputs": [
        {
          "output_type": "stream",
          "text": [
            "To authorize access needed by Earth Engine, open the following URL in a web browser and follow the instructions. If the web browser does not start automatically, please manually browse the URL below.\n",
            "\n",
            "    https://accounts.google.com/o/oauth2/auth?client_id=517222506229-vsmmajv00ul0bs7p89v5m89qs8eb9359.apps.googleusercontent.com&scope=https%3A%2F%2Fwww.googleapis.com%2Fauth%2Fearthengine+https%3A%2F%2Fwww.googleapis.com%2Fauth%2Fdevstorage.full_control&redirect_uri=urn%3Aietf%3Awg%3Aoauth%3A2.0%3Aoob&response_type=code&code_challenge=_BmhX5YFWrOJSaMjzKu9FVlMktECXlO-B99u3ut553Q&code_challenge_method=S256\n",
            "\n",
            "The authorization workflow will generate a code, which you should paste in the box below. \n",
            "Enter verification code: 4/1AfDhmrjkxAcF8kwVE7gRHC_yiaG7MA6_pZ_5y4sjh-gGr_4yMa8wSw6nE8w\n",
            "\n",
            "Successfully saved authorization token.\n"
          ],
          "name": "stdout"
        }
      ]
    },
    {
      "cell_type": "code",
      "metadata": {
        "id": "GSB6aDjq_ZzM",
        "outputId": "56deabc1-ea3d-48af-f452-39650646b71b",
        "colab": {
          "base_uri": "https://localhost:8080/",
          "height": 68
        }
      },
      "source": [
        "import time\n",
        "ts = time.time()\n",
        "timestamp = int(ts)\n",
        "\n",
        "cloud = 30\n",
        "spatialResolution = 30\n",
        "fullPoints = ee.FeatureCollection('users/heromiya/gt-pt-10000')\n",
        "GoogleDriveFolderLC = \"LandCoverMapGen-LC-\"+ str(timestamp)\n",
        "GoogleDriveFolderAA = 'LandCoverMapGen-AA'\n",
        "nSample = 10000\n",
        "numberOfTrees = 100\n",
        "\n",
        "filterDist = 370000\n",
        "\n",
        "ROI = [\n",
        "    {'cityName': 'PHL-Laguna', 'LatMax': 14.6, 'LatMin': 14.1, 'LonMax': 121.6, 'LonMin': 120.9, 'yearBegin':2015, 'yearEnd':2016, 'doyFilter':ee.Filter.And(ee.Filter.greaterThanOrEquals('doy',  1), ee.Filter.lessThanOrEquals('doy',  366)), 'doyFilterLandsat': ee.Filter.dayOfYear(1,366)},\n",
        "    {'cityName': 'PHL-Laguna-Wet', 'LatMax': 14.6, 'LatMin': 14.1, 'LonMax': 121.6, 'LonMin': 120.9, 'yearBegin':2015, 'yearEnd':2016, 'doyFilter':ee.Filter.And(ee.Filter.greaterThanOrEquals('doy',  153), ee.Filter.lessThanOrEquals('doy',  305)), 'doyFilterLandsat': ee.Filter.dayOfYear(153, 305)},\n",
        "    {'cityName': 'PHL-Laguna-Dry', 'LatMax': 14.6, 'LatMin': 14.1, 'LonMax': 121.6, 'LonMin': 120.9, 'yearBegin':2015, 'yearEnd':2016, 'doyFilter':ee.Filter.Or(ee.Filter.greaterThanOrEquals('doy',  306), ee.Filter.lessThanOrEquals('doy',  152)), 'doyFilterLandsat': ee.Filter.Or(ee.Filter.dayOfYear(1, 152),ee.Filter.dayOfYear(306, 366))}\n",
        "]\n",
        "\n",
        "AA = []\n",
        "year= ''\n",
        "roi= ''\n",
        "kernel = ee.Kernel.gaussian(1)\n",
        "outExt = ''\n",
        "\n",
        "def cloudMask(img):\n",
        "  return img.updateMask(img.select('BQA').lt(64))\n",
        "\n",
        "def addDist(feature):\n",
        "  return feature.set({'d': feature.distance(outExt)})\n",
        "\n",
        "# print(ROI)\n",
        "for roi in range(0, len(ROI), 1):\n",
        "  cityName = ROI[roi]['cityName']\n",
        "  yearBegin = ROI[roi]['yearBegin']\n",
        "  yearEnd = ROI[roi]['yearEnd']\n",
        "  for year in range(yearBegin, yearEnd, 1):\n",
        "    nSampleClass = []\n",
        "    outExt = ee.Geometry.Rectangle([ ROI[roi]['LonMin'], ROI[roi]['LatMin'], ROI[roi]['LonMax'], ROI[roi]['LatMax']])\n",
        "    gtBounds = fullPoints.geometry().bounds().getInfo()[\"coordinates\"]\n",
        "    gtLonMin = gtBounds[0][0][0]\n",
        "    gtLatMin = gtBounds[0][0][1]\n",
        "    gtLonMax = gtBounds[0][2][0]\n",
        "    gtLatMax = gtBounds[0][2][1]\n",
        "\n",
        "    gtExt = ee.Geometry.Rectangle([gtLonMin, gtLatMin, gtLonMax, gtLatMax])\n",
        "\n",
        "    if (yearBegin >= 2013):\n",
        "        bands = ['B2', 'B3', 'B4', 'B5', 'B6', 'B7']\n",
        "        FCCbands = ['B5', 'B4', 'B3']\n",
        "        TextureBand = ['B5']\n",
        "        bandsClassify = ['B2', 'B3', 'B4', 'B5', 'B6', 'B7','B5_1']\n",
        "        bandsGLCM = ['B2', 'B3', 'B4', 'B5', 'B6', 'B7', 'B5_asm',    'B5_contrast',\"B5_corr\",  \"B5_var\",     \"B5_idm\",   \"B5_savg\", \"B5_svar\",   \"B5_sent\",    \"B5_ent\",   \"B5_dvar\",    \"B5_dent\",  \"B5_imcorr1\", \"B5_imcorr2\",\"B5_maxcorr\", \"B5_diss\",  \"B5_inertia\", \"B5_shade\", \"B5_prom\"]\n",
        "        Landsat = 'LANDSAT/LC08/C01/T1'\n",
        "\n",
        "    elif (yearBegin >= 2000 and yearBegin <= 2012):\n",
        "        bands = ['B1', 'B2', 'B3', 'B4', 'B5', 'B7']\n",
        "        bandsClassify = ['B1', 'B2', 'B3', 'B4', 'B5', 'B7','B4_1']\n",
        "        bandsGLCM = ['B1', 'B2', 'B3', 'B4', 'B5', 'B7', 'B4_asm', 'B4_contrast',\"B4_corr\", \"B4_var\",\"B4_idm\",\"B4_savg\", \"B4_svar\",\"B4_sent\",\"B4_ent\",\"B4_dvar\",\"B4_dent\",\"B4_imcorr1\", \"B4_imcorr2\",\"B4_maxcorr\",\"B4_diss\",\"B4_inertia\",\"B4_shade\",\"B4_prom\"]\n",
        "        FCCbands = ['B4', 'B3', 'B2']\n",
        "        TextureBand = ['B4']\n",
        "        Landsat = 'LANDSAT/LE07/C01/T1'\n",
        "    elif (yearBegin >= 1985 and yearBegin <= 1999):\n",
        "        bands = ['B1', 'B2', 'B3', 'B4', 'B5', 'B7']\n",
        "        bandsClassify = ['B1', 'B2', 'B3', 'B4', 'B5', 'B7','B4_1']\n",
        "        bandsGLCM = ['B1', 'B2', 'B3', 'B4', 'B5', 'B7', 'B4_asm', 'B4_contrast',\"B4_corr\", \"B4_var\",\"B4_idm\",\"B4_savg\", \"B4_svar\",\"B4_sent\",\"B4_ent\",\"B4_dvar\",\"B4_dent\",\"B4_imcorr1\", \"B4_imcorr2\",\"B4_maxcorr\",\"B4_diss\",\"B4_inertia\",\"B4_shade\",\"B4_prom\"]\n",
        "        FCCbands = ['B4', 'B3', 'B2']\n",
        "        TextureBand = ['B4']\n",
        "        Landsat = 'LANDSAT/LT05/C01/T1'\n",
        "    else:\n",
        "        bands = ['B4_median', 'B5_median', 'B6_median','B7_median','B6_median_1']\n",
        "        bandsClassify = ['B4_median', 'B5_median', 'B6_median', 'B7_median']\n",
        "        FCCbands = ['B6_median', 'B5_median', 'B4_median']\n",
        "        TextureBand = ['B6_median']\n",
        "        Landsat = 'LANDSAT/LM02/C01/T2'\n",
        "    gtYearBegin = yearBegin\n",
        "    gtYearEnd = yearEnd\n",
        "\n",
        "    yearSubset = fullPoints.filter(\n",
        "                        ee.Filter.And(ee.Filter.greaterThanOrEquals('year', gtYearBegin)\n",
        "                                      ,ee.Filter.lessThanOrEquals('year', gtYearEnd)\n",
        "                                      ,ROI[roi]['doyFilter']\n",
        "                                      )\n",
        "                                      )\n",
        "\n",
        "    dist = yearSubset.map(addDist)\n",
        "    distFilter = ee.Filter.lt('d', filterDist)\n",
        "    points = dist.filter(ee.Filter.eq('class', 1)).filter(distFilter).limit(nSample,\"d\")\n",
        "    nSampleClass.insert(0,points.size()) \n",
        "\n",
        "    for i in range(2, 5, 1):\n",
        "      randomSampleClass = dist.filter(ee.Filter.eq('class', i)).filter(distFilter).limit(nSample,\"d\")\n",
        "      nSampleClass.insert(i-1, randomSampleClass.size())\n",
        "      points = points.merge(randomSampleClass)\n",
        "\n",
        "    nRandomSample = points.size().getInfo()\n",
        "    if(nRandomSample > 300):\n",
        "        print(cityName + \",\" + str(yearBegin)+\",\"+str(nRandomSample))\n",
        "\n",
        "    if (Landsat == 'LANDSAT/LM02/C01/T2'):\n",
        "        landsatImg = ee.ImageCollection(Landsat) \\\n",
        "                        .filterDate(str(gtYearBegin) + '-01-01',str(gtYearEnd) + '-12-31') \\\n",
        "                        .filter(ROI[roi]['doyFilterLandsat']) \\\n",
        "                        .filterMetadata('CLOUD_COVER_LAND', 'less_than', 50) \\\n",
        "                        .map(cloudMask).reduce(ee.Reducer.median())\n",
        "        landsatImgInt = landsatImg.toByte()\n",
        "    else:\n",
        "\n",
        "        landsatCol = ee.ImageCollection(Landsat) \\\n",
        "                          .filterDate(str(gtYearBegin) + '-01-01',str(gtYearEnd) + '-12-31') \\\n",
        "                          .filter(ROI[roi]['doyFilterLandsat'])\n",
        "\n",
        "        landsatImg    = ee.Algorithms.Landsat.simpleComposite(landsatCol,50,cloud,40,True)\n",
        "        landsatImgInt = ee.Algorithms.Landsat.simpleComposite(landsatCol,50,cloud,40,False)\n",
        "\n",
        "    gtImage = landsatImg.clip(gtExt)\n",
        "    gtImageInt = landsatImgInt.clip(gtExt)\n",
        "    gtImageTexture = gtImage.addBands(gtImageInt.select(TextureBand).entropy(kernel))\n",
        "\n",
        "    outImage = landsatImg.clip(outExt)\n",
        "    outImageInt = landsatImgInt.clip(outExt)\n",
        "    outImageTexture = outImage.addBands(outImageInt.select(TextureBand).entropy(kernel))\n",
        "\n",
        "    alg = ee.Classifier.smileRandomForest(numberOfTrees)\n",
        "    trainInput = gtImageTexture.sampleRegions(points,['class'],1)\n",
        "    classifier = alg.train(trainInput, 'class', bandsClassify)\n",
        "\n",
        "    classified = outImageTexture.select(bandsClassify).classify(classifier).focal_mode()\n",
        "    compositeImage = outImage.select(FCCbands)\n",
        "\n",
        "    trainAccuracy = classifier.confusionMatrix()\n",
        "    AA.append(ee.Feature(outExt,\n",
        "                        {\n",
        "                          'cityName': cityName,\n",
        "                          'year': str(yearBegin) + '-' + str(yearEnd),\n",
        "                          'ts': str(timestamp),\n",
        "                          'OA': trainAccuracy.accuracy(),\n",
        "                          'KA': trainAccuracy.kappa(),\n",
        "                          'CA': trainAccuracy.consumersAccuracy(),\n",
        "                          'PA': trainAccuracy.producersAccuracy(),\n",
        "                          'nSample': nSampleClass\n",
        "                        }))\n",
        "    \n",
        "    lcTask = ee.batch.Export.image.toDrive(**{\n",
        "      'image': classified,\n",
        "      'description': 'LC-' + cityName + '_' + str(yearBegin) + '-' + str(yearEnd) + '_' + str(timestamp),\n",
        "      'folder': GoogleDriveFolderLC,\n",
        "      'fileNamePrefix': 'LC-' + cityName + '_' + str(yearBegin) + '-' + str(yearEnd) + '_' + str(timestamp),\n",
        "      'scale': spatialResolution,\n",
        "      'region': outExt\n",
        "    })\n",
        "\n",
        "    lcTask.start()\n",
        "\n",
        "    fccTask = ee.batch.Export.image.toDrive(**{\n",
        "      'image': compositeImage,\n",
        "      'description':    'FCC-' + cityName + '-' + str(yearBegin) + '-' + str(yearEnd) + '-' + str(timestamp),\n",
        "      'folder': GoogleDriveFolderLC,\n",
        "      'fileNamePrefix': 'FCC-' + cityName + '-' + str(yearBegin) + '-' + str(yearEnd) + '-' + str(timestamp),\n",
        "      'scale': spatialResolution,\n",
        "      'region': outExt\n",
        "    })\n",
        "\n",
        "    fccTask.start()\n",
        "\n",
        "aaTask = ee.batch.Export.table.toDrive(**{\n",
        "  'collection': ee.FeatureCollection(AA),\n",
        "  'description': 'AA-'+ str(timestamp),\n",
        "  'folder': GoogleDriveFolderAA,\n",
        "  'fileNamePrefix': 'AA-'+ str(timestamp),\n",
        "  })\n",
        "\n",
        "aaTask.start()"
      ],
      "execution_count": null,
      "outputs": [
        {
          "output_type": "stream",
          "text": [
            "PHL-Laguna,2015,40000\n",
            "PHL-Laguna-Wet,2015,38131\n",
            "PHL-Laguna-Dry,2015,37735\n"
          ],
          "name": "stdout"
        }
      ]
    },
    {
      "cell_type": "code",
      "metadata": {
        "id": "hA8ZdfnRyq-Z"
      },
      "source": [
        ""
      ],
      "execution_count": null,
      "outputs": []
    }
  ]
}