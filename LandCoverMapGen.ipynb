{
 "cells": [
  {
   "cell_type": "code",
   "execution_count": 4,
   "metadata": {
    "id": "FVAW2UWX98Qc"
   },
   "outputs": [],
   "source": [
    "from google.colab import auth\n",
    "auth.authenticate_user()"
   ]
  },
  {
   "cell_type": "code",
   "execution_count": 5,
   "metadata": {
    "colab": {
     "base_uri": "https://localhost:8080/"
    },
    "id": "k31ynDVT-W1W",
    "outputId": "95f914fe-1301-42e3-e7ca-d68b1b5a167b"
   },
   "outputs": [
    {
     "name": "stdout",
     "output_type": "stream",
     "text": [
      "To authorize access needed by Earth Engine, open the following URL in a web browser and follow the instructions. If the web browser does not start automatically, please manually browse the URL below.\n",
      "\n",
      "    https://accounts.google.com/o/oauth2/auth?client_id=517222506229-vsmmajv00ul0bs7p89v5m89qs8eb9359.apps.googleusercontent.com&scope=https%3A%2F%2Fwww.googleapis.com%2Fauth%2Fearthengine+https%3A%2F%2Fwww.googleapis.com%2Fauth%2Fdevstorage.full_control&redirect_uri=urn%3Aietf%3Awg%3Aoauth%3A2.0%3Aoob&response_type=code&code_challenge=8O8Z5GAb-uyt9zEGGGA9saqxeV_e77rbiLwEs-EaRrw&code_challenge_method=S256\n",
      "\n",
      "The authorization workflow will generate a code, which you should paste in the box below. \n",
      "Enter verification code: 4/1AY0e-g50sqSVCrib0gTlmdc6NlQUC2s4egMOgHn_iG7qiqUEGGYXBi0I4dg\n",
      "\n",
      "Successfully saved authorization token.\n"
     ]
    }
   ],
   "source": [
    "import ee\n",
    "ee.Authenticate()\n",
    "ee.Initialize()"
   ]
  },
  {
   "cell_type": "markdown",
   "metadata": {
    "id": "-AMIVct47WwY"
   },
   "source": [
    "![date_range.png](data:image/png;base64,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)"
   ]
  },
  {
   "cell_type": "code",
   "execution_count": 7,
   "metadata": {
    "colab": {
     "base_uri": "https://localhost:8080/"
    },
    "id": "GSB6aDjq_ZzM",
    "outputId": "a764c5a0-2af6-4655-97a5-0e3f06e27dca"
   },
   "outputs": [
    {
     "name": "stdout",
     "output_type": "stream",
     "text": [
      "PHL-Laguna,2004,40000\n"
     ]
    }
   ],
   "source": [
    "import time\n",
    "ts = time.time()\n",
    "timestamp = int(ts)\n",
    "\n",
    "cloud = 30\n",
    "spatialResolution = 30\n",
    "fullPoints = ee.FeatureCollection('users/heromiya/gt-pt-10000')\n",
    "GoogleDriveFolderLC = \"LandCoverMapGen-LC-\"+ str(timestamp)\n",
    "GoogleDriveFolderAA = 'LandCoverMapGen-AA'\n",
    "nSample = 10000\n",
    "numberOfTrees = 100\n",
    "\n",
    "filterDist = 370000\n",
    "\n",
    "ROI = [\n",
    "    {'cityName': 'PHL-Laguna', 'LatMax': 14.6, 'LatMin': 14.1, 'LonMax': 121.6, 'LonMin': 120.9, 'yearBegin':2004, 'yearEnd':2005, 'doyFilter':ee.Filter.And(ee.Filter.greaterThanOrEquals('doy',  1), ee.Filter.lessThanOrEquals('doy',  366)), 'doyFilterLandsat': ee.Filter.dayOfYear(1,366)},\n",
    "    {'cityName': 'PHL-Laguna-Wet', 'LatMax': 14.6, 'LatMin': 14.1, 'LonMax': 121.6, 'LonMin': 120.9, 'yearBegin':2015, 'yearEnd':2016, 'doyFilter':ee.Filter.And(ee.Filter.greaterThanOrEquals('doy',  153), ee.Filter.lessThanOrEquals('doy',  305)), 'doyFilterLandsat': ee.Filter.dayOfYear(153, 305)},\n",
    "    {'cityName': 'PHL-Laguna-Dry', 'LatMax': 14.6, 'LatMin': 14.1, 'LonMax': 121.6, 'LonMin': 120.9, 'yearBegin':2015, 'yearEnd':2016, 'doyFilter':ee.Filter.Or(ee.Filter.greaterThanOrEquals('doy',  306), ee.Filter.lessThanOrEquals('doy',  152)), 'doyFilterLandsat': ee.Filter.Or(ee.Filter.dayOfYear(1, 152),ee.Filter.dayOfYear(306, 366))}\n",
    "]\n",
    "\n",
    "AA = []\n",
    "year= ''\n",
    "roi= ''\n",
    "kernel = ee.Kernel.gaussian(1)\n",
    "outExt = ''\n",
    "\n",
    "def cloudMask(img):\n",
    "  return img.updateMask(img.select('BQA').lt(64))\n",
    "\n",
    "def addDist(feature):\n",
    "  return feature.set({'d': feature.distance(outExt)})\n",
    "\n",
    "# print(ROI)\n",
    "for roi in range(0, len(ROI), 1):\n",
    "  cityName = ROI[roi]['cityName']\n",
    "  yearBegin = ROI[roi]['yearBegin']\n",
    "  yearEnd = ROI[roi]['yearEnd']\n",
    "  for year in range(yearBegin, yearEnd, 1):\n",
    "    nSampleClass = []\n",
    "    outExt = ee.Geometry.Rectangle([ ROI[roi]['LonMin'], ROI[roi]['LatMin'], ROI[roi]['LonMax'], ROI[roi]['LatMax']])\n",
    "    gtBounds = fullPoints.geometry().bounds().getInfo()[\"coordinates\"]\n",
    "    gtLonMin = gtBounds[0][0][0]\n",
    "    gtLatMin = gtBounds[0][0][1]\n",
    "    gtLonMax = gtBounds[0][2][0]\n",
    "    gtLatMax = gtBounds[0][2][1]\n",
    "\n",
    "    gtExt = ee.Geometry.Rectangle([gtLonMin, gtLatMin, gtLonMax, gtLatMax])\n",
    "\n",
    "    if (yearBegin >= 2013):\n",
    "        bands = ['B2', 'B3', 'B4', 'B5', 'B6', 'B7']\n",
    "        FCCbands = ['B5', 'B4', 'B3']\n",
    "        TextureBand = ['B5']\n",
    "        bandsClassify = ['B2', 'B3', 'B4', 'B5', 'B6', 'B7','B5_1']\n",
    "        bandsGLCM = ['B2', 'B3', 'B4', 'B5', 'B6', 'B7', 'B5_asm',    'B5_contrast',\"B5_corr\",  \"B5_var\",     \"B5_idm\",   \"B5_savg\", \"B5_svar\",   \"B5_sent\",    \"B5_ent\",   \"B5_dvar\",    \"B5_dent\",  \"B5_imcorr1\", \"B5_imcorr2\",\"B5_maxcorr\", \"B5_diss\",  \"B5_inertia\", \"B5_shade\", \"B5_prom\"]\n",
    "        Landsat = 'LANDSAT/LC08/C01/T1'\n",
    "\n",
    "    elif (yearBegin >= 1999 and yearBegin <= 2002):\n",
    "        bands = ['B1', 'B2', 'B3', 'B4', 'B5', 'B7']\n",
    "        bandsClassify = ['B1', 'B2', 'B3', 'B4', 'B5', 'B7','B4_1']\n",
    "        bandsGLCM = ['B1', 'B2', 'B3', 'B4', 'B5', 'B7', 'B4_asm', 'B4_contrast',\"B4_corr\", \"B4_var\",\"B4_idm\",\"B4_savg\", \"B4_svar\",\"B4_sent\",\"B4_ent\",\"B4_dvar\",\"B4_dent\",\"B4_imcorr1\", \"B4_imcorr2\",\"B4_maxcorr\",\"B4_diss\",\"B4_inertia\",\"B4_shade\",\"B4_prom\"]\n",
    "        FCCbands = ['B4', 'B3', 'B2']\n",
    "        TextureBand = ['B4']\n",
    "        Landsat = 'LANDSAT/LE07/C01/T1'\n",
    "\n",
    "    elif (yearBegin >= 1984 and yearBegin <= 1998 or yearBegin >=2003 and yearBegin <=2012):\n",
    "        bands = ['B1', 'B2', 'B3', 'B4', 'B5', 'B7']\n",
    "        bandsClassify = ['B1', 'B2', 'B3', 'B4', 'B5', 'B7','B4_1']\n",
    "        bandsGLCM = ['B1', 'B2', 'B3', 'B4', 'B5', 'B7', 'B4_asm', 'B4_contrast',\"B4_corr\", \"B4_var\",\"B4_idm\",\"B4_savg\", \"B4_svar\",\"B4_sent\",\"B4_ent\",\"B4_dvar\",\"B4_dent\",\"B4_imcorr1\", \"B4_imcorr2\",\"B4_maxcorr\",\"B4_diss\",\"B4_inertia\",\"B4_shade\",\"B4_prom\"]\n",
    "        FCCbands = ['B4', 'B3', 'B2']\n",
    "        TextureBand = ['B4']\n",
    "        Landsat = 'LANDSAT/LT05/C01/T1'\n",
    "\n",
    "    elif (yearBegin >= 1975 and yearBegin <= 1982):\n",
    "        bands = ['B4_median', 'B5_median', 'B6_median','B7_median','B6_median_1']\n",
    "        bandsClassify = ['B4_median', 'B5_median', 'B6_median', 'B7_median']\n",
    "        FCCbands = ['B6_median', 'B5_median', 'B4_median']\n",
    "        TextureBand = ['B6_median']\n",
    "        Landsat = 'LANDSAT/LM02/C01/T2'\n",
    "    else:\n",
    "\n",
    "      print(\"Year out of range !!!\")\n",
    "      break\n",
    "\n",
    "    gtYearBegin = yearBegin\n",
    "    gtYearEnd = yearEnd\n",
    "\n",
    "    yearSubset = fullPoints.filter(ee.Filter.And(ee.Filter.greaterThanOrEquals('year', gtYearBegin), ee.Filter.lessThanOrEquals('year', gtYearEnd), ROI[roi]['doyFilter']))\n",
    "\n",
    "    dist = yearSubset.map(addDist)\n",
    "    distFilter = ee.Filter.lt('d', filterDist)\n",
    "    points = dist.filter(ee.Filter.eq('class', 1)).filter(distFilter).limit(nSample,\"d\")\n",
    "    nSampleClass.insert(0,points.size()) \n",
    "\n",
    "    for i in range(2, 5, 1):\n",
    "      randomSampleClass = dist.filter(ee.Filter.eq('class', i)).filter(distFilter).limit(nSample,\"d\")\n",
    "      nSampleClass.insert(i-1, randomSampleClass.size())\n",
    "      points = points.merge(randomSampleClass)\n",
    "\n",
    "    nRandomSample = points.size().getInfo()\n",
    "    if(nRandomSample > 300):\n",
    "        print(cityName + \",\" + str(yearBegin)+\",\"+str(nRandomSample))\n",
    "\n",
    "    if (Landsat == 'LANDSAT/LM02/C01/T2'):\n",
    "        landsatImg = ee.ImageCollection(Landsat) \\\n",
    "                        .filterDate(str(gtYearBegin) + '-01-01',str(gtYearEnd) + '-12-31') \\\n",
    "                        .filter(ROI[roi]['doyFilterLandsat']) \\\n",
    "                        .filterMetadata('CLOUD_COVER_LAND', 'less_than', 50) \\\n",
    "                        .map(cloudMask).reduce(ee.Reducer.median())\n",
    "        landsatImgInt = landsatImg.toByte()\n",
    "\n",
    "    else:\n",
    "\n",
    "        landsatCol = ee.ImageCollection(Landsat) \\\n",
    "                          .filterDate(str(gtYearBegin) + '-01-01',str(gtYearEnd) + '-12-31') \\\n",
    "                          .filter(ROI[roi]['doyFilterLandsat'])\n",
    "\n",
    "        landsatImg    = ee.Algorithms.Landsat.simpleComposite(landsatCol,50,cloud,40,True)\n",
    "        landsatImgInt = ee.Algorithms.Landsat.simpleComposite(landsatCol,50,cloud,40,False)\n",
    "\n",
    "    gtImage = landsatImg.clip(gtExt)\n",
    "    gtImageInt = landsatImgInt.clip(gtExt)\n",
    "    gtImageTexture = gtImage.addBands(gtImageInt.select(TextureBand).entropy(kernel))\n",
    "\n",
    "    outImage = landsatImg.clip(outExt)\n",
    "    outImageInt = landsatImgInt.clip(outExt)\n",
    "    outImageTexture = outImage.addBands(outImageInt.select(TextureBand).entropy(kernel))\n",
    "\n",
    "    alg = ee.Classifier.smileRandomForest(numberOfTrees)\n",
    "    trainInput = gtImageTexture.sampleRegions(points,['class'],1)\n",
    "    classifier = alg.train(trainInput, 'class', bandsClassify)\n",
    "\n",
    "    classified = outImageTexture.select(bandsClassify).classify(classifier).focal_mode()\n",
    "    compositeImage = outImage.select(FCCbands)\n",
    "\n",
    "    trainAccuracy = classifier.confusionMatrix()\n",
    "    AA.append(ee.Feature(outExt,\n",
    "                        {\n",
    "                          'cityName': cityName,\n",
    "                          'year': str(yearBegin) + '-' + str(yearEnd),\n",
    "                          'ts': str(timestamp),\n",
    "                          'OA': trainAccuracy.accuracy(),\n",
    "                          'KA': trainAccuracy.kappa(),\n",
    "                          'CA': trainAccuracy.consumersAccuracy(),\n",
    "                          'PA': trainAccuracy.producersAccuracy(),\n",
    "                          'nSample': nSampleClass\n",
    "                        }))\n",
    "    \n",
    "    lcTask = ee.batch.Export.image.toDrive(**{\n",
    "      'image': classified,\n",
    "      'description': 'LC-' + cityName + '_' + str(yearBegin) + '-' + str(yearEnd) + '_' + str(timestamp),\n",
    "      'folder': GoogleDriveFolderLC,\n",
    "      'fileNamePrefix': 'LC-' + cityName + '_' + str(yearBegin) + '-' + str(yearEnd) + '_' + str(timestamp),\n",
    "      'scale': spatialResolution,\n",
    "      'region': outExt\n",
    "    })\n",
    "\n",
    "    lcTask.start()\n",
    "\n",
    "    fccTask = ee.batch.Export.image.toDrive(**{\n",
    "      'image': compositeImage,\n",
    "      'description':    'FCC-' + cityName + '-' + str(yearBegin) + '-' + str(yearEnd) + '-' + str(timestamp),\n",
    "      'folder': GoogleDriveFolderLC,\n",
    "      'fileNamePrefix': 'FCC-' + cityName + '-' + str(yearBegin) + '-' + str(yearEnd) + '-' + str(timestamp),\n",
    "      'scale': spatialResolution,\n",
    "      'region': outExt\n",
    "    })\n",
    "\n",
    "    fccTask.start()\n",
    "\n",
    "aaTask = ee.batch.Export.table.toDrive(**{\n",
    "  'collection': ee.FeatureCollection(AA),\n",
    "  'description': 'AA-'+ str(timestamp),\n",
    "  'folder': GoogleDriveFolderAA,\n",
    "  'fileNamePrefix': 'AA-'+ str(timestamp),\n",
    "  })\n",
    "\n",
    "aaTask.start()"
   ]
  },
  {
   "cell_type": "code",
   "execution_count": null,
   "metadata": {
    "id": "2r5kMSomLew_"
   },
   "outputs": [],
   "source": []
  }
 ],
 "metadata": {
  "colab": {
   "collapsed_sections": [],
   "name": "LandCoverMapGen.ipynb",
   "provenance": []
  },
  "kernelspec": {
   "display_name": "Python 3",
   "language": "python",
   "name": "python3"
  },
  "language_info": {
   "codemirror_mode": {
    "name": "ipython",
    "version": 3
   },
   "file_extension": ".py",
   "mimetype": "text/x-python",
   "name": "python",
   "nbconvert_exporter": "python",
   "pygments_lexer": "ipython3",
   "version": "3.8.3"
  }
 },
 "nbformat": 4,
 "nbformat_minor": 1
}
