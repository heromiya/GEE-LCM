{
  "nbformat": 4,
  "nbformat_minor": 0,
  "metadata": {
    "colab": {
      "name": "GEE-LCM",
      "provenance": [],
      "include_colab_link": true
    },
    "kernelspec": {
      "name": "python3",
      "display_name": "Python 3"
    }
  },
  "cells": [
    {
      "cell_type": "markdown",
      "metadata": {
        "id": "view-in-github",
        "colab_type": "text"
      },
      "source": [
        "<a href=\"https://colab.research.google.com/github/heromiya/GEE-LCM/blob/master/trainingDataPointGen.ipynb\" target=\"_parent\"><img src=\"https://colab.research.google.com/assets/colab-badge.svg\" alt=\"Open In Colab\"/></a>"
      ]
    },
    {
      "cell_type": "code",
      "metadata": {
        "id": "nYlTqMkjgWYn"
      },
      "source": [
        "!rm -rf GEE-LCM && git clone https://github.com/heromiya/GEE-LCM.git"
      ],
      "execution_count": null,
      "outputs": []
    },
    {
      "cell_type": "code",
      "metadata": {
        "id": "FwlBuFZyggCu"
      },
      "source": [
        "!apt update && apt install spatialite-bin grass parallel zip gdal-bin"
      ],
      "execution_count": null,
      "outputs": []
    },
    {
      "cell_type": "code",
      "metadata": {
        "id": "0zffGK-nhMPx"
      },
      "source": [
        "# bash merge-traningdata.sh [Starting year] [Ending year] [# of samples for Class 1 (waterbody)] [# of samples for Class 2 (vegetation)] [# of samples for Class 3 (bare land)] [# of samples for Class 4 (built-up)]\r\n",
        "!cd GEE-LCM && bash merge-trainingdata.sh 1900 2100 10000 10000 10000 10000"
      ],
      "execution_count": null,
      "outputs": []
    }
  ]
}