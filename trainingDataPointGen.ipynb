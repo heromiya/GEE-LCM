{
  "nbformat": 4,
  "nbformat_minor": 0,
  "metadata": {
    "colab": {
      "name": "GEE-LCM",
      "provenance": [],
      "include_colab_link": true
    },
    "kernelspec": {
      "name": "python3",
      "display_name": "Python 3"
    }
  },
  "cells": [
    {
      "cell_type": "markdown",
      "metadata": {
        "id": "view-in-github",
        "colab_type": "text"
      },
      "source": [
        "<a href=\"https://colab.research.google.com/github/heromiya/GEE-LCM/blob/master/trainingDataPointGen.ipynb\" target=\"_parent\"><img src=\"https://colab.research.google.com/assets/colab-badge.svg\" alt=\"Open In Colab\"/></a>"
      ]
    },
    {
      "cell_type": "code",
      "metadata": {
        "id": "nYlTqMkjgWYn"
      },
      "source": [
        "!rm -rf GEE-LCM && git clone https://github.com/heromiya/GEE-LCM.git"
      ],
      "execution_count": null,
      "outputs": []
    },
    {
      "cell_type": "code",
      "metadata": {
        "id": "FwlBuFZyggCu"
      },
      "source": [
        "!apt update && apt install spatialite-bin grass parallel zip gdal-bin"
      ],
      "execution_count": null,
      "outputs": []
    },
    {
      "cell_type": "code",
      "metadata": {
        "id": "0zffGK-nhMPx"
      },
      "source": [
        "# bash merge-traningdata.sh -b [Starting year] -e [Ending year] -1 [# of samples for Class 1 (waterbody)] -2 [# of samples for Class 2 (vegetation)] -3 [# of samples for Class 3 (bare land)] -4 [# of samples for Class 4 (built-up)]\n",
        "# 0.00025 is equal to 30 meters.\n",
        "!cd GEE-LCM && bash merge-trainingdata.sh -b 1900 -e 2100 -r 0.00025 -1 2500 -2 2500 -3 2500 -4 2500"
      ],
      "execution_count": null,
      "outputs": []
    }
  ]
}