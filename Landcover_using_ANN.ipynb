{
  "nbformat": 4,
  "nbformat_minor": 0,
  "metadata": {
    "colab": {
      "name": "Landcover using ANN.ipynb",
      "provenance": [],
      "collapsed_sections": []
    },
    "kernelspec": {
      "display_name": "Python 3",
      "name": "python3"
    },
    "language_info": {
      "name": "python"
    }
  },
  "cells": [
    {
      "cell_type": "code",
      "metadata": {
        "colab": {
          "base_uri": "https://localhost:8080/"
        },
        "id": "VWLo1L6VV6qU",
        "outputId": "8c268e1b-f8d7-4b20-91e9-0ad425fc59f2"
      },
      "source": [
        "from google.colab import drive\n",
        "drive.mount('/content/drive')"
      ],
      "execution_count": 1,
      "outputs": [
        {
          "output_type": "stream",
          "text": [
            "Drive already mounted at /content/drive; to attempt to forcibly remount, call drive.mount(\"/content/drive\", force_remount=True).\n"
          ],
          "name": "stdout"
        }
      ]
    },
    {
      "cell_type": "code",
      "metadata": {
        "colab": {
          "base_uri": "https://localhost:8080/"
        },
        "id": "v0IvUmXNXR_r",
        "outputId": "61d522b4-99bc-4fdb-970e-7e3fd84dd32e"
      },
      "source": [
        "import ee\n",
        "ee.Authenticate()\n",
        "ee.Initialize()"
      ],
      "execution_count": 2,
      "outputs": [
        {
          "output_type": "stream",
          "text": [
            "To authorize access needed by Earth Engine, open the following URL in a web browser and follow the instructions. If the web browser does not start automatically, please manually browse the URL below.\n",
            "\n",
            "    https://accounts.google.com/o/oauth2/auth?client_id=517222506229-vsmmajv00ul0bs7p89v5m89qs8eb9359.apps.googleusercontent.com&scope=https%3A%2F%2Fwww.googleapis.com%2Fauth%2Fearthengine+https%3A%2F%2Fwww.googleapis.com%2Fauth%2Fdevstorage.full_control&redirect_uri=urn%3Aietf%3Awg%3Aoauth%3A2.0%3Aoob&response_type=code&code_challenge=VEuHbzCt-RnpodPRDdwmyl0flWByLzKB3KZpNOkpQfY&code_challenge_method=S256\n",
            "\n",
            "The authorization workflow will generate a code, which you should paste in the box below. \n",
            "Enter verification code: 4/1AY0e-g5FOYIJNmwx4RcAZkwP8Q539PdQeRaF03G3PHGr1bVHUlGCOw9UuFA\n",
            "\n",
            "Successfully saved authorization token.\n"
          ],
          "name": "stdout"
        }
      ]
    },
    {
      "cell_type": "code",
      "metadata": {
        "id": "GS7jU7nPXugj"
      },
      "source": [
        "import os\n",
        "import glob\n",
        "import shutil\n",
        "import time\n",
        "import json\n",
        "from pprint import pprint\n",
        "\n",
        "import numpy as np\n",
        "import tensorflow as tf\n",
        "import folium\n",
        "\n",
        "import gdal\n",
        "import osr\n",
        "import matplotlib.pyplot as plt"
      ],
      "execution_count": 3,
      "outputs": []
    },
    {
      "cell_type": "code",
      "metadata": {
        "id": "E65NwWoEYUhW"
      },
      "source": [
        "def reduce_class_value(feat):\n",
        "  return feat.set('class', ee.Number(feat.get('class')).subtract(1))\n",
        "\n",
        "\n",
        "def cloudMask(img):\n",
        "  return img.updateMask(img.select('BQA').lt(64))\n",
        "  \n",
        "\n",
        "def select_landsat(year):\n",
        "  if (year >= 2013):\n",
        "    return {\n",
        "        'bands': ['B2', 'B3', 'B4', 'B5', 'B6', 'B7'],\n",
        "        'FCCbands': ['B5', 'B4', 'B3'],\n",
        "        'TextureBand': ['B5'],\n",
        "        'bandsClassify': ['B2', 'B3', 'B4', 'B5', 'B6', 'B7','B5_1'],\n",
        "        'bandsGLCM': ['B2', 'B3', 'B4', 'B5', 'B6', 'B7', 'B5_asm', 'B5_contrast', \"B5_corr\", \"B5_var\", \"B5_idm\", \"B5_savg\", \"B5_svar\", \"B5_sent\", \"B5_ent\", \"B5_dvar\", \"B5_dent\", \"B5_imcorr1\", \"B5_imcorr2\",\"B5_maxcorr\", \"B5_diss\",  \"B5_inertia\", \"B5_shade\", \"B5_prom\"],\n",
        "        'Landsat': 'LANDSAT/LC08/C01/T1'\n",
        "    }\n",
        "\n",
        "  if (year >= 1999 and year <= 2002):\n",
        "    return {\n",
        "        'bands': ['B1', 'B2', 'B3', 'B4', 'B5', 'B7'],\n",
        "        'TextureBand': ['B4'],\n",
        "        'bandsClassify': ['B1', 'B2', 'B3', 'B4', 'B5', 'B7','B4_1'],\n",
        "        'bandsGLCM': ['B1', 'B2', 'B3', 'B4', 'B5', 'B7', 'B4_asm', 'B4_contrast',\"B4_corr\", \"B4_var\",\"B4_idm\",\"B4_savg\", \"B4_svar\",\"B4_sent\",\"B4_ent\",\"B4_dvar\",\"B4_dent\",\"B4_imcorr1\", \"B4_imcorr2\",\"B4_maxcorr\",\"B4_diss\",\"B4_inertia\",\"B4_shade\",\"B4_prom\"],\n",
        "        'FCCbands': ['B4', 'B3', 'B2'],\n",
        "        'Landsat': 'LANDSAT/LE07/C01/T1'\n",
        "    }\n",
        "\n",
        "  if (year >= 1984 and year <= 1998 or year >=2003 and year <=2012):\n",
        "    return{\n",
        "        'bands': ['B1', 'B2', 'B3', 'B4', 'B5', 'B7'],\n",
        "        'bandsClassify': ['B1', 'B2', 'B3', 'B4', 'B5', 'B7','B4_1'],\n",
        "        'bandsGLCM': ['B1', 'B2', 'B3', 'B4', 'B5', 'B7', 'B4_asm', 'B4_contrast',\"B4_corr\", \"B4_var\",\"B4_idm\",\"B4_savg\", \"B4_svar\",\"B4_sent\",\"B4_ent\",\"B4_dvar\",\"B4_dent\",\"B4_imcorr1\", \"B4_imcorr2\",\"B4_maxcorr\",\"B4_diss\",\"B4_inertia\",\"B4_shade\",\"B4_prom\"],\n",
        "        'FCCbands': ['B4', 'B3', 'B2'],\n",
        "        'TextureBand': ['B4'],\n",
        "        'Landsat': 'LANDSAT/LT05/C01/T1'\n",
        "    }\n",
        "  \n",
        "  if (year == 1983):\n",
        "    return{\n",
        "        'bands': ['B1', 'B2', 'B3', 'B4', 'B5', 'B7'],\n",
        "        'bandsClassify': ['B1', 'B2', 'B3', 'B4', 'B5', 'B7','B4_1'],\n",
        "        'bandsGLCM': ['B1', 'B2', 'B3', 'B4', 'B5', 'B7', 'B4_asm', 'B4_contrast',\"B4_corr\", \"B4_var\",\"B4_idm\",\"B4_savg\", \"B4_svar\",\"B4_sent\",\"B4_ent\",\"B4_dvar\",\"B4_dent\",\"B4_imcorr1\", \"B4_imcorr2\",\"B4_maxcorr\",\"B4_diss\",\"B4_inertia\",\"B4_shade\",\"B4_prom\"],\n",
        "        'FCCbands': ['B4', 'B3', 'B2'],\n",
        "        'TextureBand': ['B4'],\n",
        "        'Landsat': 'LANDSAT/LT04/C01/T1'\n",
        "    }\n",
        "  \n",
        "  if (year >= 1979 and year <= 1982):\n",
        "    return {\n",
        "        'bands': ['B4_median', 'B5_median', 'B6_median','B7_median','B6_median_1'],\n",
        "        'bandsClassify': ['B4_median', 'B5_median', 'B6_median', 'B7_median'],\n",
        "        'FCCbands': ['B6_median', 'B5_median', 'B4_median'],\n",
        "        'TextureBand': ['B6_median'],\n",
        "        'Landsat': 'LANDSAT/LM03/C01/T1'\n",
        "    }\n",
        "\n",
        "  if (year >= 1975 and year <= 1978):\n",
        "    return {\n",
        "        'bands': ['B4_median', 'B5_median', 'B6_median','B7_median','B6_median_1'],\n",
        "        'bandsClassify': ['B4_median', 'B5_median', 'B6_median', 'B7_median'],\n",
        "        'FCCbands': ['B6_median', 'B5_median', 'B4_median'],\n",
        "        'TextureBand': ['B6_median'],\n",
        "        'Landsat': 'LANDSAT/LM02/C01/T2'\n",
        "    }\n",
        "\n",
        "  if (year >= 1972 and year <= 1974):\n",
        "    return {\n",
        "        'bands': ['B4_median', 'B5_median', 'B6_median','B7_median','B6_median_1'],\n",
        "        'bandsClassify': ['B4_median', 'B5_median', 'B6_median', 'B7_median'],\n",
        "        'FCCbands': ['B6_median', 'B5_median', 'B4_median'],\n",
        "        'TextureBand': ['B6_median'],\n",
        "        'Landsat': 'LANDSAT/LM01/C01/T2'\n",
        "    }"
      ],
      "execution_count": 4,
      "outputs": []
    },
    {
      "cell_type": "code",
      "metadata": {
        "id": "7FtYc9uPaFFr"
      },
      "source": [
        "def landsat_product(landsat_id):\n",
        "  if(landsat_id == 'LANDSAT/LM01/C01/T2' or landsat_id == 'LANDSAT/LM02/C01/T2' or landsat_id == 'LANDSAT/LM03/C01/T1'):\n",
        "    image = ee.ImageCollection(landsat_id).filterDate(str(gtYearBegin) + '-01-01',str(gtYearEnd) + '-12-31').filter(ROI[roi]['doyFilterLandsat']).filterBounds(out_ext).filterMetadata('CLOUD_COVER_LAND', 'less_than', 20).map(cloudMask).reduce(ee.Reducer.median())\n",
        "    return {\n",
        "      'region': image.geometry().bounds().getInfo(),\n",
        "      'image': image,\n",
        "      'image_int': image.toByte()       \n",
        "    }\n",
        "  else:\n",
        "    image_col = ee.ImageCollection(landsat_id).filterDate(str(gtYearBegin) + '-01-01',str(gtYearEnd) + '-12-31').filter(ROI[roi]['doyFilterLandsat']).filterBounds(out_ext)\n",
        "    return {\n",
        "      'region': image_col.geometry().bounds().getInfo(),\n",
        "      'image': ee.Algorithms.Landsat.simpleComposite(image_col, 50, cloud, 40, True),\n",
        "      'image_int': ee.Algorithms.Landsat.simpleComposite(image_col, 50, cloud, 40, False)\n",
        "  }"
      ],
      "execution_count": 5,
      "outputs": []
    },
    {
      "cell_type": "code",
      "metadata": {
        "id": "qM6ZiXv9aHHS"
      },
      "source": [
        "def add_indices(params, product):\n",
        "  \n",
        "  if(params['Landsat']=='LANDSAT/LC08/C01/T1'):\n",
        "    swir  = product['image'].select('B6')\n",
        "    nir   = product['image'].select('B5')\n",
        "    red   = product['image'].select('B4')\n",
        "    green = product['image'].select('B3')\n",
        "\n",
        "    ndvi  = nir.subtract(red).divide(nir.add(red))\n",
        "    ndbi  = swir.subtract(nir).divide(swir.add(nir))\n",
        "    bi    = ndbi.subtract(ndvi)\n",
        "    ndwi  = green.subtract(swir).divide(green.add(swir))\n",
        "\n",
        "    product['image'] = product['image'].addBands([ndvi, ndbi, bi, ndwi])\n",
        "    product['image'] = product['image'].rename('B1','B2','B3','B4','B5','B6','B7','B8','B9','B10','B11','ndvi','ndbi','bi','ndwi')\n",
        "\n",
        "    params['bandsClassify'].extend(['ndvi', 'ndbi', 'bi', 'ndwi'])\n",
        "\n",
        "\n",
        "  if(params['Landsat'] == 'LANDSAT/LE07/C01/T1'):\n",
        "    swir  = product['image'].select('B5')\n",
        "    nir   = product['image'].select('B4')\n",
        "    red   = product['image'].select('B3')\n",
        "    green = product['image'].select('B2')\n",
        "\n",
        "    ndvi  = nir.subtract(red).divide(nir.add(red))\n",
        "    ndbi  = swir.subtract(nir).divide(swir.add(nir))\n",
        "    bi    = ndbi.subtract(ndvi)\n",
        "    ndwi  = green.subtract(swir).divide(green.add(swir))\n",
        "\n",
        "    product['image'] = product['image'].addBands([ndvi, ndbi, bi, ndwi])\n",
        "    product['image'] = product['image'].rename('B1','B2','B3','B4','B5','B6_VCID_1','B6_VCID_2','B7','B8','ndvi','ndbi','bi','ndwi')\n",
        "\n",
        "    params['bandsClassify'].extend(['ndvi', 'ndbi', 'bi', 'ndwi'])\n",
        "    \n",
        "\n",
        "  if(params['Landsat'] == 'LANDSAT/LM04/C01/T1' or params['Landsat'] == 'LANDSAT/LT05/C01/T1'):\n",
        "    swir  = product['image'].select('B5')\n",
        "    nir   = product['image'].select('B4')\n",
        "    red   = product['image'].select('B3')\n",
        "    green = product['image'].select('B2')\n",
        "\n",
        "    ndvi  = nir.subtract(red).divide(nir.add(red))\n",
        "    ndbi  = swir.subtract(nir).divide(swir.add(nir))\n",
        "    bi    = ndbi.subtract(ndvi)\n",
        "    ndwi  = green.subtract(swir).divide(green.add(swir))\n",
        "\n",
        "    product['image'] = product['image'].addBands([ndvi, ndbi, bi, ndwi])\n",
        "    product['image'] = product['image'].rename('B1','B2','B3','B4','B5','B6','B7','ndvi','ndbi','bi','ndwi')\n",
        "\n",
        "    params['bandsClassify'].extend(['ndvi', 'ndbi', 'bi', 'ndwi'])\n",
        "\n",
        "\n",
        "  if(params['Landsat'] == 'LANDSAT/LM01/C01/T2' or params['Landsat'] == 'LANDSAT/LM02/C01/T2' or params['Landsat'] == 'LANDSAT/LM03/C01/T1'):\n",
        "    swir = product['image'].select('B6_median')\n",
        "    nir = product['image'].select('B6_median')\n",
        "    red = product['image'].select('B5_median')\n",
        "\n",
        "    ndvi = nir.subtract(red).divide(nir.add(red))\n",
        "\n",
        "    product['image'] = product['image'].addBands(ndvi)\n",
        "    product['image'] = product['image'].rename('B4_median','B5_median','B6_median','B7_median','BQA_median','ndvi')\n",
        "\n",
        "    params['bandsClassify'].append('ndvi')\n",
        "  "
      ],
      "execution_count": 6,
      "outputs": []
    },
    {
      "cell_type": "code",
      "metadata": {
        "id": "jFiq7qbnhv_y"
      },
      "source": [
        "ROI = [\n",
        "       {'cityName': 'Laguna Lake', 'LatMax': 14.5758304600000006, 'LatMin': 13.9641799899999999, 'LonMax': 121.6324386600000054, 'LonMin': 121.0053329499999961, 'yearBegin':1972, 'yearEnd':1972, 'doyFilter':ee.Filter.And(ee.Filter.greaterThanOrEquals('doy',  1), ee.Filter.lessThanOrEquals('doy',  366)), 'doyFilterLandsat': ee.Filter.dayOfYear(1,366)},\n",
        "      #  {'cityName': 'Laguna Lake-Wet', 'LatMax': 14.5758304600000006, 'LatMin': 13.9641799899999999, 'LonMax': 121.6324386600000054, 'LonMin': 121.0053329499999961, 'yearBegin':1976, 'yearEnd':1976, 'doyFilter':ee.Filter.And(ee.Filter.greaterThanOrEquals('doy',  153), ee.Filter.lessThanOrEquals('doy',  305)), 'doyFilterLandsat': ee.Filter.dayOfYear(153, 305)},\n",
        "      #  {'cityName': 'Laguna Lake-Dry', 'LatMax': 14.5758304600000006, 'LatMin': 13.9641799899999999, 'LonMax': 121.6324386600000054, 'LonMin': 121.0053329499999961, 'yearBegin':1976, 'yearEnd':1976, 'doyFilter':ee.Filter.Or(ee.Filter.greaterThanOrEquals('doy',  306), ee.Filter.lessThanOrEquals('doy',  152)), 'doyFilterLandsat': ee.Filter.Or(ee.Filter.dayOfYear(1, 152),ee.Filter.dayOfYear(306, 366))}\n",
        "]"
      ],
      "execution_count": 7,
      "outputs": []
    },
    {
      "cell_type": "code",
      "metadata": {
        "id": "tHljwqrdhFqT"
      },
      "source": [
        "ts = time.time()\n",
        "timestamp = int(ts)\n",
        "\n",
        "roi= ''\n",
        "kernel = ee.Kernel.gaussian(1)\n",
        "out_ext = ''\n",
        "\n",
        "cloud = 30\n",
        "spatial_resolution = 120\n",
        "n_sample = 10000\n",
        "distance = 370000\n",
        "\n",
        "base_distance = 5000\n",
        "patch_size = 256\n",
        "buffer_distance = base_distance * (round((spatial_resolution * 0.5 * patch_size)/base_distance) +1)"
      ],
      "execution_count": 8,
      "outputs": []
    },
    {
      "cell_type": "code",
      "metadata": {
        "id": "v9N5HfhhYZid"
      },
      "source": [
        "ref_point = ee.FeatureCollection('users/rhtkhati/gt-pt-2500')\n",
        "ref_point = ref_point.map(reduce_class_value)"
      ],
      "execution_count": 9,
      "outputs": []
    },
    {
      "cell_type": "code",
      "metadata": {
        "id": "Yd4ONLeBY09v"
      },
      "source": [
        "for roi in range(0, len(ROI), 1):\n",
        "  city_name = ROI[roi]['cityName']\n",
        "  year_begin = ROI[roi]['yearBegin']\n",
        "  year_end = ROI[roi]['yearEnd']\n",
        "\n",
        "  USER_NAME = 'rohit'\n",
        "  IMAGE_FILE_PREFIX = city_name + '_' + str(year_begin) + '_' + str(year_end)\n",
        "  FOLDER_NAME = USER_NAME + '_' + IMAGE_FILE_PREFIX + '_' + str(timestamp)\n",
        "\n",
        "  for year in range(year_begin, year_end+1, 1):\n",
        "    nSampleClass = []\n",
        "    out_ext = ee.Geometry.Rectangle([ ROI[roi]['LonMin'], ROI[roi]['LatMin'], ROI[roi]['LonMax'], ROI[roi]['LatMax']])\n",
        "    out_ext_center = out_ext.centroid()\n",
        "\n",
        "    out_ext_buffer = out_ext.buffer(buffer_distance).bounds()\n",
        "\n",
        "    center_lat = out_ext_center.getInfo()['coordinates'][1]\n",
        "    center_lon = out_ext_center.getInfo()['coordinates'][0]\n",
        "\n",
        "    landsat_params = select_landsat(year_begin)\n",
        "\n",
        "    gtYearBegin = year_begin\n",
        "    gtYearEnd = year_end\n",
        "\n",
        "\n",
        "    product = landsat_product(landsat_params['Landsat'])\n",
        "    \n",
        "    LABEL_DATA = ref_point.filter(ee.Filter.And(ee.Filter.greaterThanOrEquals('year', gtYearBegin), ee.Filter.lessThanOrEquals('year', gtYearEnd), ROI[roi]['doyFilter']))\n",
        "    LABEL_DATA = LABEL_DATA.filterBounds(product['region'])\n",
        "\n",
        "    add_indices(landsat_params, product)\n",
        "\n",
        "    gt_image = product['image']\n",
        "    gt_image_int = product['image_int']\n",
        "    gt_image_texture = gt_image.addBands(gt_image_int.select(landsat_params['TextureBand']).entropy(kernel))\n",
        "\n",
        "    out_image = product['image'].clip(out_ext_buffer)\n",
        "    out_image_int = product['image_int'].clip(out_ext_buffer)\n",
        "    out_image_texture = out_image.addBands(out_image_int.select(landsat_params['TextureBand']).entropy(kernel))"
      ],
      "execution_count": 10,
      "outputs": []
    },
    {
      "cell_type": "code",
      "metadata": {
        "colab": {
          "base_uri": "https://localhost:8080/"
        },
        "id": "92NcIU9w_C_Y",
        "outputId": "6547e902-dde7-44c6-926c-30eeb174059f"
      },
      "source": [
        "out_image"
      ],
      "execution_count": 11,
      "outputs": [
        {
          "output_type": "execute_result",
          "data": {
            "text/plain": [
              "<ee.image.Image at 0x7f02c2334b10>"
            ]
          },
          "metadata": {
            "tags": []
          },
          "execution_count": 11
        }
      ]
    },
    {
      "cell_type": "code",
      "metadata": {
        "colab": {
          "base_uri": "https://localhost:8080/",
          "height": 424
        },
        "id": "Y2hSxc6Zizcy",
        "outputId": "484f7527-523e-4d37-d6ef-24734f1913ec"
      },
      "source": [
        "mapid = out_image_texture.getMapId({'bands': [landsat_params['FCCbands'][0], landsat_params['FCCbands'][1], landsat_params['FCCbands'][2]], 'min': 0, 'max': 255})\n",
        "map = folium.Map(location=[center_lat, center_lon]) \n",
        "folium.TileLayer(\n",
        "    tiles=mapid['tile_fetcher'].url_format,\n",
        "    attr='Map Data &copy; <a href=\"https://earthengine.google.com/\">Google Earth Engine</a>',\n",
        "    overlay=True,\n",
        "    name='Out Image Texture',\n",
        "  ).add_to(map)\n",
        "map.add_child(folium.LayerControl())\n",
        "map"
      ],
      "execution_count": 12,
      "outputs": [
        {
          "output_type": "execute_result",
          "data": {
            "text/html": [
              "<div style=\"width:100%;\"><div style=\"position:relative;width:100%;height:0;padding-bottom:60%;\"><span style=\"color:#565656\">Make this Notebook Trusted to load map: File -> Trust Notebook</span><iframe src=\"about:blank\" style=\"position:absolute;width:100%;height:100%;left:0;top:0;border:none !important;\" data-html=%3C%21DOCTYPE%20html%3E%0A%3Chead%3E%20%20%20%20%0A%20%20%20%20%3Cmeta%20http-equiv%3D%22content-type%22%20content%3D%22text/html%3B%20charset%3DUTF-8%22%20/%3E%0A%20%20%20%20%3Cscript%3EL_PREFER_CANVAS%3Dfalse%3B%20L_NO_TOUCH%3Dfalse%3B%20L_DISABLE_3D%3Dfalse%3B%3C/script%3E%0A%20%20%20%20%3Cscript%20src%3D%22https%3A//cdn.jsdelivr.net/npm/leaflet%401.4.0/dist/leaflet.js%22%3E%3C/script%3E%0A%20%20%20%20%3Cscript%20src%3D%22https%3A//code.jquery.com/jquery-1.12.4.min.js%22%3E%3C/script%3E%0A%20%20%20%20%3Cscript%20src%3D%22https%3A//maxcdn.bootstrapcdn.com/bootstrap/3.2.0/js/bootstrap.min.js%22%3E%3C/script%3E%0A%20%20%20%20%3Cscript%20src%3D%22https%3A//cdnjs.cloudflare.com/ajax/libs/Leaflet.awesome-markers/2.0.2/leaflet.awesome-markers.js%22%3E%3C/script%3E%0A%20%20%20%20%3Clink%20rel%3D%22stylesheet%22%20href%3D%22https%3A//cdn.jsdelivr.net/npm/leaflet%401.4.0/dist/leaflet.css%22/%3E%0A%20%20%20%20%3Clink%20rel%3D%22stylesheet%22%20href%3D%22https%3A//maxcdn.bootstrapcdn.com/bootstrap/3.2.0/css/bootstrap.min.css%22/%3E%0A%20%20%20%20%3Clink%20rel%3D%22stylesheet%22%20href%3D%22https%3A//maxcdn.bootstrapcdn.com/bootstrap/3.2.0/css/bootstrap-theme.min.css%22/%3E%0A%20%20%20%20%3Clink%20rel%3D%22stylesheet%22%20href%3D%22https%3A//maxcdn.bootstrapcdn.com/font-awesome/4.6.3/css/font-awesome.min.css%22/%3E%0A%20%20%20%20%3Clink%20rel%3D%22stylesheet%22%20href%3D%22https%3A//cdnjs.cloudflare.com/ajax/libs/Leaflet.awesome-markers/2.0.2/leaflet.awesome-markers.css%22/%3E%0A%20%20%20%20%3Clink%20rel%3D%22stylesheet%22%20href%3D%22https%3A//rawcdn.githack.com/python-visualization/folium/master/folium/templates/leaflet.awesome.rotate.css%22/%3E%0A%20%20%20%20%3Cstyle%3Ehtml%2C%20body%20%7Bwidth%3A%20100%25%3Bheight%3A%20100%25%3Bmargin%3A%200%3Bpadding%3A%200%3B%7D%3C/style%3E%0A%20%20%20%20%3Cstyle%3E%23map%20%7Bposition%3Aabsolute%3Btop%3A0%3Bbottom%3A0%3Bright%3A0%3Bleft%3A0%3B%7D%3C/style%3E%0A%20%20%20%20%0A%20%20%20%20%3Cmeta%20name%3D%22viewport%22%20content%3D%22width%3Ddevice-width%2C%0A%20%20%20%20%20%20%20%20initial-scale%3D1.0%2C%20maximum-scale%3D1.0%2C%20user-scalable%3Dno%22%20/%3E%0A%20%20%20%20%3Cstyle%3E%23map_c6e23b5478fc486991fec6c002e8885a%20%7B%0A%20%20%20%20%20%20%20%20position%3A%20relative%3B%0A%20%20%20%20%20%20%20%20width%3A%20100.0%25%3B%0A%20%20%20%20%20%20%20%20height%3A%20100.0%25%3B%0A%20%20%20%20%20%20%20%20left%3A%200.0%25%3B%0A%20%20%20%20%20%20%20%20top%3A%200.0%25%3B%0A%20%20%20%20%20%20%20%20%7D%0A%20%20%20%20%3C/style%3E%0A%3C/head%3E%0A%3Cbody%3E%20%20%20%20%0A%20%20%20%20%0A%20%20%20%20%3Cdiv%20class%3D%22folium-map%22%20id%3D%22map_c6e23b5478fc486991fec6c002e8885a%22%20%3E%3C/div%3E%0A%3C/body%3E%0A%3Cscript%3E%20%20%20%20%0A%20%20%20%20%0A%20%20%20%20%0A%20%20%20%20%20%20%20%20var%20bounds%20%3D%20null%3B%0A%20%20%20%20%0A%0A%20%20%20%20var%20map_c6e23b5478fc486991fec6c002e8885a%20%3D%20L.map%28%0A%20%20%20%20%20%20%20%20%27map_c6e23b5478fc486991fec6c002e8885a%27%2C%20%7B%0A%20%20%20%20%20%20%20%20center%3A%20%5B14.270071776593378%2C%20121.31888580500035%5D%2C%0A%20%20%20%20%20%20%20%20zoom%3A%2010%2C%0A%20%20%20%20%20%20%20%20maxBounds%3A%20bounds%2C%0A%20%20%20%20%20%20%20%20layers%3A%20%5B%5D%2C%0A%20%20%20%20%20%20%20%20worldCopyJump%3A%20false%2C%0A%20%20%20%20%20%20%20%20crs%3A%20L.CRS.EPSG3857%2C%0A%20%20%20%20%20%20%20%20zoomControl%3A%20true%2C%0A%20%20%20%20%20%20%20%20%7D%29%3B%0A%0A%0A%20%20%20%20%0A%20%20%20%20var%20tile_layer_f2dca962bdd24ba5b17afcdce5546b05%20%3D%20L.tileLayer%28%0A%20%20%20%20%20%20%20%20%27https%3A//%7Bs%7D.tile.openstreetmap.org/%7Bz%7D/%7Bx%7D/%7By%7D.png%27%2C%0A%20%20%20%20%20%20%20%20%7B%0A%20%20%20%20%20%20%20%20%22attribution%22%3A%20null%2C%0A%20%20%20%20%20%20%20%20%22detectRetina%22%3A%20false%2C%0A%20%20%20%20%20%20%20%20%22maxNativeZoom%22%3A%2018%2C%0A%20%20%20%20%20%20%20%20%22maxZoom%22%3A%2018%2C%0A%20%20%20%20%20%20%20%20%22minZoom%22%3A%200%2C%0A%20%20%20%20%20%20%20%20%22noWrap%22%3A%20false%2C%0A%20%20%20%20%20%20%20%20%22opacity%22%3A%201%2C%0A%20%20%20%20%20%20%20%20%22subdomains%22%3A%20%22abc%22%2C%0A%20%20%20%20%20%20%20%20%22tms%22%3A%20false%0A%7D%29.addTo%28map_c6e23b5478fc486991fec6c002e8885a%29%3B%0A%20%20%20%20var%20tile_layer_3fc779d6c36446feb0fb849f116ae1b0%20%3D%20L.tileLayer%28%0A%20%20%20%20%20%20%20%20%27https%3A//earthengine.googleapis.com/v1alpha/projects/earthengine-legacy/maps/ef7ee63559c39d45928e1fbba78dc042-3e3b8d40c75939205faf1e7ffa54b0d8/tiles/%7Bz%7D/%7Bx%7D/%7By%7D%27%2C%0A%20%20%20%20%20%20%20%20%7B%0A%20%20%20%20%20%20%20%20%22attribution%22%3A%20%22Map%20Data%20%26copy%3B%20%3Ca%20href%3D%5C%22https%3A//earthengine.google.com/%5C%22%3EGoogle%20Earth%20Engine%3C/a%3E%22%2C%0A%20%20%20%20%20%20%20%20%22detectRetina%22%3A%20false%2C%0A%20%20%20%20%20%20%20%20%22maxNativeZoom%22%3A%2018%2C%0A%20%20%20%20%20%20%20%20%22maxZoom%22%3A%2018%2C%0A%20%20%20%20%20%20%20%20%22minZoom%22%3A%200%2C%0A%20%20%20%20%20%20%20%20%22noWrap%22%3A%20false%2C%0A%20%20%20%20%20%20%20%20%22opacity%22%3A%201%2C%0A%20%20%20%20%20%20%20%20%22subdomains%22%3A%20%22abc%22%2C%0A%20%20%20%20%20%20%20%20%22tms%22%3A%20false%0A%7D%29.addTo%28map_c6e23b5478fc486991fec6c002e8885a%29%3B%0A%20%20%20%20%0A%20%20%20%20%20%20%20%20%20%20%20%20var%20layer_control_5b80540f2b5841bfa848e46f744884bd%20%3D%20%7B%0A%20%20%20%20%20%20%20%20%20%20%20%20%20%20%20%20base_layers%20%3A%20%7B%20%22openstreetmap%22%20%3A%20tile_layer_f2dca962bdd24ba5b17afcdce5546b05%2C%20%7D%2C%0A%20%20%20%20%20%20%20%20%20%20%20%20%20%20%20%20overlays%20%3A%20%7B%20%22Out%20Image%20Texture%22%20%3A%20tile_layer_3fc779d6c36446feb0fb849f116ae1b0%2C%20%7D%0A%20%20%20%20%20%20%20%20%20%20%20%20%20%20%20%20%7D%3B%0A%20%20%20%20%20%20%20%20%20%20%20%20L.control.layers%28%0A%20%20%20%20%20%20%20%20%20%20%20%20%20%20%20%20layer_control_5b80540f2b5841bfa848e46f744884bd.base_layers%2C%0A%20%20%20%20%20%20%20%20%20%20%20%20%20%20%20%20layer_control_5b80540f2b5841bfa848e46f744884bd.overlays%2C%0A%20%20%20%20%20%20%20%20%20%20%20%20%20%20%20%20%7Bposition%3A%20%27topright%27%2C%0A%20%20%20%20%20%20%20%20%20%20%20%20%20%20%20%20%20collapsed%3A%20true%2C%0A%20%20%20%20%20%20%20%20%20%20%20%20%20%20%20%20%20autoZIndex%3A%20true%0A%20%20%20%20%20%20%20%20%20%20%20%20%20%20%20%20%7D%29.addTo%28map_c6e23b5478fc486991fec6c002e8885a%29%3B%0A%20%20%20%20%20%20%20%20%20%20%20%20%0A%20%20%20%20%20%20%20%20%0A%3C/script%3E onload=\"this.contentDocument.open();this.contentDocument.write(    decodeURIComponent(this.getAttribute('data-html')));this.contentDocument.close();\" allowfullscreen webkitallowfullscreen mozallowfullscreen></iframe></div></div>"
            ],
            "text/plain": [
              "<folium.folium.Map at 0x7f02c22ca610>"
            ]
          },
          "metadata": {
            "tags": []
          },
          "execution_count": 12
        }
      ]
    },
    {
      "cell_type": "code",
      "metadata": {
        "id": "keGx5ESeZ4cS"
      },
      "source": [
        "BANDS = landsat_params['bandsClassify']\n",
        "LABEL = 'class'\n",
        "N_CLASSES = 4\n",
        "\n",
        "FEATURE_NAMES = list(BANDS)\n",
        "FEATURE_NAMES.append(LABEL)"
      ],
      "execution_count": 13,
      "outputs": []
    },
    {
      "cell_type": "code",
      "metadata": {
        "id": "xKrSUu-xmy4K"
      },
      "source": [
        "MY_DRIVE_PATH = '/content/drive/MyDrive'\n",
        "FOLDER_PATH = MY_DRIVE_PATH + '/' + FOLDER_NAME\n",
        "SHARED_DRIVE_PATH = '/content/drive/Shareddrives/Miyazaki Lab./Laguna Lake NN/'\n",
        "\n",
        "TRAIN_FILE_PREFIX = 'Training_' + str(timestamp)\n",
        "TEST_FILE_PREFIX = 'Testing_' + str(timestamp)\n",
        "\n",
        "file_extension = '.tfrecord.gz'\n",
        "TRAIN_FILE_PATH =  MY_DRIVE_PATH + '/' + FOLDER_NAME + '/sample/' +TRAIN_FILE_PREFIX + file_extension\n",
        "TEST_FILE_PATH = MY_DRIVE_PATH + '/' + FOLDER_NAME + '/sample/' + TEST_FILE_PREFIX + file_extension\n",
        "\n",
        "OUTPUT_IMAGE_TFR = MY_DRIVE_PATH + '/' + FOLDER_NAME + '/'+ IMAGE_FILE_PREFIX+'.TFRecord'\n",
        "OUTPUT_IMAGE_TIF = MY_DRIVE_PATH + '/' + FOLDER_NAME + '/'+ IMAGE_FILE_PREFIX+'.tif'\n",
        "\n",
        "EXPORT_REGION = out_ext\n",
        "OUTPUT_ASSET_ID = 'users/' + USER_NAME + '/demo'"
      ],
      "execution_count": 14,
      "outputs": []
    },
    {
      "cell_type": "code",
      "metadata": {
        "id": "8Tl09zONchIz"
      },
      "source": [
        "sample = gt_image_texture.sampleRegions(\n",
        "    collection = LABEL_DATA,\n",
        "    properties = [LABEL],\n",
        "    scale = spatial_resolution,\n",
        ").randomColumn()"
      ],
      "execution_count": 15,
      "outputs": []
    },
    {
      "cell_type": "code",
      "metadata": {
        "colab": {
          "base_uri": "https://localhost:8080/"
        },
        "id": "UYhDS9TPdghj",
        "outputId": "e4d3ae40-aa84-47a0-9a54-fddb544747f2"
      },
      "source": [
        "training = sample.filter(ee.Filter.lt('random', 0.8))\n",
        "testing = sample.filter(ee.Filter.gte('random', 0.8))\n",
        "\n",
        "pprint({'training': training.first().getInfo()})\n",
        "pprint({'testing': testing.first().getInfo()})"
      ],
      "execution_count": 16,
      "outputs": [
        {
          "output_type": "stream",
          "text": [
            "{'training': {'geometry': None,\n",
            "              'id': '00010000000000003ee6_0',\n",
            "              'properties': {'B4_median': 69,\n",
            "                             'B5_median': 54,\n",
            "                             'B6_median': 46,\n",
            "                             'B6_median_1': 2.043191909790039,\n",
            "                             'B7_median': 32,\n",
            "                             'BQA_median': 32,\n",
            "                             'class': 0,\n",
            "                             'ndvi': -0.08,\n",
            "                             'random': 0.47606450994432437},\n",
            "              'type': 'Feature'}}\n",
            "{'testing': {'geometry': None,\n",
            "             'id': '00010000000000003ee5_0',\n",
            "             'properties': {'B4_median': 73,\n",
            "                            'B5_median': 67,\n",
            "                            'B6_median': 55,\n",
            "                            'B6_median_1': 2.043191909790039,\n",
            "                            'B7_median': 38,\n",
            "                            'BQA_median': 32,\n",
            "                            'class': 0,\n",
            "                            'ndvi': -0.09836065573770492,\n",
            "                            'random': 0.8975817879260255},\n",
            "             'type': 'Feature'}}\n"
          ],
          "name": "stdout"
        }
      ]
    },
    {
      "cell_type": "code",
      "metadata": {
        "id": "ZAYHijezmYjl"
      },
      "source": [
        "training_task = ee.batch.Export.table.toDrive(\n",
        "  collection=training,\n",
        "  description='Training Export',\n",
        "  folder=FOLDER_NAME,\n",
        "  fileNamePrefix=TRAIN_FILE_PREFIX,\n",
        "  fileFormat='TFRecord',\n",
        "  selectors=FEATURE_NAMES)\n",
        "\n",
        "testing_task = ee.batch.Export.table.toDrive(\n",
        "  collection=testing,\n",
        "  description='Testing Export',\n",
        "  folder=FOLDER_NAME,\n",
        "  fileNamePrefix=TEST_FILE_PREFIX,\n",
        "  fileFormat='TFRecord',\n",
        "  selectors=FEATURE_NAMES)"
      ],
      "execution_count": 17,
      "outputs": []
    },
    {
      "cell_type": "code",
      "metadata": {
        "id": "BWURzdwvm_kC"
      },
      "source": [
        "training_task.start()\n",
        "testing_task.start()"
      ],
      "execution_count": 18,
      "outputs": []
    },
    {
      "cell_type": "code",
      "metadata": {
        "id": "bgVIojLinCGS",
        "colab": {
          "base_uri": "https://localhost:8080/"
        },
        "outputId": "9d1bb6c7-ee4e-40c9-f901-b4fde2a69e32"
      },
      "source": [
        "while training_task.active():\n",
        "  print('Polling for task (id: {}).'.format(training_task.id))\n",
        "  time.sleep(20)\n",
        "print('Done with training export.')\n",
        "\n",
        "while testing_task.active():\n",
        "  print('Polling for task (id: {}).'.format(testing_task.id))\n",
        "  time.sleep(20)\n",
        "print('Done with testing export.')"
      ],
      "execution_count": 19,
      "outputs": [
        {
          "output_type": "stream",
          "text": [
            "Polling for task (id: RYLWEDBOBRCD3X2DMFE64K4O).\n",
            "Polling for task (id: RYLWEDBOBRCD3X2DMFE64K4O).\n",
            "Done with training export.\n",
            "Done with testing export.\n"
          ],
          "name": "stdout"
        }
      ]
    },
    {
      "cell_type": "code",
      "metadata": {
        "id": "sgG86HDPuU9p",
        "colab": {
          "base_uri": "https://localhost:8080/"
        },
        "outputId": "804b7e1b-00a3-4504-f870-a21c9377179f"
      },
      "source": [
        "time.sleep(20)\n",
        "drive.mount('/content/drive', force_remount=True)"
      ],
      "execution_count": 20,
      "outputs": [
        {
          "output_type": "stream",
          "text": [
            "Mounted at /content/drive\n"
          ],
          "name": "stdout"
        }
      ]
    },
    {
      "cell_type": "code",
      "metadata": {
        "id": "mZnC6g5twMm5"
      },
      "source": [
        "src_dir = MY_DRIVE_PATH + '/' + FOLDER_NAME\n",
        "src_files = os.listdir(src_dir)\n",
        "\n",
        "dest_dir = os.path.join(src_dir, 'sample')\n",
        "\n",
        "os.makedirs(dest_dir, exist_ok = True)\n",
        "\n",
        "for file in src_files:\n",
        "    shutil.move(os.path.join(src_dir, file), dest_dir)"
      ],
      "execution_count": 21,
      "outputs": []
    },
    {
      "cell_type": "code",
      "metadata": {
        "id": "EsS6YBcjnSJ7",
        "colab": {
          "base_uri": "https://localhost:8080/"
        },
        "outputId": "2c90f8af-c85c-486c-c2d8-61a1b435cb6c"
      },
      "source": [
        "print('Found training file.' if tf.io.gfile.exists(TRAIN_FILE_PATH) \n",
        "    else 'No training file found.')\n",
        "\n",
        "print('Found testing file.' if tf.io.gfile.exists(TEST_FILE_PATH) \n",
        "    else 'No testing file found.')"
      ],
      "execution_count": 22,
      "outputs": [
        {
          "output_type": "stream",
          "text": [
            "Found training file.\n",
            "Found testing file.\n"
          ],
          "name": "stdout"
        }
      ]
    },
    {
      "cell_type": "code",
      "metadata": {
        "id": "AN-cQlaS0yEP"
      },
      "source": [
        "train_dataset = tf.data.TFRecordDataset(TRAIN_FILE_PATH, compression_type='GZIP')\n",
        "test_dataset = tf.data.TFRecordDataset(TEST_FILE_PATH, compression_type='GZIP')\n",
        "\n",
        "# print(iter(train_dataset).next())\n",
        "# print(iter(test_dataset).next())"
      ],
      "execution_count": 23,
      "outputs": []
    },
    {
      "cell_type": "code",
      "metadata": {
        "id": "lJiRlwiq3q4O",
        "colab": {
          "base_uri": "https://localhost:8080/"
        },
        "outputId": "39182992-2d2d-45d2-d2b5-ffa638a289fe"
      },
      "source": [
        "columns = [\n",
        "           tf.io.FixedLenFeature(shape=[1], dtype=tf.float32) for k in FEATURE_NAMES\n",
        "]\n",
        "\n",
        "features_dict = dict(zip(FEATURE_NAMES, columns))\n",
        "\n",
        "pprint(features_dict)"
      ],
      "execution_count": 24,
      "outputs": [
        {
          "output_type": "stream",
          "text": [
            "{'B4_median': FixedLenFeature(shape=[1], dtype=tf.float32, default_value=None),\n",
            " 'B5_median': FixedLenFeature(shape=[1], dtype=tf.float32, default_value=None),\n",
            " 'B6_median': FixedLenFeature(shape=[1], dtype=tf.float32, default_value=None),\n",
            " 'B7_median': FixedLenFeature(shape=[1], dtype=tf.float32, default_value=None),\n",
            " 'class': FixedLenFeature(shape=[1], dtype=tf.float32, default_value=None),\n",
            " 'ndvi': FixedLenFeature(shape=[1], dtype=tf.float32, default_value=None)}\n"
          ],
          "name": "stdout"
        }
      ]
    },
    {
      "cell_type": "code",
      "metadata": {
        "id": "xnes6DPZTs8V"
      },
      "source": [
        "def parse_tfrecord(example_proto):\n",
        "  parsed_features = tf.io.parse_single_example(example_proto, features_dict)\n",
        "  labels = parsed_features.pop(LABEL)\n",
        "  return parsed_features, tf.cast(labels, tf.int32)\n",
        "\n",
        "parsed_trainset = train_dataset.map(parse_tfrecord, num_parallel_calls=5)\n",
        "parsed_testset = test_dataset.map(parse_tfrecord, num_parallel_calls=5)\n",
        "\n",
        "# pprint(iter(parsed_trainset))\n",
        "# pprint(iter(parsed_testset))"
      ],
      "execution_count": 25,
      "outputs": []
    },
    {
      "cell_type": "code",
      "metadata": {
        "id": "1tcHrlkuU1_S"
      },
      "source": [
        "batch_size = 100\n",
        "\n",
        "def to_tuple(inputs, label):\n",
        "  return (tf.transpose(list(inputs.values())), tf.one_hot(indices=label, depth=N_CLASSES))\n",
        "\n",
        "input_dataset = parsed_trainset.map(to_tuple).batch(batch_size)\n",
        "validate_dataset = parsed_testset.map(to_tuple).batch(batch_size)\n"
      ],
      "execution_count": 26,
      "outputs": []
    },
    {
      "cell_type": "code",
      "metadata": {
        "id": "694bORamYglL"
      },
      "source": [
        "model = tf.keras.models.Sequential([\n",
        "  tf.keras.layers.Dense(128, activation=tf.nn.relu),\n",
        "  tf.keras.layers.Dropout(0.1),\n",
        "  tf.keras.layers.Dense(64, activation=tf.nn.relu),\n",
        "  tf.keras.layers.Dropout(0.1),\n",
        "  tf.keras.layers.Dense(64, activation=tf.nn.relu),\n",
        "  tf.keras.layers.Dropout(0.1),\n",
        "  tf.keras.layers.Dense(64, activation=tf.nn.relu),\n",
        "  tf.keras.layers.Dense(64, activation=tf.nn.relu),\n",
        "  tf.keras.layers.Dense(N_CLASSES, activation=tf.nn.softmax)\n",
        "])"
      ],
      "execution_count": 27,
      "outputs": []
    },
    {
      "cell_type": "code",
      "metadata": {
        "id": "oS81n0jVZKbU"
      },
      "source": [
        "model.compile(optimizer= tf.keras.optimizers.Adam(\n",
        "    learning_rate=0.0001),\n",
        "    loss='categorical_crossentropy',\n",
        "    metrics=['accuracy', 'mse']\n",
        ")"
      ],
      "execution_count": 28,
      "outputs": []
    },
    {
      "cell_type": "code",
      "metadata": {
        "colab": {
          "base_uri": "https://localhost:8080/"
        },
        "id": "tJ6GHY6qZOjt",
        "outputId": "e9252d03-1c98-4f0a-f689-8ca28881e970"
      },
      "source": [
        "\n",
        "from keras.callbacks import ModelCheckpoint\n",
        "from keras.callbacks import LearningRateScheduler\n",
        "\n",
        "log_d = MY_DRIVE_PATH + '/' + FOLDER_NAME + '/' + 'model'\n",
        "os.makedirs(log_d, exist_ok=True)\n",
        "\n",
        "def build_callbacks():\n",
        "    checkpointer = ModelCheckpoint(filepath = log_d, verbose=0, save_best_only=True, monitor='val_loss')\n",
        "    callbacks = [checkpointer]\n",
        "    return callbacks\n",
        "history = model.fit(x=input_dataset,validation_data=(validate_dataset), epochs=25, callbacks=build_callbacks())"
      ],
      "execution_count": 29,
      "outputs": [
        {
          "output_type": "stream",
          "text": [
            "Epoch 1/25\n",
            "80/80 [==============================] - 4s 30ms/step - loss: 5.8068 - accuracy: 0.2112 - mse: 0.3533 - val_loss: 1.3021 - val_accuracy: 0.4123 - val_mse: 0.1784\n",
            "INFO:tensorflow:Assets written to: /content/drive/MyDrive/rohit_Laguna Lake_1972_1972_1621572765/model/assets\n",
            "Epoch 2/25\n",
            "80/80 [==============================] - 1s 11ms/step - loss: 2.2992 - accuracy: 0.2356 - mse: 0.2583 - val_loss: 0.7506 - val_accuracy: 0.7230 - val_mse: 0.1046\n",
            "INFO:tensorflow:Assets written to: /content/drive/MyDrive/rohit_Laguna Lake_1972_1972_1621572765/model/assets\n",
            "Epoch 3/25\n",
            "80/80 [==============================] - 1s 11ms/step - loss: 1.4839 - accuracy: 0.4207 - mse: 0.1888 - val_loss: 0.5378 - val_accuracy: 0.8788 - val_mse: 0.0683\n",
            "INFO:tensorflow:Assets written to: /content/drive/MyDrive/rohit_Laguna Lake_1972_1972_1621572765/model/assets\n",
            "Epoch 4/25\n",
            "80/80 [==============================] - 1s 12ms/step - loss: 1.0683 - accuracy: 0.5856 - mse: 0.1432 - val_loss: 0.4212 - val_accuracy: 0.9174 - val_mse: 0.0507\n",
            "INFO:tensorflow:Assets written to: /content/drive/MyDrive/rohit_Laguna Lake_1972_1972_1621572765/model/assets\n",
            "Epoch 5/25\n",
            "80/80 [==============================] - 1s 11ms/step - loss: 0.8481 - accuracy: 0.6725 - mse: 0.1159 - val_loss: 0.3552 - val_accuracy: 0.9184 - val_mse: 0.0420\n",
            "INFO:tensorflow:Assets written to: /content/drive/MyDrive/rohit_Laguna Lake_1972_1972_1621572765/model/assets\n",
            "Epoch 6/25\n",
            "80/80 [==============================] - 1s 12ms/step - loss: 0.7074 - accuracy: 0.7218 - mse: 0.0979 - val_loss: 0.3153 - val_accuracy: 0.9184 - val_mse: 0.0376\n",
            "INFO:tensorflow:Assets written to: /content/drive/MyDrive/rohit_Laguna Lake_1972_1972_1621572765/model/assets\n",
            "Epoch 7/25\n",
            "80/80 [==============================] - 1s 12ms/step - loss: 0.6181 - accuracy: 0.7603 - mse: 0.0855 - val_loss: 0.2893 - val_accuracy: 0.9194 - val_mse: 0.0350\n",
            "INFO:tensorflow:Assets written to: /content/drive/MyDrive/rohit_Laguna Lake_1972_1972_1621572765/model/assets\n",
            "Epoch 8/25\n",
            "80/80 [==============================] - 1s 11ms/step - loss: 0.5581 - accuracy: 0.7733 - mse: 0.0787 - val_loss: 0.2690 - val_accuracy: 0.9204 - val_mse: 0.0331\n",
            "INFO:tensorflow:Assets written to: /content/drive/MyDrive/rohit_Laguna Lake_1972_1972_1621572765/model/assets\n",
            "Epoch 9/25\n",
            "80/80 [==============================] - 1s 11ms/step - loss: 0.4815 - accuracy: 0.8059 - mse: 0.0685 - val_loss: 0.2592 - val_accuracy: 0.9199 - val_mse: 0.0323\n",
            "INFO:tensorflow:Assets written to: /content/drive/MyDrive/rohit_Laguna Lake_1972_1972_1621572765/model/assets\n",
            "Epoch 10/25\n",
            "80/80 [==============================] - 1s 12ms/step - loss: 0.4471 - accuracy: 0.8145 - mse: 0.0648 - val_loss: 0.2495 - val_accuracy: 0.9218 - val_mse: 0.0315\n",
            "INFO:tensorflow:Assets written to: /content/drive/MyDrive/rohit_Laguna Lake_1972_1972_1621572765/model/assets\n",
            "Epoch 11/25\n",
            "80/80 [==============================] - 1s 11ms/step - loss: 0.4125 - accuracy: 0.8362 - mse: 0.0590 - val_loss: 0.2441 - val_accuracy: 0.9233 - val_mse: 0.0311\n",
            "INFO:tensorflow:Assets written to: /content/drive/MyDrive/rohit_Laguna Lake_1972_1972_1621572765/model/assets\n",
            "Epoch 12/25\n",
            "80/80 [==============================] - 1s 11ms/step - loss: 0.3928 - accuracy: 0.8368 - mse: 0.0568 - val_loss: 0.2369 - val_accuracy: 0.9243 - val_mse: 0.0303\n",
            "INFO:tensorflow:Assets written to: /content/drive/MyDrive/rohit_Laguna Lake_1972_1972_1621572765/model/assets\n",
            "Epoch 13/25\n",
            "80/80 [==============================] - 1s 12ms/step - loss: 0.3804 - accuracy: 0.8476 - mse: 0.0543 - val_loss: 0.2375 - val_accuracy: 0.9243 - val_mse: 0.0304\n",
            "Epoch 14/25\n",
            "80/80 [==============================] - 1s 12ms/step - loss: 0.3611 - accuracy: 0.8501 - mse: 0.0520 - val_loss: 0.2390 - val_accuracy: 0.9238 - val_mse: 0.0308\n",
            "Epoch 15/25\n",
            "80/80 [==============================] - 1s 11ms/step - loss: 0.3594 - accuracy: 0.8537 - mse: 0.0517 - val_loss: 0.2362 - val_accuracy: 0.9253 - val_mse: 0.0304\n",
            "INFO:tensorflow:Assets written to: /content/drive/MyDrive/rohit_Laguna Lake_1972_1972_1621572765/model/assets\n",
            "Epoch 16/25\n",
            "80/80 [==============================] - 1s 12ms/step - loss: 0.3211 - accuracy: 0.8713 - mse: 0.0464 - val_loss: 0.2314 - val_accuracy: 0.9257 - val_mse: 0.0297\n",
            "INFO:tensorflow:Assets written to: /content/drive/MyDrive/rohit_Laguna Lake_1972_1972_1621572765/model/assets\n",
            "Epoch 17/25\n",
            "80/80 [==============================] - 1s 11ms/step - loss: 0.3141 - accuracy: 0.8753 - mse: 0.0449 - val_loss: 0.2337 - val_accuracy: 0.9233 - val_mse: 0.0302\n",
            "Epoch 18/25\n",
            "80/80 [==============================] - 1s 12ms/step - loss: 0.3211 - accuracy: 0.8697 - mse: 0.0461 - val_loss: 0.2316 - val_accuracy: 0.9267 - val_mse: 0.0298\n",
            "Epoch 19/25\n",
            "80/80 [==============================] - 1s 12ms/step - loss: 0.3210 - accuracy: 0.8703 - mse: 0.0458 - val_loss: 0.2335 - val_accuracy: 0.9243 - val_mse: 0.0302\n",
            "Epoch 20/25\n",
            "80/80 [==============================] - 1s 12ms/step - loss: 0.3146 - accuracy: 0.8761 - mse: 0.0448 - val_loss: 0.2303 - val_accuracy: 0.9267 - val_mse: 0.0296\n",
            "INFO:tensorflow:Assets written to: /content/drive/MyDrive/rohit_Laguna Lake_1972_1972_1621572765/model/assets\n",
            "Epoch 21/25\n",
            "80/80 [==============================] - 1s 11ms/step - loss: 0.3136 - accuracy: 0.8731 - mse: 0.0448 - val_loss: 0.2296 - val_accuracy: 0.9253 - val_mse: 0.0296\n",
            "INFO:tensorflow:Assets written to: /content/drive/MyDrive/rohit_Laguna Lake_1972_1972_1621572765/model/assets\n",
            "Epoch 22/25\n",
            "80/80 [==============================] - 1s 12ms/step - loss: 0.3048 - accuracy: 0.8749 - mse: 0.0442 - val_loss: 0.2307 - val_accuracy: 0.9257 - val_mse: 0.0297\n",
            "Epoch 23/25\n",
            "80/80 [==============================] - 1s 12ms/step - loss: 0.2989 - accuracy: 0.8782 - mse: 0.0429 - val_loss: 0.2304 - val_accuracy: 0.9253 - val_mse: 0.0297\n",
            "Epoch 24/25\n",
            "80/80 [==============================] - 1s 12ms/step - loss: 0.2954 - accuracy: 0.8854 - mse: 0.0419 - val_loss: 0.2306 - val_accuracy: 0.9253 - val_mse: 0.0297\n",
            "Epoch 25/25\n",
            "80/80 [==============================] - 1s 12ms/step - loss: 0.2974 - accuracy: 0.8804 - mse: 0.0424 - val_loss: 0.2278 - val_accuracy: 0.9253 - val_mse: 0.0293\n",
            "INFO:tensorflow:Assets written to: /content/drive/MyDrive/rohit_Laguna Lake_1972_1972_1621572765/model/assets\n"
          ],
          "name": "stdout"
        }
      ]
    },
    {
      "cell_type": "code",
      "metadata": {
        "colab": {
          "base_uri": "https://localhost:8080/",
          "height": 573
        },
        "id": "VD3oemUAgGcM",
        "outputId": "24cd5679-c471-4702-f8b4-da20d24bce3e"
      },
      "source": [
        "import matplotlib.pyplot as plt\n",
        "# summarize history for accuracy\n",
        "plt.plot(history.history['accuracy'])\n",
        "plt.plot(history.history['val_accuracy'])\n",
        "plt.title('model accuracy')\n",
        "plt.ylabel('accuracy')\n",
        "plt.xlabel('epoch')\n",
        "plt.legend(['train', 'test'], loc='upper left')\n",
        "plt.show()\n",
        "# summarize history for loss\n",
        "plt.plot(history.history['loss'])\n",
        "plt.plot(history.history['val_loss'])\n",
        "plt.title('model loss')\n",
        "plt.ylabel('loss')\n",
        "plt.xlabel('epoch')\n",
        "plt.legend(['train', 'test'], loc='upper left')\n",
        "plt.show()"
      ],
      "execution_count": 30,
      "outputs": [
        {
          "output_type": "display_data",
          "data": {
            "image/png": "[encoded data removed]",
            "text/plain": [
              "<Figure size 432x288 with 1 Axes>"
            ]
          },
          "metadata": {
            "tags": [],
            "needs_background": "light"
          }
        },
        {
          "output_type": "display_data",
          "data": {
            "image/png": "[encoded data removed]",
            "text/plain": [
              "<Figure size 432x288 with 1 Axes>"
            ]
          },
          "metadata": {
            "tags": [],
            "needs_background": "light"
          }
        }
      ]
    },
    {
      "cell_type": "code",
      "metadata": {
        "colab": {
          "base_uri": "https://localhost:8080/"
        },
        "id": "MNb394HLdF1c",
        "outputId": "7473ef0c-d13a-4e10-f415-b30e34ea8cc5"
      },
      "source": [
        " model.evaluate(validate_dataset)"
      ],
      "execution_count": 31,
      "outputs": [
        {
          "output_type": "stream",
          "text": [
            "21/21 [==============================] - 0s 9ms/step - loss: 0.2278 - accuracy: 0.9253 - mse: 0.0293\n"
          ],
          "name": "stdout"
        },
        {
          "output_type": "execute_result",
          "data": {
            "text/plain": [
              "[0.22775565087795258, 0.9252564907073975, 0.02931448258459568]"
            ]
          },
          "metadata": {
            "tags": []
          },
          "execution_count": 31
        }
      ]
    },
    {
      "cell_type": "code",
      "metadata": {
        "id": "vCfGLPzQhKE1"
      },
      "source": [
        "image_export_options = {\n",
        "    'patchDimensions': [patch_size, patch_size],\n",
        "    'maxFileSize': 104857600,\n",
        "    'compressed': True\n",
        "}\n",
        "\n",
        "image_task = ee.batch.Export.image.toDrive(\n",
        "  image=out_image_texture,\n",
        "  description='Image Export',\n",
        "  fileNamePrefix= IMAGE_FILE_PREFIX,\n",
        "  folder= FOLDER_NAME,\n",
        "  scale=spatial_resolution,\n",
        "  fileFormat='TFRecord',\n",
        "  region=out_ext_buffer,\n",
        "  formatOptions=image_export_options,\n",
        ")\n",
        "\n",
        "image_task.start()"
      ],
      "execution_count": 32,
      "outputs": []
    },
    {
      "cell_type": "code",
      "metadata": {
        "id": "q7UiBAvvjnlF",
        "colab": {
          "base_uri": "https://localhost:8080/"
        },
        "outputId": "84cb5327-e54e-48c1-a1e2-2bbbfebf71ac"
      },
      "source": [
        "while image_task.active():\n",
        "  print('Polling for task (id: {}).'.format(image_task.id))\n",
        "  time.sleep(20)\n",
        "print('Done with image export.')"
      ],
      "execution_count": 33,
      "outputs": [
        {
          "output_type": "stream",
          "text": [
            "Polling for task (id: F6KETPPLA3U6744NNMXHNAI7).\n",
            "Polling for task (id: F6KETPPLA3U6744NNMXHNAI7).\n",
            "Done with image export.\n"
          ],
          "name": "stdout"
        }
      ]
    },
    {
      "cell_type": "code",
      "metadata": {
        "id": "NQfKDvknu6Fq",
        "colab": {
          "base_uri": "https://localhost:8080/"
        },
        "outputId": "5601067c-0056-4fed-8d88-136facad83ed"
      },
      "source": [
        "time.sleep(20)\n",
        "drive.mount('/content/drive', force_remount=True)"
      ],
      "execution_count": 34,
      "outputs": [
        {
          "output_type": "stream",
          "text": [
            "Mounted at /content/drive\n"
          ],
          "name": "stdout"
        }
      ]
    },
    {
      "cell_type": "code",
      "metadata": {
        "id": "VGbbvGEyj59c",
        "colab": {
          "base_uri": "https://localhost:8080/"
        },
        "outputId": "1b07f7d3-09e5-4bb6-fc68-c47308de604c"
      },
      "source": [
        "tfrecord_list = glob.glob(MY_DRIVE_PATH +'/' + FOLDER_NAME + '/' + '*.tfrecord.gz')\n",
        "tfrecord_list.sort()\n",
        "print(tfrecord_list)\n",
        "\n",
        "json_list = glob.glob(MY_DRIVE_PATH +'/' + FOLDER_NAME + '/' + '*.json')\n",
        "print(json_list)"
      ],
      "execution_count": 35,
      "outputs": [
        {
          "output_type": "stream",
          "text": [
            "['/content/drive/MyDrive/rohit_Laguna Lake_1972_1972_1621572765/Laguna Lake_1972_1972-00000.tfrecord.gz']\n",
            "['/content/drive/MyDrive/rohit_Laguna Lake_1972_1972_1621572765/Laguna Lake_1972_1972-mixer.json']\n"
          ],
          "name": "stdout"
        }
      ]
    },
    {
      "cell_type": "code",
      "metadata": {
        "id": "GS1rNwK32zyR",
        "colab": {
          "base_uri": "https://localhost:8080/"
        },
        "outputId": "d6d9a873-0006-4ed5-8d4d-14be5acc3b92"
      },
      "source": [
        "with open(json_list[0], \"r\") as read_file:\n",
        "   mixer = json.load(read_file)\n",
        "\n",
        "mixer"
      ],
      "execution_count": 36,
      "outputs": [
        {
          "output_type": "execute_result",
          "data": {
            "text/plain": [
              "{'patchDimensions': [256, 256],\n",
              " 'patchesPerRow': 3,\n",
              " 'projection': {'affine': {'doubleMatrix': [0.0010779783409434259,\n",
              "    0.0,\n",
              "    120.81873447459823,\n",
              "    0.0,\n",
              "    -0.0010779783409434259,\n",
              "    14.756445509174556]},\n",
              "  'crs': 'EPSG:4326'},\n",
              " 'totalPatches': 9}"
            ]
          },
          "metadata": {
            "tags": []
          },
          "execution_count": 36
        }
      ]
    },
    {
      "cell_type": "code",
      "metadata": {
        "id": "dNi0Q7yF4vMo"
      },
      "source": [
        "patch_width = mixer['patchDimensions'][0]\n",
        "patch_height = mixer['patchDimensions'][1]\n",
        "patches = mixer['totalPatches']\n",
        "patch_dimensions_flat = [patch_width*patch_height, 1]\n",
        "\n",
        "image_columns = [\n",
        "                tf.io.FixedLenFeature(shape=patch_dimensions_flat, dtype=tf.float32) for k in BANDS\n",
        "]\n",
        "\n",
        "image_features_dict = dict(zip(BANDS, image_columns))\n",
        "\n",
        "image_dataset = tf.data.TFRecordDataset(tfrecord_list, compression_type='GZIP')\n"
      ],
      "execution_count": 37,
      "outputs": []
    },
    {
      "cell_type": "code",
      "metadata": {
        "id": "6N5glJOH6n6r"
      },
      "source": [
        "def parse_image(example_proto):\n",
        "  return tf.io.parse_single_example(example_proto, image_features_dict)"
      ],
      "execution_count": 38,
      "outputs": []
    },
    {
      "cell_type": "code",
      "metadata": {
        "id": "cLzPjxt469t2"
      },
      "source": [
        "image_dataset = image_dataset.map(parse_image, num_parallel_calls=5)\n",
        "\n",
        "image_dataset = image_dataset.flat_map(\n",
        "    lambda features: tf.data.Dataset.from_tensor_slices(features)\n",
        ")\n",
        "\n",
        "image_dataset = image_dataset.map(\n",
        "  lambda data_dict: (tf.transpose(list(data_dict.values())), )\n",
        ")\n",
        "\n",
        "image_dataset = image_dataset.batch(patch_width * patch_height)"
      ],
      "execution_count": 39,
      "outputs": []
    },
    {
      "cell_type": "code",
      "metadata": {
        "id": "wrb_7arg7dHU",
        "colab": {
          "base_uri": "https://localhost:8080/"
        },
        "outputId": "9d58f82b-c5f8-4697-955b-d2d48ce98fff"
      },
      "source": [
        "predictions = model.predict(image_dataset, steps=patches, verbose=1)\n",
        "print(predictions[0])"
      ],
      "execution_count": 40,
      "outputs": [
        {
          "output_type": "stream",
          "text": [
            "9/9 [==============================] - 28s 3s/step\n",
            "[[0.2634223  0.23918092 0.24604209 0.2513546 ]]\n"
          ],
          "name": "stdout"
        }
      ]
    },
    {
      "cell_type": "code",
      "metadata": {
        "id": "JLZ-xaCa7wth",
        "colab": {
          "base_uri": "https://localhost:8080/"
        },
        "outputId": "c7dc9b36-53ce-4364-b948-bb61d237affe"
      },
      "source": [
        "writer = tf.io.TFRecordWriter(OUTPUT_IMAGE_TFR)\n",
        "\n",
        "patch = [[]]\n",
        "cur_patch = 1\n",
        "for prediction in predictions:\n",
        "  patch[0].append(tf.argmax(prediction, 1))\n",
        "\n",
        "  if (len(patch[0])==patch_width*patch_height):\n",
        "    print('Done with Patch ' + str(cur_patch) + ' of ' + str(patches) + '...')\n",
        "    example = tf.train.Example(\n",
        "        features=tf.train.Features(\n",
        "            feature={\n",
        "                'prediction': tf.train.Feature(\n",
        "                    int64_list=tf.train.Int64List(\n",
        "                        value=patch[0]\n",
        "                    )\n",
        "                )\n",
        "            }\n",
        "        )\n",
        "    )\n",
        "\n",
        "    writer.write(example.SerializeToString())\n",
        "    patch=[[]]\n",
        "    cur_patch +=1\n",
        "  \n",
        "writer.close()"
      ],
      "execution_count": 41,
      "outputs": [
        {
          "output_type": "stream",
          "text": [
            "Done with Patch 1 of 9...\n",
            "Done with Patch 2 of 9...\n",
            "Done with Patch 3 of 9...\n",
            "Done with Patch 4 of 9...\n",
            "Done with Patch 5 of 9...\n",
            "Done with Patch 6 of 9...\n",
            "Done with Patch 7 of 9...\n",
            "Done with Patch 8 of 9...\n",
            "Done with Patch 9 of 9...\n"
          ],
          "name": "stdout"
        }
      ]
    },
    {
      "cell_type": "code",
      "metadata": {
        "id": "RgMfcE4qBdIR",
        "colab": {
          "base_uri": "https://localhost:8080/"
        },
        "outputId": "10487e21-cb2b-432d-ae2e-f3b0926386a4"
      },
      "source": [
        "record_iterator = tf.compat.v1.python_io.tf_record_iterator(path=OUTPUT_IMAGE_TFR)\n",
        "\n",
        "n_row = patches/mixer['patchesPerRow']\n",
        "n_col = mixer['patchesPerRow']\n",
        "current_row = 0\n",
        "current_col = 0\n",
        "counter = 0\n",
        "\n",
        "for string_record in record_iterator:\n",
        "  example = tf.train.Example()\n",
        "  example.ParseFromString(string_record)\n",
        "  values = np.array(example.features.feature['prediction'].int64_list.value).reshape(patch_width, patch_height).astype(np.int8)\n",
        "\n",
        "  if (current_col==0):\n",
        "    horizontal_strip = values\n",
        "  else:\n",
        "    horizontal_strip = np.concatenate([horizontal_strip, values], axis=1)\n",
        "  current_col += 1\n",
        "\n",
        "  if (current_col == n_col):\n",
        "    if (current_row==0):\n",
        "      image = horizontal_strip\n",
        "    else:\n",
        "      image = np.concatenate([image, horizontal_strip], axis=0)\n",
        "      horizontal_strip = []\n",
        "\n",
        "    current_row +=1\n",
        "    current_col = 0\n",
        "    print(counter)\n",
        "  counter +=1\n",
        "print(counter)"
      ],
      "execution_count": 42,
      "outputs": [
        {
          "output_type": "stream",
          "text": [
            "WARNING:tensorflow:From <ipython-input-42-ba40c2cacaee>:1: tf_record_iterator (from tensorflow.python.lib.io.tf_record) is deprecated and will be removed in a future version.\n",
            "Instructions for updating:\n",
            "Use eager execution and: \n",
            "`tf.data.TFRecordDataset(path)`\n",
            "2\n",
            "5\n",
            "8\n",
            "9\n"
          ],
          "name": "stdout"
        }
      ]
    },
    {
      "cell_type": "code",
      "metadata": {
        "id": "SNbWNYBIEMaX",
        "colab": {
          "base_uri": "https://localhost:8080/",
          "height": 269
        },
        "outputId": "5a1aea0a-d7d6-45fe-f000-be9fe315b7ff"
      },
      "source": [
        "imgplot = plt.imshow(image, cmap=plt.get_cmap('jet'), vmin=0, vmax=1)\n",
        "plt.show()"
      ],
      "execution_count": 43,
      "outputs": [
        {
          "output_type": "display_data",
          "data": {
            "image/png": "[encoded data removed]",
            "text/plain": [
              "<Figure size 432x288 with 1 Axes>"
            ]
          },
          "metadata": {
            "tags": [],
            "needs_background": "light"
          }
        }
      ]
    },
    {
      "cell_type": "code",
      "metadata": {
        "id": "5nzvw12lEXc8",
        "colab": {
          "base_uri": "https://localhost:8080/"
        },
        "outputId": "03198306-6afe-4b35-8410-58f740019c1e"
      },
      "source": [
        "affine = mixer['projection']['affine']['doubleMatrix']\n",
        "geotransform = (affine[2], affine[0], affine[1], affine[5], affine[3], affine[4])\n",
        "crs = int(mixer['projection']['crs'][-4:])\n",
        "print(affine)\n",
        "print(geotransform)\n",
        "print(crs)"
      ],
      "execution_count": 44,
      "outputs": [
        {
          "output_type": "stream",
          "text": [
            "[0.0010779783409434259, 0.0, 120.81873447459823, 0.0, -0.0010779783409434259, 14.756445509174556]\n",
            "(120.81873447459823, 0.0010779783409434259, 0.0, 14.756445509174556, 0.0, -0.0010779783409434259)\n",
            "4326\n"
          ],
          "name": "stdout"
        }
      ]
    },
    {
      "cell_type": "code",
      "metadata": {
        "id": "PdAD6NJyFzdP",
        "colab": {
          "base_uri": "https://localhost:8080/"
        },
        "outputId": "a2a19e20-a9a9-4568-accf-0d0cf429c0f0"
      },
      "source": [
        "ny, nx = image.shape\n",
        "dst_ds = gdal.GetDriverByName('GTiff').Create(OUTPUT_IMAGE_TIF, nx, ny, 1, gdal.GDT_Byte)\n",
        "dst_ds.SetGeoTransform(tuple(geotransform))\n",
        "srs = osr.SpatialReference()\n",
        "srs.ImportFromEPSG(crs)\n",
        "dst_ds.SetProjection(srs.ExportToWkt())\n",
        "dst_ds.GetRasterBand(1).WriteArray(image)\n",
        "dst_ds.FlushCache()\n",
        "dst_ds = None\n",
        "\n",
        "print(\"Exorting \" + OUTPUT_IMAGE_TIF + \" completed.\")"
      ],
      "execution_count": 45,
      "outputs": [
        {
          "output_type": "stream",
          "text": [
            "Exorting /content/drive/MyDrive/rohit_Laguna Lake_1972_1972_1621572765/Laguna Lake_1972_1972.tif completed.\n"
          ],
          "name": "stdout"
        }
      ]
    },
    {
      "cell_type": "code",
      "metadata": {
        "id": "L1eCb4yIlZcR"
      },
      "source": [
        "fcc_image = out_image.select(landsat_params['FCCbands'])\n",
        "fcc_prefix = city_name + '_' + str(year_begin) + '_' + str(year_end)+'_fcc'\n",
        "\n",
        "fcc_task = ee.batch.Export.image.toDrive(**{\n",
        "    'image': fcc_image,\n",
        "    'description': fcc_prefix,\n",
        "    'folder': FOLDER_NAME,\n",
        "    'fileNamePrefix': fcc_prefix,\n",
        "    'scale': spatial_resolution,\n",
        "    'region': out_ext\n",
        "})\n",
        "fcc_task.start()"
      ],
      "execution_count": 46,
      "outputs": []
    },
    {
      "cell_type": "code",
      "metadata": {
        "id": "o7jLFSe-nYHz",
        "colab": {
          "base_uri": "https://localhost:8080/"
        },
        "outputId": "90358a24-3200-42cf-ecfd-79c9aab2cd51"
      },
      "source": [
        "while fcc_task.active():\n",
        "  print('Polling for task (id: {}).'.format(fcc_task.id))\n",
        "  time.sleep(20)\n",
        "print('Done with fcc image export.')"
      ],
      "execution_count": 47,
      "outputs": [
        {
          "output_type": "stream",
          "text": [
            "Polling for task (id: IE54PYX6RD4XPZZWKZXTVKCU).\n",
            "Polling for task (id: IE54PYX6RD4XPZZWKZXTVKCU).\n",
            "Done with fcc image export.\n"
          ],
          "name": "stdout"
        }
      ]
    },
    {
      "cell_type": "code",
      "metadata": {
        "id": "Qi_6iYZeHclU",
        "colab": {
          "base_uri": "https://localhost:8080/"
        },
        "outputId": "780866a4-5e86-4bf9-e933-7da0ed6fccbf"
      },
      "source": [
        "time.sleep(20)\n",
        "drive.mount('/content/drive', force_remount=True)"
      ],
      "execution_count": 48,
      "outputs": [
        {
          "output_type": "stream",
          "text": [
            "Mounted at /content/drive\n"
          ],
          "name": "stdout"
        }
      ]
    },
    {
      "cell_type": "code",
      "metadata": {
        "id": "mZbpkBfh2rZ9",
        "colab": {
          "base_uri": "https://localhost:8080/",
          "height": 35
        },
        "outputId": "7ecc4279-4575-4fb2-fc3f-9850b806ff37"
      },
      "source": [
        "lc_dir = MY_DRIVE_PATH + '/' + FOLDER_NAME + '/lc_map'\n",
        "fcc_path = MY_DRIVE_PATH + '/' + FOLDER_NAME + '/'+ fcc_prefix+'.tif'\n",
        "ref_dir = MY_DRIVE_PATH + '/' + FOLDER_NAME + '/ref_map'\n",
        "\n",
        "os.makedirs(lc_dir, exist_ok = True)\n",
        "os.makedirs(ref_dir, exist_ok = True)\n",
        "\n",
        "shutil.move(OUTPUT_IMAGE_TIF, lc_dir)\n",
        "shutil.move(OUTPUT_IMAGE_TFR, lc_dir)\n",
        "shutil.move(fcc_path, ref_dir)"
      ],
      "execution_count": 49,
      "outputs": [
        {
          "output_type": "execute_result",
          "data": {
            "application/vnd.google.colaboratory.intrinsic+json": {
              "type": "string"
            },
            "text/plain": [
              "'/content/drive/MyDrive/rohit_Laguna Lake_1972_1972_1621572765/ref_map/Laguna Lake_1972_1972_fcc.tif'"
            ]
          },
          "metadata": {
            "tags": []
          },
          "execution_count": 49
        }
      ]
    },
    {
      "cell_type": "code",
      "metadata": {
        "id": "e5kyPo5tXKiC",
        "colab": {
          "base_uri": "https://localhost:8080/",
          "height": 52
        },
        "outputId": "2f128a38-3ad2-451f-ec75-c3dfc2c97ccb"
      },
      "source": [
        "drive.mount('/content/drive', force_remount=True)\n",
        "shutil.move(FOLDER_PATH, SHARED_DRIVE_PATH)"
      ],
      "execution_count": 50,
      "outputs": [
        {
          "output_type": "stream",
          "text": [
            "Mounted at /content/drive\n"
          ],
          "name": "stdout"
        },
        {
          "output_type": "execute_result",
          "data": {
            "application/vnd.google.colaboratory.intrinsic+json": {
              "type": "string"
            },
            "text/plain": [
              "'/content/drive/Shareddrives/Miyazaki Lab./Laguna Lake NN/rohit_Laguna Lake_1972_1972_1621572765'"
            ]
          },
          "metadata": {
            "tags": []
          },
          "execution_count": 50
        }
      ]
    },
    {
      "cell_type": "code",
      "metadata": {
        "id": "ANM28tXzpvaL"
      },
      "source": [
        ""
      ],
      "execution_count": 50,
      "outputs": []
    }
  ]
}