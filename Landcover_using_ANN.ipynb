{
  "nbformat": 4,
  "nbformat_minor": 0,
  "metadata": {
    "colab": {
      "name": "Landcover using ANN.ipynb",
      "provenance": [],
      "collapsed_sections": []
    },
    "kernelspec": {
      "name": "python3",
      "display_name": "Python 3"
    },
    "language_info": {
      "name": "python"
    }
  },
  "cells": [
    {
      "cell_type": "code",
      "metadata": {
        "colab": {
          "base_uri": "https://localhost:8080/"
        },
        "id": "VWLo1L6VV6qU",
        "outputId": "c17eeeb5-d1b7-4d12-c418-05770a409dfc"
      },
      "source": [
        "from google.colab import drive\n",
        "drive.mount('/content/drive')"
      ],
      "execution_count": null,
      "outputs": [
        {
          "output_type": "stream",
          "text": [
            "Drive already mounted at /content/drive; to attempt to forcibly remount, call drive.mount(\"/content/drive\", force_remount=True).\n"
          ],
          "name": "stdout"
        }
      ]
    },
    {
      "cell_type": "code",
      "metadata": {
        "colab": {
          "base_uri": "https://localhost:8080/"
        },
        "id": "v0IvUmXNXR_r",
        "outputId": "a446f16f-5875-4c52-ead5-ed031a757893"
      },
      "source": [
        "import ee\n",
        "ee.Authenticate()\n",
        "ee.Initialize()"
      ],
      "execution_count": null,
      "outputs": [
        {
          "output_type": "stream",
          "text": [
            "To authorize access needed by Earth Engine, open the following URL in a web browser and follow the instructions. If the web browser does not start automatically, please manually browse the URL below.\n",
            "\n",
            "    https://accounts.google.com/o/oauth2/auth?client_id=517222506229-vsmmajv00ul0bs7p89v5m89qs8eb9359.apps.googleusercontent.com&scope=https%3A%2F%2Fwww.googleapis.com%2Fauth%2Fearthengine+https%3A%2F%2Fwww.googleapis.com%2Fauth%2Fdevstorage.full_control&redirect_uri=urn%3Aietf%3Awg%3Aoauth%3A2.0%3Aoob&response_type=code&code_challenge=q5DQnx0QbbGpZz4l-eDYv9smZnwL1eh4AP2HKgSLYwc&code_challenge_method=S256\n",
            "\n",
            "The authorization workflow will generate a code, which you should paste in the box below. \n",
            "Enter verification code: 4/1AY0e-g47h3KRBe3uGsVP0HV50Srwt5nrQgAq7_v-dtwdkGELbEOD5A5SO1M\n",
            "\n",
            "Successfully saved authorization token.\n"
          ],
          "name": "stdout"
        }
      ]
    },
    {
      "cell_type": "code",
      "metadata": {
        "id": "GS7jU7nPXugj"
      },
      "source": [
        "import os\n",
        "import glob\n",
        "import shutil\n",
        "import time\n",
        "import json\n",
        "from pprint import pprint\n",
        "\n",
        "import numpy as np\n",
        "import tensorflow as tf\n",
        "import folium\n",
        "\n",
        "import gdal\n",
        "import osr\n",
        "import matplotlib.pyplot as plt"
      ],
      "execution_count": null,
      "outputs": []
    },
    {
      "cell_type": "code",
      "metadata": {
        "id": "E65NwWoEYUhW"
      },
      "source": [
        "def reduce_class_value(feat):\n",
        "  return feat.set('class', ee.Number(feat.get('class')).subtract(1))\n",
        "\n",
        "\n",
        "def cloudMask(img):\n",
        "  return img.updateMask(img.select('BQA').lt(64))\n",
        "  \n",
        "\n",
        "def select_landsat(year):\n",
        "  if (year >= 2013):\n",
        "    return {\n",
        "        'bands': ['B2', 'B3', 'B4', 'B5', 'B6', 'B7'],\n",
        "        'FCCbands': ['B5', 'B4', 'B3'],\n",
        "        'TextureBand': ['B5'],\n",
        "        'bandsClassify': ['B2', 'B3', 'B4', 'B5', 'B6', 'B7','B5_1'],\n",
        "        'bandsGLCM': ['B2', 'B3', 'B4', 'B5', 'B6', 'B7', 'B5_asm', 'B5_contrast', \"B5_corr\", \"B5_var\", \"B5_idm\", \"B5_savg\", \"B5_svar\", \"B5_sent\", \"B5_ent\", \"B5_dvar\", \"B5_dent\", \"B5_imcorr1\", \"B5_imcorr2\",\"B5_maxcorr\", \"B5_diss\",  \"B5_inertia\", \"B5_shade\", \"B5_prom\"],\n",
        "        'Landsat': 'LANDSAT/LC08/C01/T1'\n",
        "    }\n",
        "\n",
        "  if (year >= 1999 and year <= 2002):\n",
        "    return {\n",
        "        'bands': ['B1', 'B2', 'B3', 'B4', 'B5', 'B7'],\n",
        "        'TextureBand': ['B4'],\n",
        "        'bandsClassify': ['B1', 'B2', 'B3', 'B4', 'B5', 'B7','B4_1'],\n",
        "        'bandsGLCM': ['B1', 'B2', 'B3', 'B4', 'B5', 'B7', 'B4_asm', 'B4_contrast',\"B4_corr\", \"B4_var\",\"B4_idm\",\"B4_savg\", \"B4_svar\",\"B4_sent\",\"B4_ent\",\"B4_dvar\",\"B4_dent\",\"B4_imcorr1\", \"B4_imcorr2\",\"B4_maxcorr\",\"B4_diss\",\"B4_inertia\",\"B4_shade\",\"B4_prom\"],\n",
        "        'FCCbands': ['B4', 'B3', 'B2'],\n",
        "        'Landsat': 'LANDSAT/LE07/C01/T1'\n",
        "    }\n",
        "\n",
        "  if (year >= 1984 and year <= 1998 or year >=2003 and year <=2012):\n",
        "    return{\n",
        "        'bands': ['B1', 'B2', 'B3', 'B4', 'B5', 'B7'],\n",
        "        'bandsClassify': ['B1', 'B2', 'B3', 'B4', 'B5', 'B7','B4_1'],\n",
        "        'bandsGLCM': ['B1', 'B2', 'B3', 'B4', 'B5', 'B7', 'B4_asm', 'B4_contrast',\"B4_corr\", \"B4_var\",\"B4_idm\",\"B4_savg\", \"B4_svar\",\"B4_sent\",\"B4_ent\",\"B4_dvar\",\"B4_dent\",\"B4_imcorr1\", \"B4_imcorr2\",\"B4_maxcorr\",\"B4_diss\",\"B4_inertia\",\"B4_shade\",\"B4_prom\"],\n",
        "        'FCCbands': ['B4', 'B3', 'B2'],\n",
        "        'TextureBand': ['B4'],\n",
        "        'Landsat': 'LANDSAT/LT05/C01/T1'\n",
        "    }\n",
        "  \n",
        "  if (year == 1983):\n",
        "    return{\n",
        "        'bands': ['B1', 'B2', 'B3', 'B4', 'B5', 'B7'],\n",
        "        'bandsClassify': ['B1', 'B2', 'B3', 'B4', 'B5', 'B7','B4_1'],\n",
        "        'bandsGLCM': ['B1', 'B2', 'B3', 'B4', 'B5', 'B7', 'B4_asm', 'B4_contrast',\"B4_corr\", \"B4_var\",\"B4_idm\",\"B4_savg\", \"B4_svar\",\"B4_sent\",\"B4_ent\",\"B4_dvar\",\"B4_dent\",\"B4_imcorr1\", \"B4_imcorr2\",\"B4_maxcorr\",\"B4_diss\",\"B4_inertia\",\"B4_shade\",\"B4_prom\"],\n",
        "        'FCCbands': ['B4', 'B3', 'B2'],\n",
        "        'TextureBand': ['B4'],\n",
        "        'Landsat': 'LANDSAT/LT04/C01/T1'\n",
        "    }\n",
        "  \n",
        "  if (year >= 1979 and year <= 1982):\n",
        "    return {\n",
        "        'bands': ['B4_median', 'B5_median', 'B6_median','B7_median','B6_median_1'],\n",
        "        'bandsClassify': ['B4_median', 'B5_median', 'B6_median', 'B7_median'],\n",
        "        'FCCbands': ['B6_median', 'B5_median', 'B4_median'],\n",
        "        'TextureBand': ['B6_median'],\n",
        "        'Landsat': 'LANDSAT/LM03/C01/T1'\n",
        "    }\n",
        "\n",
        "  if (year >= 1975 and year <= 1978):\n",
        "    return {\n",
        "        'bands': ['B4_median', 'B5_median', 'B6_median','B7_median','B6_median_1'],\n",
        "        'bandsClassify': ['B4_median', 'B5_median', 'B6_median', 'B7_median'],\n",
        "        'FCCbands': ['B6_median', 'B5_median', 'B4_median'],\n",
        "        'TextureBand': ['B6_median'],\n",
        "        'Landsat': 'LANDSAT/LM02/C01/T2'\n",
        "    }\n",
        "\n",
        "  if (year >= 1972 and year <= 1974):\n",
        "    return {\n",
        "        'bands': ['B4_median', 'B5_median', 'B6_median','B7_median','B6_median_1'],\n",
        "        'bandsClassify': ['B4_median', 'B5_median', 'B6_median', 'B7_median'],\n",
        "        'FCCbands': ['B6_median', 'B5_median', 'B4_median'],\n",
        "        'TextureBand': ['B6_median'],\n",
        "        'Landsat': 'LANDSAT/LM01/C01/T2'\n",
        "    }"
      ],
      "execution_count": null,
      "outputs": []
    },
    {
      "cell_type": "code",
      "metadata": {
        "id": "7FtYc9uPaFFr"
      },
      "source": [
        "def landsat_product(landsat_id):\n",
        "  if(landsat_id == 'LANDSAT/LM01/C01/T2' or landsat_id == 'LANDSAT/LM02/C01/T2' or landsat_id == 'LANDSAT/LM03/C01/T1'):\n",
        "    image = ee.ImageCollection(landsat_id).filterDate(str(gtYearBegin) + '-01-01',str(gtYearEnd) + '-12-31').filter(ROI[roi]['doyFilterLandsat']).filterBounds(out_ext).filterMetadata('CLOUD_COVER_LAND', 'less_than', 20).map(cloudMask).reduce(ee.Reducer.median())\n",
        "    return {\n",
        "      'image': image,\n",
        "      'image_int': image.toByte()       \n",
        "    }\n",
        "  else:\n",
        "    image_col = ee.ImageCollection(landsat_id).filterDate(str(gtYearBegin) + '-01-01',str(gtYearEnd) + '-12-31').filter(ROI[roi]['doyFilterLandsat']).filterBounds(out_ext)\n",
        "    return {\n",
        "      'region': image_col.geometry().bounds().getInfo(),\n",
        "      'image': ee.Algorithms.Landsat.simpleComposite(image_col, 50, cloud, 40, True),\n",
        "      'image_int': ee.Algorithms.Landsat.simpleComposite(image_col, 50, cloud, 40, False)\n",
        "  }"
      ],
      "execution_count": null,
      "outputs": []
    },
    {
      "cell_type": "code",
      "metadata": {
        "id": "qM6ZiXv9aHHS"
      },
      "source": [
        "def add_indices(params, product):\n",
        "  \n",
        "  if(params['Landsat']=='LANDSAT/LC08/C01/T1'):\n",
        "    swir  = product['image'].select('B6')\n",
        "    nir   = product['image'].select('B5')\n",
        "    red   = product['image'].select('B4')\n",
        "    green = product['image'].select('B3')\n",
        "\n",
        "    ndvi  = nir.subtract(red).divide(nir.add(red))\n",
        "    ndbi  = swir.subtract(nir).divide(swir.add(nir))\n",
        "    bi    = ndbi.subtract(ndvi)\n",
        "    ndwi  = green.subtract(swir).divide(green.add(swir))\n",
        "\n",
        "    product['image'] = product['image'].addBands([ndvi, ndbi, bi, ndwi])\n",
        "    product['image'] = product['image'].rename('B1','B2','B3','B4','B5','B6','B7','B8','B9','B10','B11','ndvi','ndbi','bi','ndwi')\n",
        "\n",
        "    params['bandsClassify'].extend(['ndvi', 'ndbi', 'bi', 'ndwi'])\n",
        "\n",
        "\n",
        "  if(params['Landsat'] == 'LANDSAT/LE07/C01/T1'):\n",
        "    swir  = product['image'].select('B5')\n",
        "    nir   = product['image'].select('B4')\n",
        "    red   = product['image'].select('B3')\n",
        "    green = product['image'].select('B2')\n",
        "\n",
        "    ndvi  = nir.subtract(red).divide(nir.add(red))\n",
        "    ndbi  = swir.subtract(nir).divide(swir.add(nir))\n",
        "    bi    = ndbi.subtract(ndvi)\n",
        "    ndwi  = green.subtract(swir).divide(green.add(swir))\n",
        "\n",
        "    product['image'] = product['image'].addBands([ndvi, ndbi, bi, ndwi])\n",
        "    product['image'] = product['image'].rename('B1','B2','B3','B4','B5','B6_VCID_1','B6_VCID_2','B7','B8','ndvi','ndbi','bi','ndwi')\n",
        "\n",
        "    params['bandsClassify'].extend(['ndvi', 'ndbi', 'bi', 'ndwi'])\n",
        "    \n",
        "\n",
        "  if(params['Landsat'] == 'LANDSAT/LM04/C01/T1' or params['Landsat'] == 'LANDSAT/LT05/C01/T1'):\n",
        "    swir  = product['image'].select('B5')\n",
        "    nir   = product['image'].select('B4')\n",
        "    red   = product['image'].select('B3')\n",
        "    green = product['image'].select('B2')\n",
        "\n",
        "    ndvi  = nir.subtract(red).divide(nir.add(red))\n",
        "    ndbi  = swir.subtract(nir).divide(swir.add(nir))\n",
        "    bi    = ndbi.subtract(ndvi)\n",
        "    ndwi  = green.subtract(swir).divide(green.add(swir))\n",
        "\n",
        "    product['image'] = product['image'].addBands([ndvi, ndbi, bi, ndwi])\n",
        "    product['image'] = product['image'].rename('B1','B2','B3','B4','B5','B6','B7','ndvi','ndbi','bi','ndwi')\n",
        "\n",
        "    params['bandsClassify'].extend(['ndvi', 'ndbi', 'bi', 'ndwi'])\n",
        "\n",
        "\n",
        "  if(params['Landsat'] == 'LANDSAT/LM01/C01/T2' or params['Landsat'] == 'LANDSAT/LM02/C01/T2' or params['Landsat'] == 'LANDSAT/LM03/C01/T1'):\n",
        "    swir = product['image'].select('B6_median')\n",
        "    nir = product['image'].select('B6_median')\n",
        "    red = product['image'].select('B5_median')\n",
        "\n",
        "    ndvi = nir.subtract(red).divide(nir.add(red))\n",
        "\n",
        "    product['image'] = product['image'].addBands(ndvi)\n",
        "    product['image'] = product['image'].rename('B4_median','B5_median','B6_median','B7_median','BQA_median','ndvi')\n",
        "\n",
        "    params['bandsClassify'].append('ndvi')\n",
        "  "
      ],
      "execution_count": null,
      "outputs": []
    },
    {
      "cell_type": "code",
      "metadata": {
        "id": "jFiq7qbnhv_y"
      },
      "source": [
        "ROI = [\n",
        "       {'cityName': 'Laguna Lake', 'LatMax': 14.5758304600000006, 'LatMin': 13.9641799899999999, 'LonMax': 121.6324386600000054, 'LonMin': 121.0053329499999961, 'yearBegin':2019, 'yearEnd':2019, 'doyFilter':ee.Filter.And(ee.Filter.greaterThanOrEquals('doy',  1), ee.Filter.lessThanOrEquals('doy',  366)), 'doyFilterLandsat': ee.Filter.dayOfYear(1,366)},\n",
        "]"
      ],
      "execution_count": null,
      "outputs": []
    },
    {
      "cell_type": "code",
      "metadata": {
        "id": "tHljwqrdhFqT"
      },
      "source": [
        "ts = time.time()\n",
        "timestamp = int(ts)\n",
        "\n",
        "roi= ''\n",
        "kernel = ee.Kernel.gaussian(1)\n",
        "out_ext = ''\n",
        "\n",
        "cloud = 30\n",
        "spatial_resolution = 120\n",
        "n_sample = 10000\n",
        "distance = 370000\n",
        "\n",
        "base_distance = 5000\n",
        "patch_size = 256\n",
        "buffer_distance = base_distance * (round((spatial_resolution * 0.5 * patch_size)/base_distance) +1)"
      ],
      "execution_count": null,
      "outputs": []
    },
    {
      "cell_type": "code",
      "metadata": {
        "id": "v9N5HfhhYZid"
      },
      "source": [
        "ref_point = ee.FeatureCollection('users/rhtkhati/gt-pt-2500')\n",
        "ref_point = ref_point.map(reduce_class_value)"
      ],
      "execution_count": null,
      "outputs": []
    },
    {
      "cell_type": "code",
      "metadata": {
        "id": "Yd4ONLeBY09v"
      },
      "source": [
        "for roi in range(0, len(ROI), 1):\n",
        "  city_name = ROI[roi]['cityName']\n",
        "  year_begin = ROI[roi]['yearBegin']\n",
        "  year_end = ROI[roi]['yearEnd']\n",
        "\n",
        "  USER_NAME = 'rohit'\n",
        "  IMAGE_FILE_PREFIX = city_name + '_' + str(year_begin) + '_' + str(year_end)\n",
        "  FOLDER_NAME = USER_NAME + '_' + IMAGE_FILE_PREFIX\n",
        "\n",
        "  for year in range(year_begin, year_end+1, 1):\n",
        "    nSampleClass = []\n",
        "    out_ext = ee.Geometry.Rectangle([ ROI[roi]['LonMin'], ROI[roi]['LatMin'], ROI[roi]['LonMax'], ROI[roi]['LatMax']])\n",
        "    out_ext_center = out_ext.centroid()\n",
        "\n",
        "    out_ext_buffer = out_ext.buffer(buffer_distance).bounds()\n",
        "\n",
        "    center_lat = out_ext_center.getInfo()['coordinates'][1]\n",
        "    center_lon = out_ext_center.getInfo()['coordinates'][0]\n",
        "\n",
        "    landsat_params = select_landsat(year_begin)\n",
        "\n",
        "    gtYearBegin = year_begin\n",
        "    gtYearEnd = year_end\n",
        "\n",
        "\n",
        "    product = landsat_product(landsat_params['Landsat'])\n",
        "    \n",
        "    LABEL_DATA = ref_point.filter(ee.Filter.And(ee.Filter.greaterThanOrEquals('year', gtYearBegin), ee.Filter.lessThanOrEquals('year', gtYearEnd), ROI[roi]['doyFilter']))\n",
        "    LABEL_DATA = LABEL_DATA.filterBounds(product['region'])\n",
        "\n",
        "    add_indices(landsat_params, product)\n",
        "\n",
        "    gt_image = product['image']\n",
        "    gt_image_int = product['image_int']\n",
        "    gt_image_texture = gt_image.addBands(gt_image_int.select(landsat_params['TextureBand']).entropy(kernel))\n",
        "\n",
        "    out_image = product['image'].clip(out_ext_buffer)\n",
        "    out_image_int = product['image_int'].clip(out_ext_buffer)\n",
        "    out_image_texture = out_image.addBands(out_image_int.select(landsat_params['TextureBand']).entropy(kernel))"
      ],
      "execution_count": null,
      "outputs": []
    },
    {
      "cell_type": "code",
      "metadata": {
        "colab": {
          "base_uri": "https://localhost:8080/",
          "height": 904
        },
        "id": "Y2hSxc6Zizcy",
        "outputId": "70bb094b-85bc-4eb0-8a95-a08119b7c0f9"
      },
      "source": [
        "mapid = out_image_texture.getMapId({'bands': ['B5', 'B4', 'B3'], 'min': 0, 'max': 0.3})\n",
        "# mapid = out_image_texture.getMapId({'bands': ['B4_median', 'B5_median', 'B6_median'], 'min': 0, 'max': 0.3})\n",
        "map = folium.Map(location=[center_lat, center_lon]) \n",
        "folium.TileLayer(\n",
        "    tiles=mapid['tile_fetcher'].url_format,\n",
        "    attr='Map Data &copy; <a href=\"https://earthengine.google.com/\">Google Earth Engine</a>',\n",
        "    overlay=True,\n",
        "    name='Out Image Texture',\n",
        "  ).add_to(map)\n",
        "map.add_child(folium.LayerControl())\n",
        "map"
      ],
      "execution_count": null,
      "outputs": [
        {
          "output_type": "execute_result",
          "data": {
            "text/html": [
              "<div style=\"width:100%;\"><div style=\"position:relative;width:100%;height:0;padding-bottom:60%;\"><span style=\"color:#565656\">Make this Notebook Trusted to load map: File -> Trust Notebook</span><iframe src=\"about:blank\" style=\"position:absolute;width:100%;height:100%;left:0;top:0;border:none !important;\" data-html=%3C%21DOCTYPE%20html%3E%0A%3Chead%3E%20%20%20%20%0A%20%20%20%20%3Cmeta%20http-equiv%3D%22content-type%22%20content%3D%22text/html%3B%20charset%3DUTF-8%22%20/%3E%0A%20%20%20%20%3Cscript%3EL_PREFER_CANVAS%3Dfalse%3B%20L_NO_TOUCH%3Dfalse%3B%20L_DISABLE_3D%3Dfalse%3B%3C/script%3E%0A%20%20%20%20%3Cscript%20src%3D%22https%3A//cdn.jsdelivr.net/npm/leaflet%401.4.0/dist/leaflet.js%22%3E%3C/script%3E%0A%20%20%20%20%3Cscript%20src%3D%22https%3A//code.jquery.com/jquery-1.12.4.min.js%22%3E%3C/script%3E%0A%20%20%20%20%3Cscript%20src%3D%22https%3A//maxcdn.bootstrapcdn.com/bootstrap/3.2.0/js/bootstrap.min.js%22%3E%3C/script%3E%0A%20%20%20%20%3Cscript%20src%3D%22https%3A//cdnjs.cloudflare.com/ajax/libs/Leaflet.awesome-markers/2.0.2/leaflet.awesome-markers.js%22%3E%3C/script%3E%0A%20%20%20%20%3Clink%20rel%3D%22stylesheet%22%20href%3D%22https%3A//cdn.jsdelivr.net/npm/leaflet%401.4.0/dist/leaflet.css%22/%3E%0A%20%20%20%20%3Clink%20rel%3D%22stylesheet%22%20href%3D%22https%3A//maxcdn.bootstrapcdn.com/bootstrap/3.2.0/css/bootstrap.min.css%22/%3E%0A%20%20%20%20%3Clink%20rel%3D%22stylesheet%22%20href%3D%22https%3A//maxcdn.bootstrapcdn.com/bootstrap/3.2.0/css/bootstrap-theme.min.css%22/%3E%0A%20%20%20%20%3Clink%20rel%3D%22stylesheet%22%20href%3D%22https%3A//maxcdn.bootstrapcdn.com/font-awesome/4.6.3/css/font-awesome.min.css%22/%3E%0A%20%20%20%20%3Clink%20rel%3D%22stylesheet%22%20href%3D%22https%3A//cdnjs.cloudflare.com/ajax/libs/Leaflet.awesome-markers/2.0.2/leaflet.awesome-markers.css%22/%3E%0A%20%20%20%20%3Clink%20rel%3D%22stylesheet%22%20href%3D%22https%3A//rawcdn.githack.com/python-visualization/folium/master/folium/templates/leaflet.awesome.rotate.css%22/%3E%0A%20%20%20%20%3Cstyle%3Ehtml%2C%20body%20%7Bwidth%3A%20100%25%3Bheight%3A%20100%25%3Bmargin%3A%200%3Bpadding%3A%200%3B%7D%3C/style%3E%0A%20%20%20%20%3Cstyle%3E%23map%20%7Bposition%3Aabsolute%3Btop%3A0%3Bbottom%3A0%3Bright%3A0%3Bleft%3A0%3B%7D%3C/style%3E%0A%20%20%20%20%0A%20%20%20%20%3Cmeta%20name%3D%22viewport%22%20content%3D%22width%3Ddevice-width%2C%0A%20%20%20%20%20%20%20%20initial-scale%3D1.0%2C%20maximum-scale%3D1.0%2C%20user-scalable%3Dno%22%20/%3E%0A%20%20%20%20%3Cstyle%3E%23map_91c78be1dd464f91a1ee726808cd8216%20%7B%0A%20%20%20%20%20%20%20%20position%3A%20relative%3B%0A%20%20%20%20%20%20%20%20width%3A%20100.0%25%3B%0A%20%20%20%20%20%20%20%20height%3A%20100.0%25%3B%0A%20%20%20%20%20%20%20%20left%3A%200.0%25%3B%0A%20%20%20%20%20%20%20%20top%3A%200.0%25%3B%0A%20%20%20%20%20%20%20%20%7D%0A%20%20%20%20%3C/style%3E%0A%3C/head%3E%0A%3Cbody%3E%20%20%20%20%0A%20%20%20%20%0A%20%20%20%20%3Cdiv%20class%3D%22folium-map%22%20id%3D%22map_91c78be1dd464f91a1ee726808cd8216%22%20%3E%3C/div%3E%0A%3C/body%3E%0A%3Cscript%3E%20%20%20%20%0A%20%20%20%20%0A%20%20%20%20%0A%20%20%20%20%20%20%20%20var%20bounds%20%3D%20null%3B%0A%20%20%20%20%0A%0A%20%20%20%20var%20map_91c78be1dd464f91a1ee726808cd8216%20%3D%20L.map%28%0A%20%20%20%20%20%20%20%20%27map_91c78be1dd464f91a1ee726808cd8216%27%2C%20%7B%0A%20%20%20%20%20%20%20%20center%3A%20%5B14.270071776593378%2C%20121.31888580500035%5D%2C%0A%20%20%20%20%20%20%20%20zoom%3A%2010%2C%0A%20%20%20%20%20%20%20%20maxBounds%3A%20bounds%2C%0A%20%20%20%20%20%20%20%20layers%3A%20%5B%5D%2C%0A%20%20%20%20%20%20%20%20worldCopyJump%3A%20false%2C%0A%20%20%20%20%20%20%20%20crs%3A%20L.CRS.EPSG3857%2C%0A%20%20%20%20%20%20%20%20zoomControl%3A%20true%2C%0A%20%20%20%20%20%20%20%20%7D%29%3B%0A%0A%0A%20%20%20%20%0A%20%20%20%20var%20tile_layer_65c637f179534fd0b944d04370489316%20%3D%20L.tileLayer%28%0A%20%20%20%20%20%20%20%20%27https%3A//%7Bs%7D.tile.openstreetmap.org/%7Bz%7D/%7Bx%7D/%7By%7D.png%27%2C%0A%20%20%20%20%20%20%20%20%7B%0A%20%20%20%20%20%20%20%20%22attribution%22%3A%20null%2C%0A%20%20%20%20%20%20%20%20%22detectRetina%22%3A%20false%2C%0A%20%20%20%20%20%20%20%20%22maxNativeZoom%22%3A%2018%2C%0A%20%20%20%20%20%20%20%20%22maxZoom%22%3A%2018%2C%0A%20%20%20%20%20%20%20%20%22minZoom%22%3A%200%2C%0A%20%20%20%20%20%20%20%20%22noWrap%22%3A%20false%2C%0A%20%20%20%20%20%20%20%20%22opacity%22%3A%201%2C%0A%20%20%20%20%20%20%20%20%22subdomains%22%3A%20%22abc%22%2C%0A%20%20%20%20%20%20%20%20%22tms%22%3A%20false%0A%7D%29.addTo%28map_91c78be1dd464f91a1ee726808cd8216%29%3B%0A%20%20%20%20var%20tile_layer_6298622bbebb48908fa6cc7cfb0f2873%20%3D%20L.tileLayer%28%0A%20%20%20%20%20%20%20%20%27https%3A//earthengine.googleapis.com/v1alpha/projects/earthengine-legacy/maps/a9f7b29b93f2b9dcff0013f5b238d9e5-b9707f02f8879337fa1f50d1dd56e724/tiles/%7Bz%7D/%7Bx%7D/%7By%7D%27%2C%0A%20%20%20%20%20%20%20%20%7B%0A%20%20%20%20%20%20%20%20%22attribution%22%3A%20%22Map%20Data%20%26copy%3B%20%3Ca%20href%3D%5C%22https%3A//earthengine.google.com/%5C%22%3EGoogle%20Earth%20Engine%3C/a%3E%22%2C%0A%20%20%20%20%20%20%20%20%22detectRetina%22%3A%20false%2C%0A%20%20%20%20%20%20%20%20%22maxNativeZoom%22%3A%2018%2C%0A%20%20%20%20%20%20%20%20%22maxZoom%22%3A%2018%2C%0A%20%20%20%20%20%20%20%20%22minZoom%22%3A%200%2C%0A%20%20%20%20%20%20%20%20%22noWrap%22%3A%20false%2C%0A%20%20%20%20%20%20%20%20%22opacity%22%3A%201%2C%0A%20%20%20%20%20%20%20%20%22subdomains%22%3A%20%22abc%22%2C%0A%20%20%20%20%20%20%20%20%22tms%22%3A%20false%0A%7D%29.addTo%28map_91c78be1dd464f91a1ee726808cd8216%29%3B%0A%20%20%20%20%0A%20%20%20%20%20%20%20%20%20%20%20%20var%20layer_control_bc6996a7c7dc48abaf57caa3c016f55b%20%3D%20%7B%0A%20%20%20%20%20%20%20%20%20%20%20%20%20%20%20%20base_layers%20%3A%20%7B%20%22openstreetmap%22%20%3A%20tile_layer_65c637f179534fd0b944d04370489316%2C%20%7D%2C%0A%20%20%20%20%20%20%20%20%20%20%20%20%20%20%20%20overlays%20%3A%20%7B%20%22Out%20Image%20Texture%22%20%3A%20tile_layer_6298622bbebb48908fa6cc7cfb0f2873%2C%20%7D%0A%20%20%20%20%20%20%20%20%20%20%20%20%20%20%20%20%7D%3B%0A%20%20%20%20%20%20%20%20%20%20%20%20L.control.layers%28%0A%20%20%20%20%20%20%20%20%20%20%20%20%20%20%20%20layer_control_bc6996a7c7dc48abaf57caa3c016f55b.base_layers%2C%0A%20%20%20%20%20%20%20%20%20%20%20%20%20%20%20%20layer_control_bc6996a7c7dc48abaf57caa3c016f55b.overlays%2C%0A%20%20%20%20%20%20%20%20%20%20%20%20%20%20%20%20%7Bposition%3A%20%27topright%27%2C%0A%20%20%20%20%20%20%20%20%20%20%20%20%20%20%20%20%20collapsed%3A%20true%2C%0A%20%20%20%20%20%20%20%20%20%20%20%20%20%20%20%20%20autoZIndex%3A%20true%0A%20%20%20%20%20%20%20%20%20%20%20%20%20%20%20%20%7D%29.addTo%28map_91c78be1dd464f91a1ee726808cd8216%29%3B%0A%20%20%20%20%20%20%20%20%20%20%20%20%0A%20%20%20%20%20%20%20%20%0A%3C/script%3E onload=\"this.contentDocument.open();this.contentDocument.write(    decodeURIComponent(this.getAttribute('data-html')));this.contentDocument.close();\" allowfullscreen webkitallowfullscreen mozallowfullscreen></iframe></div></div>"
            ],
            "text/plain": [
              "<folium.folium.Map at 0x7f3f8c493810>"
            ]
          },
          "metadata": {
            "tags": []
          },
          "execution_count": 11
        }
      ]
    },
    {
      "cell_type": "code",
      "metadata": {
        "id": "keGx5ESeZ4cS"
      },
      "source": [
        "BANDS = landsat_params['bandsClassify']\n",
        "LABEL = 'class'\n",
        "N_CLASSES = 4\n",
        "\n",
        "FEATURE_NAMES = list(BANDS)\n",
        "FEATURE_NAMES.append(LABEL)"
      ],
      "execution_count": null,
      "outputs": []
    },
    {
      "cell_type": "code",
      "metadata": {
        "id": "xKrSUu-xmy4K"
      },
      "source": [
        "MY_DRIVE_PATH = '/content/drive/MyDrive'\n",
        "FOLDER_PATH = MY_DRIVE_PATH + '/' + FOLDER_NAME\n",
        "SHARED_DRIVE_PATH = '/content/drive/Shareddrives/Miyazaki Lab./Laguna Lake NN/'\n",
        "\n",
        "TRAIN_FILE_PREFIX = 'Training_' + str(timestamp)\n",
        "TEST_FILE_PREFIX = 'Testing_' + str(timestamp)\n",
        "\n",
        "file_extension = '.tfrecord.gz'\n",
        "TRAIN_FILE_PATH =  MY_DRIVE_PATH + '/' + FOLDER_NAME + '/sample/' +TRAIN_FILE_PREFIX + file_extension\n",
        "TEST_FILE_PATH = MY_DRIVE_PATH + '/' + FOLDER_NAME + '/sample/' + TEST_FILE_PREFIX + file_extension\n",
        "\n",
        "OUTPUT_IMAGE_TFR = MY_DRIVE_PATH + '/' + FOLDER_NAME + '/'+ IMAGE_FILE_PREFIX+'.TFRecord'\n",
        "OUTPUT_IMAGE_TIF = MY_DRIVE_PATH + '/' + FOLDER_NAME + '/'+ IMAGE_FILE_PREFIX+'.tif'\n",
        "\n",
        "EXPORT_REGION = out_ext\n",
        "OUTPUT_ASSET_ID = 'users/' + USER_NAME + '/demo'"
      ],
      "execution_count": null,
      "outputs": []
    },
    {
      "cell_type": "code",
      "metadata": {
        "id": "8Tl09zONchIz"
      },
      "source": [
        "sample = gt_image_texture.sampleRegions(\n",
        "    collection = LABEL_DATA,\n",
        "    properties = [LABEL],\n",
        "    scale = spatial_resolution,\n",
        ").randomColumn()"
      ],
      "execution_count": null,
      "outputs": []
    },
    {
      "cell_type": "code",
      "metadata": {
        "colab": {
          "base_uri": "https://localhost:8080/"
        },
        "id": "UYhDS9TPdghj",
        "outputId": "90d8ce6e-f11e-4df3-bfbf-ad5b9baa91b4"
      },
      "source": [
        "training = sample.filter(ee.Filter.lt('random', 0.8))\n",
        "testing = sample.filter(ee.Filter.gte('random', 0.8))\n",
        "\n",
        "pprint({'training': training.first().getInfo()})\n",
        "pprint({'testing': testing.first().getInfo()})"
      ],
      "execution_count": null,
      "outputs": [
        {
          "output_type": "stream",
          "text": [
            "{'training': {'geometry': None,\n",
            "              'id': '0001000000000003be85_0',\n",
            "              'properties': {'B1': 0.14806249737739563,\n",
            "                             'B10': 299.3385925292969,\n",
            "                             'B11': 295.4011535644531,\n",
            "                             'B2': 0.13019590079784393,\n",
            "                             'B3': 0.11521103978157043,\n",
            "                             'B4': 0.10548434406518936,\n",
            "                             'B5': 0.1406380534172058,\n",
            "                             'B5_1': 2.043191909790039,\n",
            "                             'B6': 0.08737176656723022,\n",
            "                             'B7': 0.05263849347829819,\n",
            "                             'B8': 0.11232209950685501,\n",
            "                             'B9': 0.0017208431381732225,\n",
            "                             'bi': -0.3764441907405853,\n",
            "                             'class': 0,\n",
            "                             'ndbi': -0.2336139976978302,\n",
            "                             'ndvi': 0.14283019304275513,\n",
            "                             'ndwi': 0.13742169737815857,\n",
            "                             'random': 0.11563592114502419},\n",
            "              'type': 'Feature'}}\n",
            "{'testing': {'geometry': None,\n",
            "             'id': '0001000000000003be85_0',\n",
            "             'properties': {'B1': 0.14806249737739563,\n",
            "                            'B10': 299.3385925292969,\n",
            "                            'B11': 295.4011535644531,\n",
            "                            'B2': 0.13019590079784393,\n",
            "                            'B3': 0.11521103978157043,\n",
            "                            'B4': 0.10548434406518936,\n",
            "                            'B5': 0.1406380534172058,\n",
            "                            'B5_1': 2.043191909790039,\n",
            "                            'B6': 0.08737176656723022,\n",
            "                            'B7': 0.05263849347829819,\n",
            "                            'B8': 0.11232209950685501,\n",
            "                            'B9': 0.0017208431381732225,\n",
            "                            'bi': -0.3764441907405853,\n",
            "                            'class': 0,\n",
            "                            'ndbi': -0.2336139976978302,\n",
            "                            'ndvi': 0.14283019304275513,\n",
            "                            'ndwi': 0.13742169737815857,\n",
            "                            'random': 0.9601843640223744},\n",
            "             'type': 'Feature'}}\n"
          ],
          "name": "stdout"
        }
      ]
    },
    {
      "cell_type": "code",
      "metadata": {
        "id": "ZAYHijezmYjl"
      },
      "source": [
        "training_task = ee.batch.Export.table.toDrive(\n",
        "  collection=training,\n",
        "  description='Training Export',\n",
        "  folder=FOLDER_NAME,\n",
        "  fileNamePrefix=TRAIN_FILE_PREFIX,\n",
        "  fileFormat='TFRecord',\n",
        "  selectors=FEATURE_NAMES)\n",
        "\n",
        "testing_task = ee.batch.Export.table.toDrive(\n",
        "  collection=testing,\n",
        "  description='Testing Export',\n",
        "  folder=FOLDER_NAME,\n",
        "  fileNamePrefix=TEST_FILE_PREFIX,\n",
        "  fileFormat='TFRecord',\n",
        "  selectors=FEATURE_NAMES)"
      ],
      "execution_count": null,
      "outputs": []
    },
    {
      "cell_type": "code",
      "metadata": {
        "id": "BWURzdwvm_kC"
      },
      "source": [
        "training_task.start()\n",
        "testing_task.start()"
      ],
      "execution_count": null,
      "outputs": []
    },
    {
      "cell_type": "code",
      "metadata": {
        "colab": {
          "base_uri": "https://localhost:8080/"
        },
        "id": "bgVIojLinCGS",
        "outputId": "d66a2ed7-a365-4264-9997-3d563717bfd3"
      },
      "source": [
        "while training_task.active():\n",
        "  print('Polling for task (id: {}).'.format(training_task.id))\n",
        "  time.sleep(20)\n",
        "print('Done with training export.')\n",
        "\n",
        "while testing_task.active():\n",
        "  print('Polling for task (id: {}).'.format(testing_task.id))\n",
        "  time.sleep(20)\n",
        "print('Done with testing export.')"
      ],
      "execution_count": null,
      "outputs": [
        {
          "output_type": "stream",
          "text": [
            "Polling for task (id: OHHTIXPRYYGDI2FR4WT3FUNX).\n",
            "Polling for task (id: OHHTIXPRYYGDI2FR4WT3FUNX).\n",
            "Polling for task (id: OHHTIXPRYYGDI2FR4WT3FUNX).\n",
            "Polling for task (id: OHHTIXPRYYGDI2FR4WT3FUNX).\n",
            "Done with training export.\n",
            "Done with testing export.\n"
          ],
          "name": "stdout"
        }
      ]
    },
    {
      "cell_type": "code",
      "metadata": {
        "colab": {
          "base_uri": "https://localhost:8080/"
        },
        "id": "sgG86HDPuU9p",
        "outputId": "736db57d-2dfa-4172-9444-dc0d520cdd07"
      },
      "source": [
        "time.sleep(5)\n",
        "drive.mount('/content/drive', force_remount=True)"
      ],
      "execution_count": null,
      "outputs": [
        {
          "output_type": "stream",
          "text": [
            "Mounted at /content/drive\n"
          ],
          "name": "stdout"
        }
      ]
    },
    {
      "cell_type": "code",
      "metadata": {
        "id": "mZnC6g5twMm5"
      },
      "source": [
        "src_dir = MY_DRIVE_PATH + '/' + FOLDER_NAME\n",
        "src_files = os.listdir(src_dir)\n",
        "\n",
        "dest_dir = os.path.join(src_dir, 'sample')\n",
        "\n",
        "os.makedirs(dest_dir, exist_ok = True)\n",
        "\n",
        "for file in src_files:\n",
        "    shutil.move(os.path.join(src_dir, file), dest_dir)"
      ],
      "execution_count": null,
      "outputs": []
    },
    {
      "cell_type": "code",
      "metadata": {
        "colab": {
          "base_uri": "https://localhost:8080/"
        },
        "id": "EsS6YBcjnSJ7",
        "outputId": "f98e8365-ae7f-4e1f-bdf5-58ce05f87985"
      },
      "source": [
        "print('Found training file.' if tf.io.gfile.exists(TRAIN_FILE_PATH) \n",
        "    else 'No training file found.')\n",
        "\n",
        "print('Found testing file.' if tf.io.gfile.exists(TEST_FILE_PATH) \n",
        "    else 'No testing file found.')"
      ],
      "execution_count": null,
      "outputs": [
        {
          "output_type": "stream",
          "text": [
            "Found training file.\n",
            "Found testing file.\n"
          ],
          "name": "stdout"
        }
      ]
    },
    {
      "cell_type": "code",
      "metadata": {
        "colab": {
          "base_uri": "https://localhost:8080/"
        },
        "id": "AN-cQlaS0yEP",
        "outputId": "d0b380cf-8106-4583-ed5f-be8827a172da"
      },
      "source": [
        "train_dataset = tf.data.TFRecordDataset(TRAIN_FILE_PATH, compression_type='GZIP')\n",
        "test_dataset = tf.data.TFRecordDataset(TEST_FILE_PATH, compression_type='GZIP')\n",
        "\n",
        "print(iter(train_dataset).next())\n",
        "print(iter(test_dataset).next())"
      ],
      "execution_count": null,
      "outputs": [
        {
          "output_type": "stream",
          "text": [
            "tf.Tensor(b'\\n\\xcb\\x01\\n\\x0e\\n\\x02B2\\x12\\x08\\x12\\x06\\n\\x04\\xfdh\\xfc=\\n\\x0e\\n\\x02B3\\x12\\x08\\x12\\x06\\n\\x048C\\xe6=\\n\\x0e\\n\\x02B4\\x12\\x08\\x12\\x06\\n\\x04J\\xbd\\xd4=\\n\\x0e\\n\\x02B5\\x12\\x08\\x12\\x06\\n\\x04\\xbc\\t\\x97>\\n\\x0e\\n\\x02B6\\x12\\x08\\x12\\x06\\n\\x04fyA>\\n\\x0e\\n\\x02B7\\x12\\x08\\x12\\x06\\n\\x04:\\xe8\\xeb=\\n\\x10\\n\\x04B5_1\\x12\\x08\\x12\\x06\\n\\x04T\\x9f\\x0c@\\n\\x10\\n\\x04ndvi\\x12\\x08\\x12\\x06\\n\\x04\\x02S\\xf5>\\n\\x10\\n\\x04ndbi\\x12\\x08\\x12\\x06\\n\\x04\\xeai`\\xbe\\n\\x0e\\n\\x02bi\\x12\\x08\\x12\\x06\\n\\x04\\xfc\\xc32\\xbf\\n\\x10\\n\\x04ndwi\\x12\\x08\\x12\\x06\\n\\x04\\x14\\xfa\\x81\\xbe\\n\\x11\\n\\x05class\\x12\\x08\\x12\\x06\\n\\x04\\x00\\x00\\x00\\x00', shape=(), dtype=string)\n",
            "tf.Tensor(b'\\n\\xcb\\x01\\n\\x0e\\n\\x02B2\\x12\\x08\\x12\\x06\\n\\x04\\x16\\xb3\\x0f>\\n\\x0e\\n\\x02B3\\x12\\x08\\x12\\x06\\n\\x04\\xbf\\xbf\\xf6=\\n\\x0e\\n\\x02B4\\x12\\x08\\x12\\x06\\n\\x04\\x12i\\xe8=\\n\\x0e\\n\\x02B5\\x12\\x08\\x12\\x06\\n\\x04K\\xa1\\x06>\\n\\x0e\\n\\x02B6\\x12\\x08\\x12\\x06\\n\\x04S \\xc9=\\n\\x0e\\n\\x02B7\\x12\\x08\\x12\\x06\\n\\x04\\xb3\\x0f\\x89=\\n\\x10\\n\\x04B5_1\\x12\\x08\\x12\\x06\\n\\x04\\xa8\\xc3\\x02@\\n\\x10\\n\\x04ndvi\\x12\\x08\\x12\\x06\\n\\x04\\x03o\\x96=\\n\\x10\\n\\x04ndbi\\x12\\x08\\x12\\x06\\n\\x04\\xa6R\\x14\\xbe\\n\\x0e\\n\\x02bi\\x12\\x08\\x12\\x06\\n\\x04(\\x8a_\\xbe\\n\\x10\\n\\x04ndwi\\x12\\x08\\x12\\x06\\n\\x04\\x83\\x9e\\xd0=\\n\\x11\\n\\x05class\\x12\\x08\\x12\\x06\\n\\x04\\x00\\x00\\x00\\x00', shape=(), dtype=string)\n"
          ],
          "name": "stdout"
        }
      ]
    },
    {
      "cell_type": "code",
      "metadata": {
        "id": "lJiRlwiq3q4O",
        "colab": {
          "base_uri": "https://localhost:8080/"
        },
        "outputId": "29448cc7-9843-4777-d07f-3727734ad111"
      },
      "source": [
        "columns = [\n",
        "           tf.io.FixedLenFeature(shape=[1], dtype=tf.float32) for k in FEATURE_NAMES\n",
        "]\n",
        "\n",
        "features_dict = dict(zip(FEATURE_NAMES, columns))\n",
        "\n",
        "pprint(features_dict)"
      ],
      "execution_count": null,
      "outputs": [
        {
          "output_type": "stream",
          "text": [
            "{'B2': FixedLenFeature(shape=[1], dtype=tf.float32, default_value=None),\n",
            " 'B3': FixedLenFeature(shape=[1], dtype=tf.float32, default_value=None),\n",
            " 'B4': FixedLenFeature(shape=[1], dtype=tf.float32, default_value=None),\n",
            " 'B5': FixedLenFeature(shape=[1], dtype=tf.float32, default_value=None),\n",
            " 'B5_1': FixedLenFeature(shape=[1], dtype=tf.float32, default_value=None),\n",
            " 'B6': FixedLenFeature(shape=[1], dtype=tf.float32, default_value=None),\n",
            " 'B7': FixedLenFeature(shape=[1], dtype=tf.float32, default_value=None),\n",
            " 'bi': FixedLenFeature(shape=[1], dtype=tf.float32, default_value=None),\n",
            " 'class': FixedLenFeature(shape=[1], dtype=tf.float32, default_value=None),\n",
            " 'ndbi': FixedLenFeature(shape=[1], dtype=tf.float32, default_value=None),\n",
            " 'ndvi': FixedLenFeature(shape=[1], dtype=tf.float32, default_value=None),\n",
            " 'ndwi': FixedLenFeature(shape=[1], dtype=tf.float32, default_value=None)}\n"
          ],
          "name": "stdout"
        }
      ]
    },
    {
      "cell_type": "code",
      "metadata": {
        "id": "xnes6DPZTs8V",
        "colab": {
          "base_uri": "https://localhost:8080/"
        },
        "outputId": "f7f17f34-b6ed-4954-debf-ac85fee3dad3"
      },
      "source": [
        "def parse_tfrecord(example_proto):\n",
        "  parsed_features = tf.io.parse_single_example(example_proto, features_dict)\n",
        "  labels = parsed_features.pop(LABEL)\n",
        "  return parsed_features, tf.cast(labels, tf.int32)\n",
        "\n",
        "parsed_trainset = train_dataset.map(parse_tfrecord, num_parallel_calls=5)\n",
        "parsed_testset = test_dataset.map(parse_tfrecord, num_parallel_calls=5)\n",
        "\n",
        "pprint(iter(parsed_trainset))\n",
        "pprint(iter(parsed_testset))"
      ],
      "execution_count": null,
      "outputs": [
        {
          "output_type": "stream",
          "text": [
            "<tensorflow.python.data.ops.iterator_ops.OwnedIterator object at 0x7f3f8c426910>\n",
            "<tensorflow.python.data.ops.iterator_ops.OwnedIterator object at 0x7f3f8c426910>\n"
          ],
          "name": "stdout"
        }
      ]
    },
    {
      "cell_type": "code",
      "metadata": {
        "id": "1tcHrlkuU1_S"
      },
      "source": [
        "batch_size = 100\n",
        "\n",
        "def to_tuple(inputs, label):\n",
        "  return (tf.transpose(list(inputs.values())), tf.one_hot(indices=label, depth=N_CLASSES))\n",
        "\n",
        "input_dataset = parsed_trainset.map(to_tuple).batch(batch_size)\n",
        "validate_dataset = parsed_testset.map(to_tuple).batch(batch_size)\n"
      ],
      "execution_count": null,
      "outputs": []
    },
    {
      "cell_type": "code",
      "metadata": {
        "id": "694bORamYglL"
      },
      "source": [
        "model = tf.keras.models.Sequential([\n",
        "  tf.keras.layers.Dense(128, activation=tf.nn.relu),\n",
        "  tf.keras.layers.Dropout(0.1),\n",
        "  tf.keras.layers.Dense(64, activation=tf.nn.relu),\n",
        "  tf.keras.layers.Dropout(0.1),\n",
        "  tf.keras.layers.Dense(64, activation=tf.nn.relu),\n",
        "  tf.keras.layers.Dropout(0.1),\n",
        "  tf.keras.layers.Dense(64, activation=tf.nn.relu),\n",
        "  tf.keras.layers.Dense(64, activation=tf.nn.relu),\n",
        "  tf.keras.layers.Dense(N_CLASSES, activation=tf.nn.softmax)\n",
        "])"
      ],
      "execution_count": null,
      "outputs": []
    },
    {
      "cell_type": "code",
      "metadata": {
        "id": "oS81n0jVZKbU"
      },
      "source": [
        "model.compile(optimizer= tf.keras.optimizers.Adam(\n",
        "    learning_rate=0.0001),\n",
        "    loss='categorical_crossentropy',\n",
        "    metrics=['accuracy', 'mse']\n",
        ")"
      ],
      "execution_count": null,
      "outputs": []
    },
    {
      "cell_type": "code",
      "metadata": {
        "id": "tJ6GHY6qZOjt",
        "colab": {
          "base_uri": "https://localhost:8080/"
        },
        "outputId": "cb83e779-7537-48b1-bf41-2f99a8dd0cb1"
      },
      "source": [
        "\n",
        "from keras.callbacks import ModelCheckpoint\n",
        "from keras.callbacks import LearningRateScheduler\n",
        "\n",
        "log_d = MY_DRIVE_PATH + '/' + FOLDER_NAME + '/' + 'model'\n",
        "os.makedirs(log_d, exist_ok=True)\n",
        "\n",
        "def build_callbacks():\n",
        "    checkpointer = ModelCheckpoint(filepath = log_d, verbose=0, save_best_only=True, monitor='val_loss')\n",
        "    callbacks = [checkpointer]\n",
        "    return callbacks\n",
        "history = model.fit(x=input_dataset,validation_data=(validate_dataset), epochs=20, callbacks=build_callbacks())"
      ],
      "execution_count": null,
      "outputs": [
        {
          "output_type": "stream",
          "text": [
            "Epoch 1/20\n",
            "160/160 [==============================] - 4s 16ms/step - loss: 1.3734 - accuracy: 0.3564 - mse: 0.1859 - val_loss: 1.3025 - val_accuracy: 0.4832 - val_mse: 0.1771\n",
            "INFO:tensorflow:Assets written to: /content/drive/MyDrive/rohit_Laguna Lake_2019_2019/model/assets\n",
            "Epoch 2/20\n",
            "160/160 [==============================] - 2s 14ms/step - loss: 1.3108 - accuracy: 0.5452 - mse: 0.1782 - val_loss: 1.1519 - val_accuracy: 0.7127 - val_mse: 0.1569\n",
            "INFO:tensorflow:Assets written to: /content/drive/MyDrive/rohit_Laguna Lake_2019_2019/model/assets\n",
            "Epoch 3/20\n",
            "160/160 [==============================] - 2s 13ms/step - loss: 1.1560 - accuracy: 0.5824 - mse: 0.1574 - val_loss: 0.8708 - val_accuracy: 0.7351 - val_mse: 0.1159\n",
            "INFO:tensorflow:Assets written to: /content/drive/MyDrive/rohit_Laguna Lake_2019_2019/model/assets\n",
            "Epoch 4/20\n",
            "160/160 [==============================] - 2s 14ms/step - loss: 0.8573 - accuracy: 0.6028 - mse: 0.1146 - val_loss: 0.6561 - val_accuracy: 0.7371 - val_mse: 0.0894\n",
            "INFO:tensorflow:Assets written to: /content/drive/MyDrive/rohit_Laguna Lake_2019_2019/model/assets\n",
            "Epoch 5/20\n",
            "160/160 [==============================] - 2s 14ms/step - loss: 0.6872 - accuracy: 0.6151 - mse: 0.0974 - val_loss: 0.5664 - val_accuracy: 0.7356 - val_mse: 0.0802\n",
            "INFO:tensorflow:Assets written to: /content/drive/MyDrive/rohit_Laguna Lake_2019_2019/model/assets\n",
            "Epoch 6/20\n",
            "160/160 [==============================] - 2s 14ms/step - loss: 0.6277 - accuracy: 0.6457 - mse: 0.0935 - val_loss: 0.5196 - val_accuracy: 0.7384 - val_mse: 0.0755\n",
            "INFO:tensorflow:Assets written to: /content/drive/MyDrive/rohit_Laguna Lake_2019_2019/model/assets\n",
            "Epoch 7/20\n",
            "160/160 [==============================] - 2s 12ms/step - loss: 0.5984 - accuracy: 0.6651 - mse: 0.0919 - val_loss: 0.4897 - val_accuracy: 0.7787 - val_mse: 0.0721\n",
            "INFO:tensorflow:Assets written to: /content/drive/MyDrive/rohit_Laguna Lake_2019_2019/model/assets\n",
            "Epoch 8/20\n",
            "160/160 [==============================] - 2s 14ms/step - loss: 0.5874 - accuracy: 0.6827 - mse: 0.0919 - val_loss: 0.4709 - val_accuracy: 0.7987 - val_mse: 0.0698\n",
            "INFO:tensorflow:Assets written to: /content/drive/MyDrive/rohit_Laguna Lake_2019_2019/model/assets\n",
            "Epoch 9/20\n",
            "160/160 [==============================] - 2s 12ms/step - loss: 0.5738 - accuracy: 0.6898 - mse: 0.0917 - val_loss: 0.4570 - val_accuracy: 0.8106 - val_mse: 0.0679\n",
            "INFO:tensorflow:Assets written to: /content/drive/MyDrive/rohit_Laguna Lake_2019_2019/model/assets\n",
            "Epoch 10/20\n",
            "160/160 [==============================] - 2s 14ms/step - loss: 0.5648 - accuracy: 0.7011 - mse: 0.0904 - val_loss: 0.4463 - val_accuracy: 0.8183 - val_mse: 0.0663\n",
            "INFO:tensorflow:Assets written to: /content/drive/MyDrive/rohit_Laguna Lake_2019_2019/model/assets\n",
            "Epoch 11/20\n",
            "160/160 [==============================] - 2s 14ms/step - loss: 0.5621 - accuracy: 0.7056 - mse: 0.0905 - val_loss: 0.4384 - val_accuracy: 0.8213 - val_mse: 0.0651\n",
            "INFO:tensorflow:Assets written to: /content/drive/MyDrive/rohit_Laguna Lake_2019_2019/model/assets\n",
            "Epoch 12/20\n",
            "160/160 [==============================] - 2s 13ms/step - loss: 0.5557 - accuracy: 0.7141 - mse: 0.0893 - val_loss: 0.4319 - val_accuracy: 0.8256 - val_mse: 0.0641\n",
            "INFO:tensorflow:Assets written to: /content/drive/MyDrive/rohit_Laguna Lake_2019_2019/model/assets\n",
            "Epoch 13/20\n",
            "160/160 [==============================] - 2s 12ms/step - loss: 0.5539 - accuracy: 0.7202 - mse: 0.0893 - val_loss: 0.4245 - val_accuracy: 0.8283 - val_mse: 0.0629\n",
            "INFO:tensorflow:Assets written to: /content/drive/MyDrive/rohit_Laguna Lake_2019_2019/model/assets\n",
            "Epoch 14/20\n",
            "160/160 [==============================] - 2s 12ms/step - loss: 0.5508 - accuracy: 0.7222 - mse: 0.0884 - val_loss: 0.4179 - val_accuracy: 0.8345 - val_mse: 0.0619\n",
            "INFO:tensorflow:Assets written to: /content/drive/MyDrive/rohit_Laguna Lake_2019_2019/model/assets\n",
            "Epoch 15/20\n",
            "160/160 [==============================] - 2s 14ms/step - loss: 0.5437 - accuracy: 0.7295 - mse: 0.0869 - val_loss: 0.4155 - val_accuracy: 0.8358 - val_mse: 0.0615\n",
            "INFO:tensorflow:Assets written to: /content/drive/MyDrive/rohit_Laguna Lake_2019_2019/model/assets\n",
            "Epoch 16/20\n",
            "160/160 [==============================] - 2s 14ms/step - loss: 0.5379 - accuracy: 0.7333 - mse: 0.0861 - val_loss: 0.4097 - val_accuracy: 0.8360 - val_mse: 0.0606\n",
            "INFO:tensorflow:Assets written to: /content/drive/MyDrive/rohit_Laguna Lake_2019_2019/model/assets\n",
            "Epoch 17/20\n",
            "160/160 [==============================] - 2s 12ms/step - loss: 0.5367 - accuracy: 0.7330 - mse: 0.0861 - val_loss: 0.4070 - val_accuracy: 0.8378 - val_mse: 0.0602\n",
            "INFO:tensorflow:Assets written to: /content/drive/MyDrive/rohit_Laguna Lake_2019_2019/model/assets\n",
            "Epoch 18/20\n",
            "160/160 [==============================] - 2s 14ms/step - loss: 0.5297 - accuracy: 0.7453 - mse: 0.0842 - val_loss: 0.4011 - val_accuracy: 0.8405 - val_mse: 0.0593\n",
            "INFO:tensorflow:Assets written to: /content/drive/MyDrive/rohit_Laguna Lake_2019_2019/model/assets\n",
            "Epoch 19/20\n",
            "160/160 [==============================] - 2s 14ms/step - loss: 0.5260 - accuracy: 0.7430 - mse: 0.0839 - val_loss: 0.3972 - val_accuracy: 0.8430 - val_mse: 0.0586\n",
            "INFO:tensorflow:Assets written to: /content/drive/MyDrive/rohit_Laguna Lake_2019_2019/model/assets\n",
            "Epoch 20/20\n",
            "160/160 [==============================] - 2s 14ms/step - loss: 0.5186 - accuracy: 0.7515 - mse: 0.0820 - val_loss: 0.3939 - val_accuracy: 0.8438 - val_mse: 0.0581\n",
            "INFO:tensorflow:Assets written to: /content/drive/MyDrive/rohit_Laguna Lake_2019_2019/model/assets\n"
          ],
          "name": "stdout"
        }
      ]
    },
    {
      "cell_type": "code",
      "metadata": {
        "id": "VD3oemUAgGcM",
        "colab": {
          "base_uri": "https://localhost:8080/",
          "height": 573
        },
        "outputId": "aa6151d2-5765-4dd6-d630-443bb9666f30"
      },
      "source": [
        "import matplotlib.pyplot as plt\n",
        "# summarize history for accuracy\n",
        "plt.plot(history.history['accuracy'])\n",
        "plt.plot(history.history['val_accuracy'])\n",
        "plt.title('model accuracy')\n",
        "plt.ylabel('accuracy')\n",
        "plt.xlabel('epoch')\n",
        "plt.legend(['train', 'test'], loc='upper left')\n",
        "plt.show()\n",
        "# summarize history for loss\n",
        "plt.plot(history.history['loss'])\n",
        "plt.plot(history.history['val_loss'])\n",
        "plt.title('model loss')\n",
        "plt.ylabel('loss')\n",
        "plt.xlabel('epoch')\n",
        "plt.legend(['train', 'test'], loc='upper left')\n",
        "plt.show()"
      ],
      "execution_count": null,
      "outputs": [
        {
          "output_type": "display_data",
          "data": {
            "image/png": "[encoded data removed]",
            "text/plain": [
              "<Figure size 432x288 with 1 Axes>"
            ]
          },
          "metadata": {
            "tags": [],
            "needs_background": "light"
          }
        },
        {
          "output_type": "display_data",
          "data": {
            "image/png": "[encoded data removed]",
            "text/plain": [
              "<Figure size 432x288 with 1 Axes>"
            ]
          },
          "metadata": {
            "tags": [],
            "needs_background": "light"
          }
        }
      ]
    },
    {
      "cell_type": "code",
      "metadata": {
        "id": "MNb394HLdF1c",
        "colab": {
          "base_uri": "https://localhost:8080/"
        },
        "outputId": "27adddb6-ac3f-40a3-e46b-33a57f1e3f8f"
      },
      "source": [
        " model.evaluate(validate_dataset)"
      ],
      "execution_count": null,
      "outputs": [
        {
          "output_type": "stream",
          "text": [
            "41/41 [==============================] - 0s 9ms/step - loss: 0.3939 - accuracy: 0.8438 - mse: 0.0581\n"
          ],
          "name": "stdout"
        },
        {
          "output_type": "execute_result",
          "data": {
            "text/plain": [
              "[0.39388570189476013, 0.8437578082084656, 0.0581221766769886]"
            ]
          },
          "metadata": {
            "tags": []
          },
          "execution_count": 30
        }
      ]
    },
    {
      "cell_type": "code",
      "metadata": {
        "id": "vCfGLPzQhKE1"
      },
      "source": [
        "image_export_options = {\n",
        "    'patchDimensions': [patch_size, patch_size],\n",
        "    'maxFileSize': 104857600,\n",
        "    'compressed': True\n",
        "}\n",
        "\n",
        "image_task = ee.batch.Export.image.toDrive(\n",
        "  image=out_image_texture,\n",
        "  description='Image Export',\n",
        "  fileNamePrefix= IMAGE_FILE_PREFIX,\n",
        "  folder= FOLDER_NAME,\n",
        "  scale=spatial_resolution,\n",
        "  fileFormat='TFRecord',\n",
        "  region=out_ext_buffer,\n",
        "  formatOptions=image_export_options,\n",
        ")\n",
        "\n",
        "image_task.start()"
      ],
      "execution_count": null,
      "outputs": []
    },
    {
      "cell_type": "code",
      "metadata": {
        "id": "q7UiBAvvjnlF",
        "colab": {
          "base_uri": "https://localhost:8080/"
        },
        "outputId": "624512af-55bc-4703-dd49-d5c7bfa7920c"
      },
      "source": [
        "while image_task.active():\n",
        "  print('Polling for task (id: {}).'.format(image_task.id))\n",
        "  time.sleep(20)\n",
        "print('Done with image export.')"
      ],
      "execution_count": null,
      "outputs": [
        {
          "output_type": "stream",
          "text": [
            "Polling for task (id: MVVDQJCRWXULMD62HHVGZGCK).\n",
            "Polling for task (id: MVVDQJCRWXULMD62HHVGZGCK).\n",
            "Polling for task (id: MVVDQJCRWXULMD62HHVGZGCK).\n",
            "Polling for task (id: MVVDQJCRWXULMD62HHVGZGCK).\n",
            "Polling for task (id: MVVDQJCRWXULMD62HHVGZGCK).\n",
            "Done with image export.\n"
          ],
          "name": "stdout"
        }
      ]
    },
    {
      "cell_type": "code",
      "metadata": {
        "colab": {
          "base_uri": "https://localhost:8080/"
        },
        "id": "NQfKDvknu6Fq",
        "outputId": "e4af8eb2-517f-451f-86b4-eff2b69fec75"
      },
      "source": [
        "time.sleep(10)\n",
        "drive.mount('/content/drive', force_remount=True)"
      ],
      "execution_count": null,
      "outputs": [
        {
          "output_type": "stream",
          "text": [
            "Mounted at /content/drive\n"
          ],
          "name": "stdout"
        }
      ]
    },
    {
      "cell_type": "code",
      "metadata": {
        "id": "VGbbvGEyj59c",
        "colab": {
          "base_uri": "https://localhost:8080/"
        },
        "outputId": "eb9c0988-ea26-4e1f-bdae-42fb2c44d521"
      },
      "source": [
        "tfrecord_list = glob.glob(MY_DRIVE_PATH +'/' + FOLDER_NAME + '/' + '*.tfrecord.gz')\n",
        "tfrecord_list.sort()\n",
        "print(tfrecord_list)\n",
        "\n",
        "json_list = glob.glob(MY_DRIVE_PATH +'/' + FOLDER_NAME + '/' + '*.json')\n",
        "print(json_list)"
      ],
      "execution_count": null,
      "outputs": [
        {
          "output_type": "stream",
          "text": [
            "['/content/drive/MyDrive/rohit_Laguna Lake_2019_2019/demo_image-00000.tfrecord.gz']\n",
            "['/content/drive/MyDrive/rohit_Laguna Lake_2019_2019/demo_image-mixer.json']\n"
          ],
          "name": "stdout"
        }
      ]
    },
    {
      "cell_type": "code",
      "metadata": {
        "id": "GS1rNwK32zyR",
        "colab": {
          "base_uri": "https://localhost:8080/"
        },
        "outputId": "5028fb41-81ac-41b0-b594-110be5d1ff5c"
      },
      "source": [
        "with open(json_list[0], \"r\") as read_file:\n",
        "   mixer = json.load(read_file)\n",
        "\n",
        "mixer"
      ],
      "execution_count": null,
      "outputs": [
        {
          "output_type": "execute_result",
          "data": {
            "text/plain": [
              "{'patchDimensions': [256, 256],\n",
              " 'patchesPerRow': 4,\n",
              " 'projection': {'affine': {'doubleMatrix': [0.0008084837557075694,\n",
              "    0.0,\n",
              "    120.8650875432588,\n",
              "    0.0,\n",
              "    -0.0008084837557075694,\n",
              "    14.711170418854932]},\n",
              "  'crs': 'EPSG:4326'},\n",
              " 'totalPatches': 16}"
            ]
          },
          "metadata": {
            "tags": []
          },
          "execution_count": 38
        }
      ]
    },
    {
      "cell_type": "code",
      "metadata": {
        "id": "dNi0Q7yF4vMo"
      },
      "source": [
        "patch_width = mixer['patchDimensions'][0]\n",
        "patch_height = mixer['patchDimensions'][1]\n",
        "patches = mixer['totalPatches']\n",
        "patch_dimensions_flat = [patch_width*patch_height, 1]\n",
        "\n",
        "image_columns = [\n",
        "                tf.io.FixedLenFeature(shape=patch_dimensions_flat, dtype=tf.float32) for k in BANDS\n",
        "]\n",
        "\n",
        "image_features_dict = dict(zip(BANDS, image_columns))\n",
        "\n",
        "image_dataset = tf.data.TFRecordDataset(tfrecord_list, compression_type='GZIP')\n"
      ],
      "execution_count": null,
      "outputs": []
    },
    {
      "cell_type": "code",
      "metadata": {
        "id": "6N5glJOH6n6r"
      },
      "source": [
        "def parse_image(example_proto):\n",
        "  return tf.io.parse_single_example(example_proto, image_features_dict)"
      ],
      "execution_count": null,
      "outputs": []
    },
    {
      "cell_type": "code",
      "metadata": {
        "id": "cLzPjxt469t2"
      },
      "source": [
        "image_dataset = image_dataset.map(parse_image, num_parallel_calls=5)\n",
        "\n",
        "image_dataset = image_dataset.flat_map(\n",
        "    lambda features: tf.data.Dataset.from_tensor_slices(features)\n",
        ")\n",
        "\n",
        "image_dataset = image_dataset.map(\n",
        "  lambda data_dict: (tf.transpose(list(data_dict.values())), )\n",
        ")\n",
        "\n",
        "image_dataset = image_dataset.batch(patch_width * patch_height)"
      ],
      "execution_count": null,
      "outputs": []
    },
    {
      "cell_type": "code",
      "metadata": {
        "id": "wrb_7arg7dHU",
        "colab": {
          "base_uri": "https://localhost:8080/"
        },
        "outputId": "8004579c-cf0d-49b4-d421-df6464732ac1"
      },
      "source": [
        "predictions = model.predict(image_dataset, steps=patches, verbose=1)\n",
        "print(predictions[0])"
      ],
      "execution_count": null,
      "outputs": [
        {
          "output_type": "stream",
          "text": [
            "16/16 [==============================] - 52s 3s/step\n",
            "[[0.675144   0.07726908 0.14548449 0.10210237]]\n"
          ],
          "name": "stdout"
        }
      ]
    },
    {
      "cell_type": "code",
      "metadata": {
        "id": "JLZ-xaCa7wth",
        "colab": {
          "base_uri": "https://localhost:8080/"
        },
        "outputId": "84036d37-3cac-4a84-de5e-ee6316659f80"
      },
      "source": [
        "writer = tf.io.TFRecordWriter(OUTPUT_IMAGE_TFR)\n",
        "\n",
        "patch = [[]]\n",
        "cur_patch = 1\n",
        "for prediction in predictions:\n",
        "  patch[0].append(tf.argmax(prediction, 1))\n",
        "\n",
        "  if (len(patch[0])==patch_width*patch_height):\n",
        "    print('Done with Patch ' + str(cur_patch) + ' of ' + str(patches) + '...')\n",
        "    example = tf.train.Example(\n",
        "        features=tf.train.Features(\n",
        "            feature={\n",
        "                'prediction': tf.train.Feature(\n",
        "                    int64_list=tf.train.Int64List(\n",
        "                        value=patch[0]\n",
        "                    )\n",
        "                )\n",
        "            }\n",
        "        )\n",
        "    )\n",
        "\n",
        "    writer.write(example.SerializeToString())\n",
        "    patch=[[]]\n",
        "    cur_patch +=1\n",
        "  \n",
        "writer.close()"
      ],
      "execution_count": null,
      "outputs": [
        {
          "output_type": "stream",
          "text": [
            "Done with Patch 1 of 16...\n",
            "Done with Patch 2 of 16...\n",
            "Done with Patch 3 of 16...\n",
            "Done with Patch 4 of 16...\n",
            "Done with Patch 5 of 16...\n",
            "Done with Patch 6 of 16...\n",
            "Done with Patch 7 of 16...\n",
            "Done with Patch 8 of 16...\n",
            "Done with Patch 9 of 16...\n",
            "Done with Patch 10 of 16...\n",
            "Done with Patch 11 of 16...\n",
            "Done with Patch 12 of 16...\n",
            "Done with Patch 13 of 16...\n",
            "Done with Patch 14 of 16...\n",
            "Done with Patch 15 of 16...\n",
            "Done with Patch 16 of 16...\n"
          ],
          "name": "stdout"
        }
      ]
    },
    {
      "cell_type": "code",
      "metadata": {
        "colab": {
          "base_uri": "https://localhost:8080/"
        },
        "id": "RgMfcE4qBdIR",
        "outputId": "debf8096-25ac-4ce1-9232-45dc1816928f"
      },
      "source": [
        "record_iterator = tf.compat.v1.python_io.tf_record_iterator(path=OUTPUT_IMAGE_TFR)\n",
        "\n",
        "n_row = patches/mixer['patchesPerRow']\n",
        "n_col = mixer['patchesPerRow']\n",
        "current_row = 0\n",
        "current_col = 0\n",
        "counter = 0\n",
        "\n",
        "for string_record in record_iterator:\n",
        "  example = tf.train.Example()\n",
        "  example.ParseFromString(string_record)\n",
        "  values = np.array(example.features.feature['prediction'].int64_list.value).reshape(patch_width, patch_height).astype(np.int8)\n",
        "\n",
        "  if (current_col==0):\n",
        "    horizontal_strip = values\n",
        "  else:\n",
        "    horizontal_strip = np.concatenate([horizontal_strip, values], axis=1)\n",
        "  current_col += 1\n",
        "\n",
        "  if (current_col == n_col):\n",
        "    if (current_row==0):\n",
        "      image = horizontal_strip\n",
        "    else:\n",
        "      image = np.concatenate([image, horizontal_strip], axis=0)\n",
        "      horizontal_strip = []\n",
        "\n",
        "    current_row +=1\n",
        "    current_col = 0\n",
        "    print(counter)\n",
        "  counter +=1\n",
        "print(counter)"
      ],
      "execution_count": null,
      "outputs": [
        {
          "output_type": "stream",
          "text": [
            "WARNING:tensorflow:From <ipython-input-44-ba40c2cacaee>:1: tf_record_iterator (from tensorflow.python.lib.io.tf_record) is deprecated and will be removed in a future version.\n",
            "Instructions for updating:\n",
            "Use eager execution and: \n",
            "`tf.data.TFRecordDataset(path)`\n",
            "3\n",
            "7\n",
            "11\n",
            "15\n",
            "16\n"
          ],
          "name": "stdout"
        }
      ]
    },
    {
      "cell_type": "code",
      "metadata": {
        "colab": {
          "base_uri": "https://localhost:8080/",
          "height": 269
        },
        "id": "SNbWNYBIEMaX",
        "outputId": "498daa31-d2f0-4496-c37a-c6feb7fbff25"
      },
      "source": [
        "imgplot = plt.imshow(image, cmap=plt.get_cmap('jet'), vmin=0, vmax=1)\n",
        "plt.show()"
      ],
      "execution_count": null,
      "outputs": [
        {
          "output_type": "display_data",
          "data": {
            "image/png": "[encoded data removed]",
            "text/plain": [
              "<Figure size 432x288 with 1 Axes>"
            ]
          },
          "metadata": {
            "tags": [],
            "needs_background": "light"
          }
        }
      ]
    },
    {
      "cell_type": "code",
      "metadata": {
        "colab": {
          "base_uri": "https://localhost:8080/"
        },
        "id": "5nzvw12lEXc8",
        "outputId": "a4dd2b6c-6b4e-41f4-a3b6-415b1b2f480c"
      },
      "source": [
        "affine = mixer['projection']['affine']['doubleMatrix']\n",
        "geotransform = (affine[2], affine[0], affine[1], affine[5], affine[3], affine[4])\n",
        "crs = int(mixer['projection']['crs'][-4:])\n",
        "print(affine)\n",
        "print(geotransform)\n",
        "print(crs)"
      ],
      "execution_count": null,
      "outputs": [
        {
          "output_type": "stream",
          "text": [
            "[0.0008084837557075694, 0.0, 120.8650875432588, 0.0, -0.0008084837557075694, 14.711170418854932]\n",
            "(120.8650875432588, 0.0008084837557075694, 0.0, 14.711170418854932, 0.0, -0.0008084837557075694)\n",
            "4326\n"
          ],
          "name": "stdout"
        }
      ]
    },
    {
      "cell_type": "code",
      "metadata": {
        "colab": {
          "base_uri": "https://localhost:8080/"
        },
        "id": "PdAD6NJyFzdP",
        "outputId": "737798e0-9fd6-4ce9-f277-be9e57656c63"
      },
      "source": [
        "ny, nx = image.shape\n",
        "dst_ds = gdal.GetDriverByName('GTiff').Create(OUTPUT_IMAGE_TIF, nx, ny, 1, gdal.GDT_Byte)\n",
        "dst_ds.SetGeoTransform(tuple(geotransform))\n",
        "srs = osr.SpatialReference()\n",
        "srs.ImportFromEPSG(crs)\n",
        "dst_ds.SetProjection(srs.ExportToWkt())\n",
        "dst_ds.GetRasterBand(1).WriteArray(image)\n",
        "dst_ds.FlushCache()\n",
        "dst_ds = None\n",
        "\n",
        "print(\"Exorting \" + OUTPUT_IMAGE_TIF + \" completed.\")"
      ],
      "execution_count": null,
      "outputs": [
        {
          "output_type": "stream",
          "text": [
            "Exorting /content/drive/MyDrive/rohit_Laguna Lake_2019_2019/Laguna Lake_2019_2019.tif completed.\n"
          ],
          "name": "stdout"
        }
      ]
    },
    {
      "cell_type": "code",
      "metadata": {
        "id": "L1eCb4yIlZcR"
      },
      "source": [
        "fcc_image = out_image.select(landsat_params['FCCbands'])\n",
        "fcc_prefix = city_name + '_' + str(year_begin) + '_' + str(year_end)+'_fcc'\n",
        "\n",
        "fcc_task = ee.batch.Export.image.toDrive(**{\n",
        "    'image': fcc_image,\n",
        "    'description': fcc_prefix,\n",
        "    'folder': FOLDER_NAME,\n",
        "    'fileNamePrefix': fcc_prefix,\n",
        "    'scale': spatial_resolution,\n",
        "    'region': out_ext\n",
        "})\n",
        "fcc_task.start()"
      ],
      "execution_count": null,
      "outputs": []
    },
    {
      "cell_type": "code",
      "metadata": {
        "colab": {
          "base_uri": "https://localhost:8080/"
        },
        "id": "o7jLFSe-nYHz",
        "outputId": "175be74d-bf2b-4b38-a45c-dcae782917d5"
      },
      "source": [
        "while fcc_task.active():\n",
        "  print('Polling for task (id: {}).'.format(fcc_task.id))\n",
        "  time.sleep(20)\n",
        "print('Done with fcc image export.')"
      ],
      "execution_count": null,
      "outputs": [
        {
          "output_type": "stream",
          "text": [
            "Polling for task (id: RSOTNVYWL63DUHIOOHIRF225).\n",
            "Polling for task (id: RSOTNVYWL63DUHIOOHIRF225).\n",
            "Polling for task (id: RSOTNVYWL63DUHIOOHIRF225).\n",
            "Done with fcc image export.\n"
          ],
          "name": "stdout"
        }
      ]
    },
    {
      "cell_type": "code",
      "metadata": {
        "id": "Qi_6iYZeHclU",
        "colab": {
          "base_uri": "https://localhost:8080/"
        },
        "outputId": "9847e183-616d-432b-b11b-bc7a2b11e4c9"
      },
      "source": [
        "time.sleep(5)\n",
        "drive.mount('/content/drive', force_remount=True)"
      ],
      "execution_count": null,
      "outputs": [
        {
          "output_type": "stream",
          "text": [
            "Mounted at /content/drive\n"
          ],
          "name": "stdout"
        }
      ]
    },
    {
      "cell_type": "code",
      "metadata": {
        "colab": {
          "base_uri": "https://localhost:8080/",
          "height": 35
        },
        "id": "mZbpkBfh2rZ9",
        "outputId": "7bc40c62-1a75-4cec-a14d-5b0b80e9a09c"
      },
      "source": [
        "lc_dir = MY_DRIVE_PATH + '/' + FOLDER_NAME + '/lc_map'\n",
        "fcc_path = MY_DRIVE_PATH + '/' + FOLDER_NAME + '/'+ fcc_prefix+'.tif'\n",
        "ref_dir = MY_DRIVE_PATH + '/' + FOLDER_NAME + '/ref_map'\n",
        "\n",
        "os.makedirs(lc_dir, exist_ok = True)\n",
        "os.makedirs(ref_dir, exist_ok = True)\n",
        "\n",
        "shutil.move(OUTPUT_IMAGE_TIF, lc_dir)\n",
        "shutil.move(OUTPUT_IMAGE_TFR, lc_dir)\n",
        "shutil.move(fcc_path, ref_dir)"
      ],
      "execution_count": null,
      "outputs": [
        {
          "output_type": "execute_result",
          "data": {
            "application/vnd.google.colaboratory.intrinsic+json": {
              "type": "string"
            },
            "text/plain": [
              "'/content/drive/MyDrive/rohit_Laguna Lake_2019_2019/ref_map/Laguna Lake_2019_2019_fcc.tif'"
            ]
          },
          "metadata": {
            "tags": []
          },
          "execution_count": 51
        }
      ]
    },
    {
      "cell_type": "code",
      "metadata": {
        "id": "e5kyPo5tXKiC",
        "colab": {
          "base_uri": "https://localhost:8080/",
          "height": 52
        },
        "outputId": "7e3fc308-db32-42c2-ea49-38df23255af7"
      },
      "source": [
        "drive.mount('/content/drive', force_remount=True)\n",
        "shutil.move(FOLDER_PATH, SHARED_DRIVE_PATH)"
      ],
      "execution_count": null,
      "outputs": [
        {
          "output_type": "stream",
          "text": [
            "Mounted at /content/drive\n"
          ],
          "name": "stdout"
        },
        {
          "output_type": "execute_result",
          "data": {
            "application/vnd.google.colaboratory.intrinsic+json": {
              "type": "string"
            },
            "text/plain": [
              "'/content/drive/Shareddrives/Miyazaki Lab./Laguna Lake NN/rohit_Laguna Lake_2019_2019'"
            ]
          },
          "metadata": {
            "tags": []
          },
          "execution_count": 52
        }
      ]
    },
    {
      "cell_type": "code",
      "metadata": {
        "id": "ANM28tXzpvaL"
      },
      "source": [
        ""
      ],
      "execution_count": null,
      "outputs": []
    }
  ]
}